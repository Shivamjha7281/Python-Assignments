{
 "cells": [
  {
   "cell_type": "markdown",
   "id": "98c1d973-1dae-4362-b488-ebcdc6b0510c",
   "metadata": {},
   "source": [
    "***Python Basics Questions***"
   ]
  },
  {
   "cell_type": "markdown",
   "id": "4a6fb0f0-d3cd-4fa3-8001-567266b6c904",
   "metadata": {},
   "source": [
    "**1. What is Python, and why is it popular?**"
   ]
  },
  {
   "cell_type": "markdown",
   "id": "fb422aaf-c8f0-4461-8e86-22a6b3f3ea72",
   "metadata": {},
   "source": [
    "Python is a high-level, interpreted programming language renowned for its clear syntax and extensive standard library.Python's widespread adoption by leading organizations and its integration into numerous enterprise solutions solidify its position as a reliable and scalable programming language.\n",
    "\n",
    "Python is popular because of Python's widespread adoption by leading organizations and its integration into numerous enterprise solutions solidify its position as a reliable and scalable programming language."
   ]
  },
  {
   "cell_type": "markdown",
   "id": "93cd865a-ea5b-4fad-9690-a2dd42722a81",
   "metadata": {},
   "source": [
    "**2. What is an interpreter in Python?**"
   ]
  },
  {
   "cell_type": "markdown",
   "id": "46990f2f-28fb-4a49-9542-5aee27013345",
   "metadata": {},
   "source": [
    "An interpreter in Python is a program that executes Python code line by line, converting it into machine code that the computer can understand. Interpreter Converts the source code into tokens."
   ]
  },
  {
   "cell_type": "markdown",
   "id": "622396d9-6de3-430c-8479-9d43432a4ca2",
   "metadata": {},
   "source": [
    "**3. What are pre-defined keywords in Python?**"
   ]
  },
  {
   "cell_type": "markdown",
   "id": "7eb0b2b2-c709-40e1-8d91-75d20c3083e1",
   "metadata": {},
   "source": [
    "pre-defined keywords\" are reserved words that have specific meanings and purposes within the python's syntax.hese keywords cannot be used as identifiers (like variable names, function names, or class names).\n",
    "Python keywords:\n",
    "* if, else, elif - Used for conditional statements\n",
    "* for, while - Used for loops\n",
    "* and, or and not - for logical operations"
   ]
  },
  {
   "cell_type": "markdown",
   "id": "c799b7f8-cbb1-4a2c-82e6-7a8b0de7a063",
   "metadata": {},
   "source": [
    "**4. Can keywords be used as variable names?**"
   ]
  },
  {
   "cell_type": "markdown",
   "id": "672c761b-19cb-4ca6-940f-5cc3540f1cab",
   "metadata": {},
   "source": [
    "No, keywords cannot be used as variable names in python. keywords are reserved words that have a predefined meaning in python. if we use keywords as a variable names, the compiler or interpreter would become confused. This would lead to syntax errors and make the code unreadable."
   ]
  },
  {
   "cell_type": "markdown",
   "id": "ea6f8dcc-0e2a-40dc-8b0b-8f36bdafb7d4",
   "metadata": {},
   "source": [
    "**5. What is mutability in Python?**"
   ]
  },
  {
   "cell_type": "markdown",
   "id": "0b829d42-9590-47ad-b4d8-6aeb5d84b4fb",
   "metadata": {},
   "source": [
    "In Python, \"mutability\" refers to whether an object's value can be changed after it's created.Lists, dictionaries, and sets are mutable data types. if we do changes in these objects directly affect all references to them."
   ]
  },
  {
   "cell_type": "markdown",
   "id": "edfb4eda-023e-4f8d-b793-72293bc2eb9e",
   "metadata": {},
   "source": [
    "**6. Why are lists mutable, but tuples are immutable?**"
   ]
  },
  {
   "cell_type": "markdown",
   "id": "cbe3e91d-e58f-46d1-813b-9013df65a07b",
   "metadata": {},
   "source": [
    "The difference in mutability between lists and tuples in Python stems from their design purposes and the trade-offs involved.\n",
    "* Lists are designed for collections of items that may need to change but Tuples are intended for collections of items that should remain constant. \n",
    "* Lists mutability allows for dynamic operations like adding, removing, or modifying elements.\n",
    "* Tuples immutability provides data integrity, ensuring that the contents cannot be accidentally changed."
   ]
  },
  {
   "cell_type": "markdown",
   "id": "87e3b556-09a2-4775-8d21-5201ee25db4e",
   "metadata": {},
   "source": [
    "**7. What is the difference between “==” and “is” operators in Python?**"
   ]
  },
  {
   "cell_type": "markdown",
   "id": "7867e451-a425-4e84-9629-ba5287310a0c",
   "metadata": {},
   "source": [
    "* The \"==\" and \"is\" operators in Python serve distinct purposes when comparing objects.\n",
    "* \"is\" operator checks if two variables refer to the same object in memory.\n",
    "* \"==\" asks \"Do these things have the same content?\"\n",
    "* \"is\" asks \"Are these the exact same thing?\""
   ]
  },
  {
   "cell_type": "markdown",
   "id": "f51c8283-1a7b-45a0-932e-da7326231415",
   "metadata": {},
   "source": [
    "**8. What are logical operators in Python?**"
   ]
  },
  {
   "cell_type": "markdown",
   "id": "3f47f4a1-3f1c-475e-8b27-f6b56744de06",
   "metadata": {},
   "source": [
    "logical operators are used to combine conditional statements. They work with Boolean values (True or False) and return a Boolean result.\n",
    "Example:- and, or, not"
   ]
  },
  {
   "cell_type": "markdown",
   "id": "04578b8a-cd35-4e43-afd9-233a313349a2",
   "metadata": {},
   "source": [
    "**9. What is type casting in Python?**"
   ]
  },
  {
   "cell_type": "markdown",
   "id": "3e106aec-ae10-4f1f-a247-029efad51e47",
   "metadata": {},
   "source": [
    "Type casting, also known as type conversion, is the process of changing a variable from one data type to another.\n",
    "* Type casting allows you to use data in a different format when needed.\n",
    "* Type casting essential for performing operations that require specific data types.\n",
    "There are two types of type casting:\n",
    "1. Explicit Type Casting: In this type of type-casting we manually convert a data type using built-in functions like int(), float(), str(), etc.\n",
    "2. Implicit Type Casting: In this type of type-casting Python automatically converts a data type."
   ]
  },
  {
   "cell_type": "markdown",
   "id": "b362147c-b391-4878-b8f8-5624dd003d70",
   "metadata": {},
   "source": [
    "**10. What is the difference between implicit and explicit type casting?**"
   ]
  },
  {
   "cell_type": "markdown",
   "id": "462136b5-7e39-4fe4-8bab-fd5645ecc6a7",
   "metadata": {},
   "source": [
    "Implicit type casting:\n",
    "* Python automatically performs Implicit type casting.\n",
    "* Implicit type casting often happens when combining different data types, like adding an integer and a float.\n",
    "* Implicit type casting happens when the interpreter determines that a type conversion is necessary during an operation.\n"
   ]
  },
  {
   "cell_type": "markdown",
   "id": "fd984025-edfe-4c17-91ed-2e1d4ea0e0b0",
   "metadata": {},
   "source": [
    "Explicit type casting:\n",
    "* The programmer manually initiates explicit type casting.\n",
    "* Explicit type casting involves using built-in functions like int(), float(), str(), etc.\n",
    "* Explicit type conversion Used when you need to ensure a specific data type for an operation."
   ]
  },
  {
   "cell_type": "markdown",
   "id": "7308213f-f288-48fb-8179-611f4789b612",
   "metadata": {},
   "source": [
    "**11. What is the purpose of conditional statements in Python?**"
   ]
  },
  {
   "cell_type": "markdown",
   "id": "1585ca96-85d6-4207-ad6a-f2dad02d3275",
   "metadata": {},
   "source": [
    "The purpose of conditional statements in Python is to control the flow of execution in a program based on whether certain conditions are true or false.\n",
    "* Conditional Statements make your programs more flexible and adaptable by allowing them to handle various scenarios.\n",
    "* A simple example is to check if a number is positive, negative, or zero, and then perform different actions based on the result."
   ]
  },
  {
   "cell_type": "markdown",
   "id": "f877cc30-8a38-40f2-a21d-0fa9a2b9af57",
   "metadata": {},
   "source": [
    "**12. How does the elif statement work?**"
   ]
  },
  {
   "cell_type": "markdown",
   "id": "45c0dd1c-c462-47c4-b9e4-20f8b6d0d198",
   "metadata": {},
   "source": [
    "The elif statement in Python is used within conditional blocks to check multiple conditions sequentially.\n",
    "* The if statement starts the conditional block and checks its condition.\n",
    "* if the \"if\" condition is False, the program moves to the first \"elif\" statement.\n",
    "* If the elif condition is True, its corresponding block of code is executed, and the rest of the conditional block is skipped.\n",
    "* If the elif condition is False, the program moves to the next elif (if any).\n",
    "This continues down the chain of elif statements.\n",
    "An optional else statement can be placed at the end of the conditional block."
   ]
  },
  {
   "cell_type": "code",
   "execution_count": 24,
   "id": "5b8a6829-9778-4632-9743-a6e421ebdcd6",
   "metadata": {},
   "outputs": [
    {
     "name": "stdout",
     "output_type": "stream",
     "text": [
      "The number is positive.\n",
      "The number is negative.\n",
      "The number is zero.\n"
     ]
    }
   ],
   "source": [
    "def check_number(number):\n",
    "  if number > 0:\n",
    "    print(\"The number is positive.\")\n",
    "  elif number < 0:\n",
    "    print(\"The number is negative.\")\n",
    "  else:\n",
    "    print(\"The number is zero.\")\n",
    "check_number(19)   \n",
    "check_number(-5)    \n",
    "check_number(0)"
   ]
  },
  {
   "cell_type": "markdown",
   "id": "b61c7247-2ad2-487f-8cd1-299b5e602887",
   "metadata": {},
   "source": [
    "**13. What is the difference between for and while loops?**"
   ]
  },
  {
   "cell_type": "markdown",
   "id": "e34b26e3-8cfd-4109-80fa-67e2d11cf3d8",
   "metadata": {},
   "source": [
    "The difference between for and while loops in Python lies in how they control repetition."
   ]
  },
  {
   "cell_type": "markdown",
   "id": "ec348d60-5f08-48fc-892e-cf874ef45c6b",
   "metadata": {},
   "source": [
    "For loop:\n",
    "* For loop Iterates over a sequence like a list, tuple, string, or range or or other iterable object.\n",
    "* For loop Executes a block of code for each item in the sequence.\n",
    "* For loop is ideal for iterating through collections or ranges."
   ]
  },
  {
   "cell_type": "markdown",
   "id": "a09d9369-1704-420b-bc65-c62b1878ef0e",
   "metadata": {},
   "source": [
    "While loop:"
   ]
  },
  {
   "cell_type": "markdown",
   "id": "42cb2d66-7d46-4b72-b853-df17e01fdd1d",
   "metadata": {},
   "source": [
    "* While loop Executes a block of code as long as a specified condition is True.\n",
    "* In While loop requires careful management of the condition to avoid infinite loops.\n",
    "* while loops are for repeating actions based on a condition."
   ]
  },
  {
   "cell_type": "markdown",
   "id": "728d81fa-c74f-45d0-8953-fad109b06c6e",
   "metadata": {},
   "source": [
    "**14. Describe a scenario where a while loop is more suitable than a for loop.**"
   ]
  },
  {
   "cell_type": "markdown",
   "id": "6015e36f-cc30-4896-ae4b-af62188b251a",
   "metadata": {},
   "source": [
    "when you need to repeat a block of code until a specific condition is met, but you don't know in advance how many iterations will be required."
   ]
  },
  {
   "cell_type": "markdown",
   "id": "fd5cf121-d658-4caf-892d-52e3985f18d8",
   "metadata": {},
   "source": [
    "Scenario: User Input Validation"
   ]
  },
  {
   "cell_type": "markdown",
   "id": "80059a39-b91d-4a7c-b8e4-3abc7fe19769",
   "metadata": {},
   "source": [
    "Imagine we are writing a program that asks the user to enter a positive integer. You want to keep prompting the user until they provide valid input."
   ]
  },
  {
   "cell_type": "code",
   "execution_count": 48,
   "id": "df2185b5-e90c-49ad-95a7-690376eb74fb",
   "metadata": {},
   "outputs": [
    {
     "name": "stdin",
     "output_type": "stream",
     "text": [
      "Enter a positive integer:  -2\n"
     ]
    },
    {
     "name": "stdout",
     "output_type": "stream",
     "text": [
      "Invalid input. Please enter a positive integer.\n"
     ]
    },
    {
     "name": "stdin",
     "output_type": "stream",
     "text": [
      "Enter a positive integer:  -4\n"
     ]
    },
    {
     "name": "stdout",
     "output_type": "stream",
     "text": [
      "Invalid input. Please enter a positive integer.\n"
     ]
    },
    {
     "name": "stdin",
     "output_type": "stream",
     "text": [
      "Enter a positive integer:  3\n"
     ]
    },
    {
     "name": "stdout",
     "output_type": "stream",
     "text": [
      "You entered: 3\n"
     ]
    }
   ],
   "source": [
    "user_input = 0 \n",
    "\n",
    "while user_input <= 0:\n",
    "    try:\n",
    "        user_input = int(input(\"Enter a positive integer: \"))\n",
    "        if user_input <= 0:\n",
    "            print(\"Invalid input. Please enter a positive integer.\")\n",
    "    except ValueError:\n",
    "        print(\"Invalid input. Please enter an integer.\")\n",
    "\n",
    "print(f\"You entered: {user_input}\")"
   ]
  },
  {
   "cell_type": "code",
   "execution_count": null,
   "id": "f34b9fad-c019-447c-baca-9c23808dc127",
   "metadata": {},
   "outputs": [],
   "source": []
  },
  {
   "cell_type": "code",
   "execution_count": null,
   "id": "e3c283b5-a41a-4b16-8e9c-c757bc9ead69",
   "metadata": {},
   "outputs": [],
   "source": []
  },
  {
   "cell_type": "markdown",
   "id": "40efe2d3-eb23-4d21-8865-88af7ff7f2a7",
   "metadata": {},
   "source": [
    "***PRACTICAL QUESTIONS***"
   ]
  },
  {
   "cell_type": "code",
   "execution_count": null,
   "id": "4cd96a33-8d42-42ba-90f5-0506ceea3e78",
   "metadata": {},
   "outputs": [],
   "source": []
  },
  {
   "cell_type": "code",
   "execution_count": null,
   "id": "cbdf49f1-9ad1-4b72-84ec-c1b3a35f46c4",
   "metadata": {},
   "outputs": [],
   "source": []
  },
  {
   "cell_type": "markdown",
   "id": "1d4845fa-0f1d-4794-b786-a461a686f46c",
   "metadata": {},
   "source": [
    "**1. Write a Python program to print \"Hello, World!**"
   ]
  },
  {
   "cell_type": "code",
   "execution_count": 6,
   "id": "cfcafd5a-f8a1-4133-97aa-a53b4c4c87fc",
   "metadata": {},
   "outputs": [
    {
     "name": "stdout",
     "output_type": "stream",
     "text": [
      "Hello world\n"
     ]
    }
   ],
   "source": [
    "a=\"Hello world\"\n",
    "print(a)"
   ]
  },
  {
   "cell_type": "markdown",
   "id": "6d70be56-51f4-4e68-8b15-75f213285ffd",
   "metadata": {},
   "source": [
    "**2. Write a Python program that displays your name and age**"
   ]
  },
  {
   "cell_type": "code",
   "execution_count": 13,
   "id": "b65147e1-d694-4a5d-8a3a-e4c91bdd4b8a",
   "metadata": {},
   "outputs": [
    {
     "name": "stdout",
     "output_type": "stream",
     "text": [
      "Shivam\n",
      "22\n"
     ]
    }
   ],
   "source": [
    "Name=\"Shivam\"\n",
    "Age= 22\n",
    "print(Name)\n",
    "print(Age)"
   ]
  },
  {
   "cell_type": "markdown",
   "id": "5ce2914c-50f4-4594-bcc5-bdc66eb8d81c",
   "metadata": {},
   "source": [
    "**3. Write code to print all the pre-defined keywords in Python using the keyword library.**"
   ]
  },
  {
   "cell_type": "code",
   "execution_count": 24,
   "id": "6774ab9e-4c92-470a-852a-2cc0a2103ac3",
   "metadata": {},
   "outputs": [
    {
     "name": "stdout",
     "output_type": "stream",
     "text": [
      "['False', 'None', 'True', 'and', 'as', 'assert', 'async', 'await', 'break', 'class', 'continue', 'def', 'del', 'elif', 'else', 'except', 'finally', 'for', 'from', 'global', 'if', 'import', 'in', 'is', 'lambda', 'nonlocal', 'not', 'or', 'pass', 'raise', 'return', 'try', 'while', 'with', 'yield']\n"
     ]
    }
   ],
   "source": [
    "import keyword\n",
    "\n",
    "print(keyword.kwlist)"
   ]
  },
  {
   "cell_type": "markdown",
   "id": "a8866cb5-b493-4dfb-8034-dd4085630cf2",
   "metadata": {},
   "source": [
    "**4. Write a program that checks if a given word is a Python keyword.**"
   ]
  },
  {
   "cell_type": "code",
   "execution_count": 46,
   "id": "8750f357-d0ad-48da-95e2-9063de552071",
   "metadata": {},
   "outputs": [
    {
     "name": "stdin",
     "output_type": "stream",
     "text": [
      "Enter a word:  while\n"
     ]
    },
    {
     "name": "stdout",
     "output_type": "stream",
     "text": [
      "while is a keyword\n"
     ]
    }
   ],
   "source": [
    "import keyword # \n",
    "a= input(\"Enter a word: \") #this line will take input from user\n",
    "if keyword.iskeyword(a): # this line will check that user input is python keyword or not\n",
    "  print(a, \"is a keyword\") \n",
    "else:\n",
    "  print(a, \"is not a keyword\")"
   ]
  },
  {
   "cell_type": "markdown",
   "id": "799c3132-7338-41a0-a6a0-8a783b7734d9",
   "metadata": {},
   "source": [
    "**5. Create a list and tuple in Python, and demonstrate how attempting to change an element works differently\n",
    "for each.**"
   ]
  },
  {
   "cell_type": "code",
   "execution_count": 62,
   "id": "7a7ba544-35a7-430d-8a9e-2b35a8e09ad1",
   "metadata": {},
   "outputs": [
    {
     "name": "stdout",
     "output_type": "stream",
     "text": [
      "after changing in list ['Shivam', 'Satyam', 'Bunny']\n"
     ]
    }
   ],
   "source": [
    "list= [\"Shivam\", \"Ram\", \"Bunny\"] # this is a list\n",
    "tuple=(\"Mango\", \"Banana\", \"Apple\") #this is a tuple\n",
    "\n",
    "list[1]= \"Satyam\"\n",
    "print(\"after changing in list\", list)"
   ]
  },
  {
   "cell_type": "code",
   "execution_count": 64,
   "id": "8baa5f83-eadf-45b1-8de2-faaadcc8ed9a",
   "metadata": {},
   "outputs": [
    {
     "ename": "TypeError",
     "evalue": "'tuple' object does not support item assignment",
     "output_type": "error",
     "traceback": [
      "\u001b[1;31m---------------------------------------------------------------------------\u001b[0m",
      "\u001b[1;31mTypeError\u001b[0m                                 Traceback (most recent call last)",
      "Cell \u001b[1;32mIn[64], line 1\u001b[0m\n\u001b[1;32m----> 1\u001b[0m \u001b[38;5;28mtuple\u001b[39m[\u001b[38;5;241m1\u001b[39m]\u001b[38;5;241m=\u001b[39m \u001b[38;5;124m\"\u001b[39m\u001b[38;5;124mOrange\u001b[39m\u001b[38;5;124m\"\u001b[39m\n",
      "\u001b[1;31mTypeError\u001b[0m: 'tuple' object does not support item assignment"
     ]
    }
   ],
   "source": [
    "tuple[1]= \"Orange\" \n",
    "#when i am trying to change it is is showing me an error"
   ]
  },
  {
   "cell_type": "code",
   "execution_count": null,
   "id": "eb3900bf-68e2-42b0-9a87-f39e612b38c4",
   "metadata": {},
   "outputs": [],
   "source": []
  },
  {
   "cell_type": "markdown",
   "id": "01f22925-d766-4d77-b800-463f99715503",
   "metadata": {},
   "source": [
    "**6.Write a function to demonstrate the behavior of mutable and immutable arguments.**"
   ]
  },
  {
   "cell_type": "markdown",
   "id": "a978ec91-2e11-48c2-a02e-ee560483caf2",
   "metadata": {},
   "source": [
    "Immutable Argument :"
   ]
  },
  {
   "cell_type": "code",
   "execution_count": 9,
   "id": "2153115b-53a6-4d70-93be-ede411b59055",
   "metadata": {},
   "outputs": [
    {
     "name": "stdout",
     "output_type": "stream",
     "text": [
      "Before function call: 5\n",
      "Inside function: 15\n",
      "After function call: 5\n"
     ]
    }
   ],
   "source": [
    "def modify_immutable(x): # it will take one arguement which will call x inside the function\n",
    "    x += 10 # it will try to add 10 to the value of x\n",
    "    print(\"Inside function:\", x) # it will print the value of x inside the function\n",
    "\n",
    "a = 5 # outside the function this line creates a variable named a and assigns it the value 5\n",
    "print(\"Before function call:\", a) # this line prints the value of a before the function is called\n",
    "modify_immutable(a) # it will call the \"modity_immutable\" function and passes the value of a which 5 as the arguement \n",
    "print(\"After function call:\", a) # it will print the value of a after the function has finished"
   ]
  },
  {
   "cell_type": "markdown",
   "id": "ab0ec928-5e8e-4f01-a2f0-bfdb22230941",
   "metadata": {},
   "source": [
    "The value of a is 5 before the function is called.\n",
    "The function calculates 5 + 10 = 15 and prints it.\n",
    "The value of a is still 5 after the function is called."
   ]
  },
  {
   "cell_type": "markdown",
   "id": "4668cd2e-d22e-44c2-aa4a-3e7bc557a1c7",
   "metadata": {},
   "source": [
    "mutable arguement :"
   ]
  },
  {
   "cell_type": "code",
   "execution_count": 20,
   "id": "8f054ab6-ea9b-4643-bf98-8e8adb100760",
   "metadata": {},
   "outputs": [
    {
     "name": "stdout",
     "output_type": "stream",
     "text": [
      "Before: ['one', 'two']\n",
      "After: ['one', 'two', 'added']\n"
     ]
    }
   ],
   "source": [
    "def change_my_list(my_list): # it will make a list\n",
    "  my_list.append(\"added\")  # it will add \"added\" to the original lsit\n",
    "\n",
    "my_list_outside = [\"one\", \"two\"] # it will create a list outside the function\n",
    "print(\"Before:\", my_list_outside) # it will print the above list\n",
    "\n",
    "change_my_list(my_list_outside) # it will directly change my_list_outside\n",
    "\n",
    "print(\"After:\", my_list_outside) # it will print now modified list"
   ]
  },
  {
   "cell_type": "code",
   "execution_count": null,
   "id": "186ce605-8ee2-4e36-b02d-fe3f415081a8",
   "metadata": {},
   "outputs": [],
   "source": []
  },
  {
   "cell_type": "markdown",
   "id": "995fed6f-51ec-4970-a019-865e2b4a0689",
   "metadata": {},
   "source": [
    "**7. Write a program to demonstrate the use of logical operators.**"
   ]
  },
  {
   "cell_type": "code",
   "execution_count": 29,
   "id": "215ef042-3fc9-4815-a864-f0ae1dc6cb74",
   "metadata": {},
   "outputs": [
    {
     "name": "stdout",
     "output_type": "stream",
     "text": [
      "a and b: False\n",
      "a or b: True\n",
      "not a: False\n"
     ]
    }
   ],
   "source": [
    "a=True # a holds True\n",
    "b=False # b holds True\n",
    "print(\"a and b:\", a and b) # it will true only if both a and b are True\n",
    "print(\"a or b:\", a or b) # it will true if either a or b is true \n",
    "print(\"not a:\", not a) # it will give opposite of a (means flase)"
   ]
  },
  {
   "cell_type": "code",
   "execution_count": null,
   "id": "4dc68d2c-0447-4240-87ee-fdae653d2aea",
   "metadata": {},
   "outputs": [],
   "source": []
  },
  {
   "cell_type": "markdown",
   "id": "96ce3bdc-3052-4564-a9fd-acea1ea9917c",
   "metadata": {},
   "source": [
    "**8. Write a Python program to convert user input from string to integer, float, and boolean types.**"
   ]
  },
  {
   "cell_type": "code",
   "execution_count": 118,
   "id": "24dc8fd0-eea2-46ca-aeb1-afc685cc6192",
   "metadata": {},
   "outputs": [
    {
     "name": "stdin",
     "output_type": "stream",
     "text": [
      "Enter a value= 5\n"
     ]
    },
    {
     "name": "stdout",
     "output_type": "stream",
     "text": [
      "5\n",
      "befor conversion:\n"
     ]
    },
    {
     "data": {
      "text/plain": [
       "str"
      ]
     },
     "execution_count": 118,
     "metadata": {},
     "output_type": "execute_result"
    }
   ],
   "source": [
    "user_input=input(\"Enter a value=\")\n",
    "print(user_input)\n",
    "\n",
    "print(\"befor conversion:\")\n",
    "type(user_input)"
   ]
  },
  {
   "cell_type": "code",
   "execution_count": 124,
   "id": "5bef6a9c-5f58-4369-ab6f-aeb0581305f1",
   "metadata": {},
   "outputs": [
    {
     "name": "stdout",
     "output_type": "stream",
     "text": [
      "after conversion in int:\n"
     ]
    },
    {
     "data": {
      "text/plain": [
       "int"
      ]
     },
     "execution_count": 124,
     "metadata": {},
     "output_type": "execute_result"
    }
   ],
   "source": [
    "# converting string to int\n",
    "print(\"after conversion in int:\")\n",
    "int_value=int(user_input)\n",
    "type(int_value)"
   ]
  },
  {
   "cell_type": "code",
   "execution_count": 128,
   "id": "d05cc5f2-6fc0-477f-b22d-4a3ee24bb47d",
   "metadata": {},
   "outputs": [
    {
     "name": "stdout",
     "output_type": "stream",
     "text": [
      "after conversion in float\n",
      "5.0\n"
     ]
    }
   ],
   "source": [
    "# converting string to float\n",
    "print(\"after conversion in float\")\n",
    "float_value=float(user_input)\n",
    "print(float_value)"
   ]
  },
  {
   "cell_type": "code",
   "execution_count": 132,
   "id": "428cc399-ef71-4dc0-a166-40b29fd6b695",
   "metadata": {},
   "outputs": [
    {
     "name": "stdout",
     "output_type": "stream",
     "text": [
      "after conversion in boolean\n",
      "True\n"
     ]
    }
   ],
   "source": [
    "#converting string to boolean\n",
    "print(\"after conversion in boolean\")\n",
    "bool_value=bool(user_input)\n",
    "print(bool_value)"
   ]
  },
  {
   "cell_type": "code",
   "execution_count": null,
   "id": "1612a54f-b110-45a9-8482-642bcb22f9e3",
   "metadata": {},
   "outputs": [],
   "source": []
  },
  {
   "cell_type": "markdown",
   "id": "b1d9da45-4b9b-494f-b273-6c8f06081073",
   "metadata": {},
   "source": [
    "**9. Write code to demonstrate type casting with list elements.**"
   ]
  },
  {
   "cell_type": "code",
   "execution_count": 151,
   "id": "7b2e0b99-c58c-428e-b206-07e4258e0f4a",
   "metadata": {},
   "outputs": [
    {
     "name": "stdout",
     "output_type": "stream",
     "text": [
      "[1, 2, 3, 4, 5]\n"
     ]
    }
   ],
   "source": [
    "# it is a list of strings\n",
    "list_of_strings=['1','2','3','4','5']\n",
    "\n",
    "# it will convert all string elements of list in integers\n",
    "list_of_integers=[int(item) for item in list_of_strings] \n",
    "\n",
    "#it will print list of integers\n",
    "print(list_of_integers)"
   ]
  },
  {
   "cell_type": "code",
   "execution_count": null,
   "id": "c97ba535-07fc-4f1e-8fcc-1c976381200f",
   "metadata": {},
   "outputs": [],
   "source": []
  },
  {
   "cell_type": "markdown",
   "id": "77d2da01-6b49-4d01-b52c-1997a192f9d0",
   "metadata": {},
   "source": [
    "**10. Write a program that checks if a number is positive, negative, or zero.**"
   ]
  },
  {
   "cell_type": "code",
   "execution_count": 172,
   "id": "ddf7f3c1-357d-4d46-b8fe-5fc5946843db",
   "metadata": {},
   "outputs": [
    {
     "name": "stdin",
     "output_type": "stream",
     "text": [
      "Enter a number= 2\n"
     ]
    },
    {
     "name": "stdout",
     "output_type": "stream",
     "text": [
      "It is positive number\n"
     ]
    }
   ],
   "source": [
    "Number=int(input(\"Enter a number=\"))\n",
    "#print(Number)\n",
    "if Number>0:\n",
    "    print(\"It is positive number\")\n",
    "elif Number==0:\n",
    "    print(\"It is zero\")\n",
    "else:\n",
    "    print(\"It is negative number\")"
   ]
  },
  {
   "cell_type": "code",
   "execution_count": null,
   "id": "7f5f5c9b-b495-4c3a-9355-f0c8e91f19d4",
   "metadata": {},
   "outputs": [],
   "source": []
  },
  {
   "cell_type": "markdown",
   "id": "4e46b974-349e-44f2-9646-d099a71775ea",
   "metadata": {},
   "source": [
    "**11. Write a for loop to print numbers from 1 to 10.**"
   ]
  },
  {
   "cell_type": "code",
   "execution_count": 191,
   "id": "afffff28-6c13-4656-b892-267fcddba963",
   "metadata": {},
   "outputs": [
    {
     "name": "stdout",
     "output_type": "stream",
     "text": [
      "1\n",
      "2\n",
      "3\n",
      "4\n",
      "5\n",
      "6\n",
      "7\n",
      "8\n",
      "9\n",
      "10\n"
     ]
    }
   ],
   "source": [
    "for i in range(1,11):\n",
    "    print(i)"
   ]
  },
  {
   "cell_type": "markdown",
   "id": "bd53819c-318f-49dd-aa9e-d9fad53d967f",
   "metadata": {},
   "source": [
    "**12. Write a Python program to find the sum of all even numbers between 1 and 50.**"
   ]
  },
  {
   "cell_type": "code",
   "execution_count": 212,
   "id": "111b435d-4c37-4a4a-998e-ab22cc0a9e15",
   "metadata": {},
   "outputs": [
    {
     "name": "stdout",
     "output_type": "stream",
     "text": [
      "600\n"
     ]
    }
   ],
   "source": [
    "sum_even=0\n",
    "for i in range(1,50):\n",
    "    if i%2==0:\n",
    "        sum_even+=i\n",
    "\n",
    "print(sum_even)"
   ]
  },
  {
   "cell_type": "markdown",
   "id": "8bcf2055-8d4f-4306-b6f7-4e8c32efac68",
   "metadata": {},
   "source": [
    "**13. Write a program to reverse a string using a while loop.**"
   ]
  },
  {
   "cell_type": "code",
   "execution_count": 217,
   "id": "ec98a5c4-406d-4a04-8563-2659ac28ce5e",
   "metadata": {},
   "outputs": [
    {
     "name": "stdout",
     "output_type": "stream",
     "text": [
      "olleh\n"
     ]
    }
   ],
   "source": [
    "# Simple program to reverse a string using a while loop\n",
    "def reverse_string(s):\n",
    "    reversed_str = \"\"\n",
    "    i = len(s) - 1  # Start from the last character\n",
    "    while i >= 0:\n",
    "        reversed_str += s[i]\n",
    "        i -= 1\n",
    "    return reversed_str\n",
    "\n",
    "# Test the function\n",
    "input_string = \"hello\"\n",
    "print(reverse_string(input_string))"
   ]
  },
  {
   "cell_type": "code",
   "execution_count": null,
   "id": "62eb4a4b-80c4-4210-892d-53f70217cf60",
   "metadata": {},
   "outputs": [],
   "source": []
  },
  {
   "cell_type": "markdown",
   "id": "d539493e-4311-4fe0-bc8c-d8c756a5b2e1",
   "metadata": {},
   "source": [
    "**14.  Write a Python program to calculate the factorial of a number provided by the user using a while loop.**"
   ]
  },
  {
   "cell_type": "code",
   "execution_count": 222,
   "id": "ea8f631f-1453-4fc4-8c94-e99194904169",
   "metadata": {},
   "outputs": [
    {
     "name": "stdin",
     "output_type": "stream",
     "text": [
      "Enter a number:  5\n"
     ]
    },
    {
     "name": "stdout",
     "output_type": "stream",
     "text": [
      "The factorial of 5 is 120\n"
     ]
    }
   ],
   "source": [
    "number = int(input(\"Enter a number: \"))  # Get number from user\n",
    "\n",
    "factorial = 1  # Start with 1\n",
    "count = number  # Keep track of the number\n",
    "\n",
    "while count > 0:  # Loop until count is 0\n",
    "    factorial = factorial * count  # Multiply factorial by count\n",
    "    count = count - 1  # Decrease count by 1\n",
    "\n",
    "print(\"The factorial of\", number, \"is\", factorial)"
   ]
  },
  {
   "cell_type": "code",
   "execution_count": null,
   "id": "f99301e6-9f69-4f96-84fe-d057db27f754",
   "metadata": {},
   "outputs": [],
   "source": []
  }
 ],
 "metadata": {
  "kernelspec": {
   "display_name": "Python 3 (ipykernel)",
   "language": "python",
   "name": "python3"
  },
  "language_info": {
   "codemirror_mode": {
    "name": "ipython",
    "version": 3
   },
   "file_extension": ".py",
   "mimetype": "text/x-python",
   "name": "python",
   "nbconvert_exporter": "python",
   "pygments_lexer": "ipython3",
   "version": "3.12.7"
  }
 },
 "nbformat": 4,
 "nbformat_minor": 5
}
