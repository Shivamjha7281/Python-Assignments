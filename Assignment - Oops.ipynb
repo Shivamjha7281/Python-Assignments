{
 "cells": [
  {
   "cell_type": "markdown",
   "id": "0293e551-7fc2-4d1f-9e85-2b196eaf230c",
   "metadata": {},
   "source": [
    "**1. What is Object-Oriented Programming (OOP)?**"
   ]
  },
  {
   "cell_type": "markdown",
   "id": "1da07e53-ea99-46d0-ad27-e0a4a9855fc1",
   "metadata": {},
   "source": [
    "- Imagine you have different kinds of things, like a dog, a cat, and a car. we can also create things like these, called \"Objects.\" Each object has its own characteristics (Properties) and can do certain things (Actions).\n",
    "\n",
    "- We create Classes. A class is like a blueprint or a template that describes what a certain type of object will look like and what it can do. we use these blueprints to create Objects. An object is a real instance of a class.Once you create a class, you can make many objects from it without writing the code again.\n",
    "\n",
    "- OOP is a way of programming where you think of your program's problems in terms of \"Objects\" that have some characteristics and can perform some actions. This makes your code more structured, reusable, and easier to understand."
   ]
  },
  {
   "cell_type": "markdown",
   "id": "9e7bf499-281e-40c8-9d6d-eb6145012f9c",
   "metadata": {},
   "source": [
    "**2. What is a class in OOP?**"
   ]
  },
  {
   "cell_type": "markdown",
   "id": "c1fa8360-97e5-4494-a64e-d8443947bdf2",
   "metadata": {},
   "source": [
    "- a class is like that cookie cutter. The cookie cutter itself isn't a cookie, but it defines the shape and characteristics of any cookie you make with it.\n",
    "\n",
    "- The cookie cutter's shape determines the shape of the cookie. In a class, these are like the attributes or data an object will have (e.g., a Dog class might specify that every dog has a name, breed, and age).\n",
    "\n",
    "- a class is a definition or a plan for creating objects. It's not the object itself, but it tells you what an object of that type will be like and what it can do."
   ]
  },
  {
   "cell_type": "markdown",
   "id": "15ca67ba-e3a7-4e6f-bf47-95c17d2a3272",
   "metadata": {},
   "source": [
    "**3. What is an object in OOP?**"
   ]
  },
  {
   "cell_type": "markdown",
   "id": "3f3e890a-55fc-4e81-a3fb-e0e334cc64b7",
   "metadata": {},
   "source": [
    "- If a class in OOP is like a cookie cutter, then an object is like the actual cookie we cut out using that cutter.\n",
    "\n",
    "- an object is a tangible \"thing\" in our program that has its own data and can do things according to the rules defined by its class.\n",
    "\n",
    "- classes are the molds, and objects are the individual castings made from those molds."
   ]
  },
  {
   "cell_type": "markdown",
   "id": "e14cf024-5222-41ad-b052-bef7d93cbfb9",
   "metadata": {},
   "source": [
    "**4. What is the difference between abstraction and encapsulation?**"
   ]
  },
  {
   "cell_type": "markdown",
   "id": "b561d219-7063-470c-9f11-a72e15c2845f",
   "metadata": {},
   "source": [
    "**Abstraction**\n",
    "\n",
    "- Imagine just looking at the screen and the physical buttons on our phone. We see icons for calling, messaging, camera, settings, etc. These icons represent the main things we can do with our phone.\n",
    "\n",
    "- We don't need to know how the touchscreen works internally, how the cellular network connects, or the millions of lines of code that make the camera app function. The phone hides all that complicated stuff from us.\n",
    "\n",
    "- The phone only shows us the controls we need to use it for its basic functions.\n",
    "\n",
    "**Encapsulation**\n",
    "\n",
    "- The screen, the battery, the processor, the memory chips – all the parts that make the phone work are contained within that single physical case.The case protects these delicate internal components from dust, water, and accidental damage if you drop it\n",
    "\n",
    "- We can't just open up our phone and directly touch the processor. We interact with the internal parts through the defined interface – the screen and the buttons. The case encapsulates everything inside and controls how We interact with it.\n",
    "\n",
    "So, abstraction makes using the phone easy by hiding the complicated details, and encapsulation keeps all the important parts of the phone together and protected, controlling how we interact with them. Both make the phone (and in programming, objects) easier to use and manage."
   ]
  },
  {
   "cell_type": "markdown",
   "id": "fc265465-c6a9-455e-8438-910ba87beb4e",
   "metadata": {},
   "source": [
    "**5. What are dunder methods in Python?**"
   ]
  },
  {
   "cell_type": "markdown",
   "id": "59dc46d6-9282-49c6-956d-0268b14f8d2d",
   "metadata": {},
   "source": [
    "- When a new book is printed, it gets some initial properties like a title and an author. The dunder method __init__ is like the printing process – it sets up these initial details for our book object.\n",
    "\n",
    "- If Python wants to know what our book is when we try to \"show\" it (like when we tell someone about it), the dunder method __str__ comes into play. It's like we describing our book in a simple sentence.\n",
    "\n",
    "- If Python wants to know the \"size\" of our book (maybe in terms of pages), the dunder method __len__ is like we telling someone how many pages it has."
   ]
  },
  {
   "cell_type": "code",
   "execution_count": 37,
   "id": "a5ab1780-e485-4e3d-a3b0-82a4d1158784",
   "metadata": {},
   "outputs": [
    {
     "name": "stdout",
     "output_type": "stream",
     "text": [
      "A new book cant' hurt me by devid goggins is created.\n"
     ]
    }
   ],
   "source": [
    "class book:\n",
    "    def __init__(self, title, author):\n",
    "        self.title=title\n",
    "        self.author=author\n",
    "        print(f\"A new book {title} by {author} is created.\")\n",
    "\n",
    "New_book=book(\"cant' hurt me\", \"devid goggins\")"
   ]
  },
  {
   "cell_type": "markdown",
   "id": "485c07d9-acc4-48f5-9654-ffe8e9b79524",
   "metadata": {},
   "source": [
    "**6. Explain the concept of inheritance in OOP?**"
   ]
  },
  {
   "cell_type": "markdown",
   "id": "3d6ffd33-4635-482c-ae2a-744af66a2d59",
   "metadata": {},
   "source": [
    "- In short, inheritance in OOP is like passing down traits in a family. The child class inherits the general characteristics and abilities of the parent class but can also have its own unique characteristics and abilities. It's a powerful way to reuse code and create well-organized and flexible software.\n",
    "\n",
    "- Think about how traits are passed down in a family. we might inherit our eye color from our mother or our height from our father. Inheritance in OOP works in a similar way.\n",
    "\n",
    "- In OOP, inheritance allows a new class (called the \"child class\" or \"subclass\") to inherit properties and behaviors from an existing class (called the \"parent class\" or \"superclass\")."
   ]
  },
  {
   "cell_type": "markdown",
   "id": "891440d0-d164-49b5-a2d2-c77eb949e6f3",
   "metadata": {},
   "source": [
    "**7. What is polymorphism in OOP?**"
   ]
  },
  {
   "cell_type": "markdown",
   "id": "257dd3bb-0e8c-4083-8198-7dd7e9bd7338",
   "metadata": {},
   "source": [
    "Let's Think about it like this:\n",
    "\n",
    "- We have a way to tell any animal to make a \"sound\".\n",
    "- If we tell a \"Dog\" to make a sound, it will \"Bark!\".\n",
    "- If we tell a \"Cat\" to make a sound, it will \"Meow!\".\n",
    "- If we tell a \"Cow\" to make a sound, it will \"Moo!\".\n",
    "\n",
    "- Even though we're using the same instruction (\"make a sound\"), each animal responds in its own unique way because they are different types of animals. This is polymorphism in action."
   ]
  },
  {
   "cell_type": "code",
   "execution_count": 95,
   "id": "ae645ba3-dd68-46ad-9045-280ed3ff829a",
   "metadata": {},
   "outputs": [
    {
     "name": "stdout",
     "output_type": "stream",
     "text": [
      "dog is barking\n",
      "cat is meuing\n",
      "animal is speaking\n"
     ]
    }
   ],
   "source": [
    "class Animal:\n",
    "    def speak(self):\n",
    "        print(\"animal is speaking\")\n",
    "\n",
    "class dog(Animal):\n",
    "    def speak(self):\n",
    "        print(\"dog is barking\")\n",
    "\n",
    "class cat(Animal):\n",
    "    def speak(self):\n",
    "        print(\"cat is meuing\")\n",
    "\n",
    "def speak(animal):\n",
    "    animal.speak\n",
    "\n",
    "animal=Animal()\n",
    "my_dog=dog()\n",
    "my_cat=cat()\n",
    "\n",
    "my_dog.speak()\n",
    "my_cat.speak()\n",
    "animal.speak()"
   ]
  },
  {
   "cell_type": "markdown",
   "id": "45d3ecac-dae0-4eee-8657-6a98101a967b",
   "metadata": {},
   "source": [
    "**8. How is encapsulation achieved in Python?**"
   ]
  },
  {
   "cell_type": "markdown",
   "id": "29203a19-bbd6-4039-b418-6c268dce92f8",
   "metadata": {},
   "source": [
    "Imagine we have a box of medicines.\n",
    "\n",
    "- Inside the box are your different medicines. This is data.\n",
    "- The box's job is to keep these medicines safe and give them to you when you need them. These are methods that work on data.\n",
    "- Encapsulation means that we have sealed the medicines (data) and the way to use them (compartmental functions) together inside a compartment.\n",
    "- The advantage is that No outsider can come in and change or misuse your medicines. They have to go through the box. This protects your data from unexpected changes.\n",
    "- Everything is organized in one place, making it easy to understand and manage. You know where your medicines are and how to use them.\n",
    "- So, encapsulation in object-oriented programming means that you put data and the code that operates on that data inside a \"compartment\" (an object), and you control how things inside that compartment can be accessed. This makes your code more secure, organized, and easier to understand."
   ]
  },
  {
   "cell_type": "markdown",
   "id": "cc84fe84-89d9-4482-8798-bb9a1cf0b271",
   "metadata": {},
   "source": [
    "**9. What is a constructor in Python?**"
   ]
  },
  {
   "cell_type": "markdown",
   "id": "f1fad66a-f69b-4889-b340-6a1e2f14e730",
   "metadata": {},
   "source": [
    "- Let's think about a example like filling out a form when you get a new ID card.\n",
    "\n",
    "- a constructor is a special method within a class called __init__.\n",
    "\n",
    "- It's automatically called when you create a new object (an instance) of that class.\n",
    "\n",
    "- Its main job is to initialize the object's attributes.\n",
    "\n",
    "- the constructor (__init__) in Python is like the process of filling out a form when you get a new object.\n",
    "\n",
    "- It's the first method that runs when an object is created, and it's used to set up the initial state (attributes) of that specific object. "
   ]
  },
  {
   "cell_type": "markdown",
   "id": "98c43d61-cd89-476a-8719-e81306f4557d",
   "metadata": {},
   "source": [
    "**10. What are class and static methods in Python?**"
   ]
  },
  {
   "cell_type": "markdown",
   "id": "812a3173-57cb-4f32-9b2d-ad604016ff9d",
   "metadata": {},
   "source": [
    "**Class Method**\n",
    "\n",
    "- Imagine the concept of a \"School.\" A class method is something that the school itself knows or can do, not something specific to an individual student.\n",
    "\n",
    "- A class method can access and modify information that belongs to the entire \"School,\" like the total number of students enrolled or the school's overall rules. It knows about the \"School\" as a whole.\n",
    "\n",
    "- Think about a school announcing a change in the uniform policy that applies to all students. This announcement and the act of changing the policy are actions of the \"School\" itself, not specific to any single student. A class method in our \"School\" class could represent this action of updating a school-wide rule.\n",
    "\n",
    "**Static Method**\n",
    "\n",
    "Think about a function to calculate the Body Mass Index (BMI) of a student based on their height and weight. This calculation is relevant to students' health, but the formula and the calculation itself don't depend on the total number of students in the school or any school-wide policy. It's a general utility that can be used for any student if you provide their height and weight. A static method in our \"School\" class could represent this BMI calculation function.\n",
    "\n",
    "Class methods are about the school and can manage school-wide information or tasks.\n",
    "Static methods are like supporting tools related to school life but work independently without needing to know about the school or individual students."
   ]
  },
  {
   "cell_type": "code",
   "execution_count": 123,
   "id": "046edb40-9233-43fa-9806-39fadc1b2c4a",
   "metadata": {},
   "outputs": [
    {
     "name": "stdout",
     "output_type": "stream",
     "text": [
      "All students are informed that the new uniform will be white shirt and black pant.\n",
      "shivam's bmi: 19.53\n"
     ]
    }
   ],
   "source": [
    "class school:\n",
    "    total_students=0\n",
    "\n",
    "    def __init__(self, name):\n",
    "        self.name=name\n",
    "        school.total_students=school.total_students+1\n",
    "\n",
    "    @classmethod\n",
    "    def announce_uniform_changes(cls, new_uniform):\n",
    "        print(f\"All students are informed that the new uniform will be {new_uniform}.\")\n",
    "\n",
    "    @staticmethod\n",
    "    def calculate_bmi(height_meters, weight_kg):\n",
    "        bmi=weight_kg/(height_meters**2)\n",
    "        return bmi\n",
    "\n",
    "student1=school(\"shivam\")\n",
    "student2=school(\"satyam\")\n",
    "\n",
    "school.announce_uniform_changes(\"white shirt and black pant\")\n",
    "shivam_bmi=school.calculate_bmi(1.6, 50)\n",
    "print(f\"shivam's bmi: {shivam_bmi:.2f}\")"
   ]
  },
  {
   "cell_type": "markdown",
   "id": "c8e5d0fb-3fa1-4c31-b62b-4b8f593fd3a3",
   "metadata": {},
   "source": [
    "This code shows how class methods work at the class-level (such as making a school-wide declaration), while static methods are general utility functions that are logically related to the class but do not depend on the state of the class or its objects."
   ]
  },
  {
   "cell_type": "markdown",
   "id": "921cd392-9ab5-4e6e-b1d9-924567ff1a3a",
   "metadata": {},
   "source": [
    "**11. What is method overloading in Python?**"
   ]
  },
  {
   "cell_type": "markdown",
   "id": "8771ae77-ab01-43d5-828c-0fd9c80bd817",
   "metadata": {},
   "source": [
    "- Method overloading in Python simply means creating multiple methods (functions) with the same name in the same class but with different parameters (arguments).\n",
    "\n",
    "- Note that Python does not directly support traditional method overloading as some other languages (such as Java or C++) do.\n",
    "\n",
    "- In Python, if you define two methods with the same name in the same class, the latter method will override (replace) the first one. This means that you will only be able to call the latter method. So, there is no such thing as real \"method overloading\" in Python.\n",
    "\n",
    "- We write the same method in such a way that it can handle different number or types of arguments. For this we use default argument values or variable length argument lists (*args and **kwargs).\n",
    "\n",
    "- Traditional method overloading is not directly supported in Python. Instead, we write a single method that can handle different numbers or types of arguments."
   ]
  },
  {
   "cell_type": "markdown",
   "id": "fe5377ee-d1bb-49f3-9918-d6d743e5fb13",
   "metadata": {},
   "source": [
    "**12.What is method overriding in OOP?**"
   ]
  },
  {
   "cell_type": "markdown",
   "id": "907ccd16-5f31-43c4-8665-f047d45e65d0",
   "metadata": {},
   "source": [
    "- Method overriding occurs when a child class (subclass) redefines a method inherited from its parent class (superclass) so that it behaves differently. The child changes a behavior inherited from its parent to its own.\n",
    "\n",
    "- Method overriding means that a child class modifies the method inherited from the parent class as per its own requirement.\n"
   ]
  },
  {
   "cell_type": "markdown",
   "id": "45babb50-9cd4-4ec0-8f5a-8e2c53254046",
   "metadata": {},
   "source": [
    "**13. What is a property decorator in Python?**"
   ]
  },
  {
   "cell_type": "markdown",
   "id": "b5279f4d-a3da-4ee4-9451-555dc87b9b2c",
   "metadata": {},
   "source": [
    "- A property decorator (@property) in Python is a special way that allows you to access a class's methods as attributes (variables), while the method itself remains running behind the scenes.\n",
    "\n",
    "- This allows you to use a function as a variable, making your code look cleaner and more intuitive."
   ]
  },
  {
   "cell_type": "code",
   "execution_count": 134,
   "id": "07c1f8ab-31a2-4f66-b697-019ef62d6c2b",
   "metadata": {},
   "outputs": [
    {
     "name": "stdout",
     "output_type": "stream",
     "text": [
      "10\n"
     ]
    }
   ],
   "source": [
    "#Suppose you have a Circle class that has a radius. \n",
    "#You want to access the diameter of the circle. You can create a method (get_diameter):\n",
    "class Circle:\n",
    "    def __init__(self, radius):\n",
    "        self.radius = radius\n",
    "\n",
    "    def get_diameter(self):\n",
    "        return 2 * self.radius\n",
    "\n",
    "c = Circle(5)\n",
    "print(c.get_diameter())"
   ]
  },
  {
   "cell_type": "markdown",
   "id": "f83d1eb9-6630-4546-beb1-1976d9a3a80f",
   "metadata": {},
   "source": [
    "**14. Why is polymorphism important in OOP?**"
   ]
  },
  {
   "cell_type": "markdown",
   "id": "2b0c4cff-f607-475f-a4cd-e300322d25ee",
   "metadata": {},
   "source": [
    "- Polymorphism is important in OOP because it allows us to treat different types of objects in the same way, making our code more flexible and extensible.\n",
    "\n",
    "- Simply put, it gives our code the ability to \"do the same thing in different ways\", without having to write different code for different objects every time.\n",
    "\n",
    "- We can tell all the animals to \"make a sound\". The dog \"barks\", the cat \"meows\", the cow \"moos\".\n",
    "\n",
    "- We have the same way of saying \"make a sound\", but each animal responds in its own way. This is what polymorphism does in programming - we can interact with different objects in the same way, and they will respond differently according to their nature.\n",
    "\n",
    "- Polymorphism makes our code more flexible, reusable, and easier to extend because it allows us to handle different objects through the same interface."
   ]
  },
  {
   "cell_type": "markdown",
   "id": "e2780c80-f1e9-4cd2-97fa-f3aaa9e453b8",
   "metadata": {},
   "source": [
    "**15. What is an abstract class in Python?**"
   ]
  },
  {
   "cell_type": "markdown",
   "id": "e0d00999-95ee-4889-a55f-c3163ef517a9",
   "metadata": {},
   "source": [
    "- An abstract class is a class that we cannot use directly to create objects. Its main purpose is to provide a blueprint or framework for other classes. It tells what methods its child classes should have.\n",
    "\n",
    "- Suppose you want to create different types of vehicles, such as cars, bikes, and trucks. You know that each vehicle will have some basic elements, such as:\n",
    "    - Method to start (start())\n",
    "    - Method to stop (stop())\n",
    "    - Method to tell how much speed is there (get_speed())\n",
    "\n",
    "\n",
    "- Now, a \"vehicle\" isn't a concrete thing in itself that we can drive. It's just an idea of what things like cars, bikes, and trucks can do."
   ]
  },
  {
   "cell_type": "code",
   "execution_count": 151,
   "id": "f3ffd936-09cf-43ef-a59e-6a50580770af",
   "metadata": {},
   "outputs": [
    {
     "name": "stdout",
     "output_type": "stream",
     "text": [
      "car running\n",
      "bike running\n"
     ]
    }
   ],
   "source": [
    "from abc import ABC, abstractmethod\n",
    "\n",
    "class Vehicle(ABC):\n",
    "    @abstractmethod\n",
    "    def move(self):\n",
    "        pass\n",
    "\n",
    "class Car(Vehicle):\n",
    "    def move(self):\n",
    "        return \"car running\"\n",
    "\n",
    "class Bike(Vehicle):\n",
    "    def move(self):\n",
    "        return \"bike running\"\n",
    "\n",
    "car = Car()\n",
    "print(car.move())\n",
    "\n",
    "bike = Bike()\n",
    "print(bike.move())\n"
   ]
  },
  {
   "cell_type": "markdown",
   "id": "0c2497b7-ee34-4ad5-b1aa-c682e1a110f8",
   "metadata": {},
   "source": [
    "**16. What are the advantages of OOP?**"
   ]
  },
  {
   "cell_type": "markdown",
   "id": "e7a62480-6eb6-4b19-9632-fe859ff945d9",
   "metadata": {},
   "source": [
    "*Code Reusability:* In OOP we create classes that act like blueprints. Once we create a class, we can create multiple objects of it and even create new classes that inherit properties and behavior from old classes. This saves us from having to write the same code over and over again.\n",
    "\n",
    "*Organization:* OOP helps us organize our code into objects just like the real world. Each object has its own properties and actions, making the code easier to understand and manage.\n",
    "\n",
    "*Maintainability:* When code is organized into objects, it is easier to understand and change. If we want to change the behavior of a single object, we don't have to go through the entire code.\n",
    "\n",
    "OOP makes your code more organized, reusable, flexible, maintainable, and better suited to solving real-world problems."
   ]
  },
  {
   "cell_type": "markdown",
   "id": "8970599f-9972-45ae-a389-998262b31d19",
   "metadata": {},
   "source": [
    "**17. What is the difference between a class variable and an instance variable?**"
   ]
  },
  {
   "cell_type": "markdown",
   "id": "b19aaf50-fa05-4df7-b2b4-f3f59e49c39c",
   "metadata": {},
   "source": [
    "**Class Variable**\n",
    "\n",
    "Imagine We have a recipe in our biscuit factory. There will be some things in this recipe that will remain the same for all types of biscuits, such as the type of flour or the baking temperature. This information is shared across the recipe (class) and will be the same for every biscuit (instance), unless we change the recipe itself.\n",
    "\n",
    "In OOP, class variables are exactly that. These are variables that are defined for the entire class and are shared by all objects (instances) of the class. A single copy of these is created in memory and all objects access the same."
   ]
  },
  {
   "cell_type": "code",
   "execution_count": 172,
   "id": "11e35d0b-a424-43f6-ae31-b927297ea16b",
   "metadata": {},
   "outputs": [
    {
     "name": "stdout",
     "output_type": "stream",
     "text": [
      "flour type of biscuit1: Wheat\n",
      "flour type of biscuit1: Wheat\n",
      "flour type of biscuit1: Fine flour\n",
      "flour type of biscuit1: Fine flour\n"
     ]
    }
   ],
   "source": [
    "class Biscuit:\n",
    "    flour_type=\"Wheat\"\n",
    "\n",
    "    def __init__(self, flavor):\n",
    "        self.flavor=flavor\n",
    "\n",
    "biscuit1=Biscuit(\"choclate\")\n",
    "biscuit2=Biscuit(\"vanela\")\n",
    "\n",
    "print(f\"flour type of biscuit1: {biscuit1.flour_type}\")\n",
    "print(f\"flour type of biscuit1: {biscuit2.flour_type}\")\n",
    "\n",
    "Biscuit.flour_type= \"Fine flour\"\n",
    "\n",
    "print(f\"flour type of biscuit1: {biscuit1.flour_type}\")\n",
    "print(f\"flour type of biscuit1: {biscuit2.flour_type}\")\n",
    "\n",
    "#You can see that when we changed\n",
    "#Biscuit.flour_type , it changed for both biscuit1 and biscuit2 ."
   ]
  },
  {
   "cell_type": "markdown",
   "id": "a65a57df-b33d-4613-a9ad-38d12769f551",
   "metadata": {},
   "source": [
    "**Instance Variable**\n",
    "\n",
    "Now imagine, the taste of each biscuit can be different. One biscuit can be chocolate flavoured, the other vanilla flavoured. This is different information for each biscuit.\n",
    "\n",
    "In OOP, instance variables are exactly that. These are variables that are unique to each object (instance) of a class. When you create a new object, it gets its own separate copy of these variables.\n",
    "\n",
    "*Example:*  In the above code self.flavor = flavor is an instance variable. biscuit1 has the flavour \"chocolate\", and biscuit2 has the flavour \"vanilla\". These two are different for different objects."
   ]
  },
  {
   "cell_type": "markdown",
   "id": "36ba8428-3bff-48c6-bdee-b56bad995689",
   "metadata": {},
   "source": [
    "**18.  What is multiple inheritance in Python?**"
   ]
  },
  {
   "cell_type": "markdown",
   "id": "0dc5578d-3509-4687-9248-1f3e2f634d86",
   "metadata": {},
   "source": [
    "- Imagine there is a child who has both a mother and a father. The child inherits some traits from its mother and some traits from its father.\n",
    "\n",
    "- Multiple inheritance in Python is exactly like this. A class (child) can inherit properties (attributes and methods) from more than one parent classes (mother and father).\n",
    "\n",
    "- in Simple word, a class can \"take\" characteristics from many other classes."
   ]
  },
  {
   "cell_type": "code",
   "execution_count": 238,
   "id": "63e4d367-81c1-4329-938d-e6720c281639",
   "metadata": {},
   "outputs": [
    {
     "name": "stdout",
     "output_type": "stream",
     "text": [
      "can swim\n",
      "can walk\n",
      "can swim\n",
      "can walk\n"
     ]
    }
   ],
   "source": [
    "class swimmer:\n",
    "    def swim(self):\n",
    "        print(\"can swim\")\n",
    "\n",
    "class walker:\n",
    "    def walk(self):\n",
    "        print(\"can walk\")\n",
    "\n",
    "class duck(swimmer, walker):\n",
    "    pass\n",
    "\n",
    "a_swimmer=swimmer()\n",
    "a_swimmer.swim()\n",
    "a_walker=walker()\n",
    "a_walker.walk()\n",
    "\n",
    "a_duck=duck()\n",
    "a_duck.swim()\n",
    "a_duck.walk()\n",
    "#In this example, the Amphibian class inherited abilities from both Swimmer and Walker."
   ]
  },
  {
   "cell_type": "markdown",
   "id": "c870a4c2-6d40-400d-a317-1f9bcca140b1",
   "metadata": {},
   "source": [
    "**19. Explain the purpose of ‘’__str__’ and ‘__repr__’ ‘ methods in Python?**"
   ]
  },
  {
   "cell_type": "markdown",
   "id": "bb47d5fa-cbdf-4aba-a9cd-20e472cb4a4a",
   "metadata": {},
   "source": [
    "Both 'str' and 'repr' methods are used to get the string representation of an object in Python, but their purposes are slightly different\n",
    "\n",
    "*__str__ :* Imagine we're telling a friend about a book. we'd probably give the title and author - a short and easy-to-understand description. The __str__ method aims to provide just such a description for our object.\n",
    "\n",
    "*__repr__ :* Thinking about the same book, a developer or librarian would probably need more specific information about the book, such as its ISBN number, publication year, or exact memory location (if in a programming context). The __repr__ method aims to provide this type of detailed information for your object."
   ]
  },
  {
   "cell_type": "code",
   "execution_count": 220,
   "id": "a8b2e8a8-8479-48c2-856f-1e8c983c916a",
   "metadata": {},
   "outputs": [
    {
     "name": "stdout",
     "output_type": "stream",
     "text": [
      "Person name is Shivam and age is 22 years.\n",
      "Person name is Shivam and age is 22 years.\n"
     ]
    }
   ],
   "source": [
    "class Person:\n",
    "    def __init__(self, name, age):\n",
    "        self. name=name\n",
    "        self.age=age\n",
    "\n",
    "    def __str__(self):\n",
    "        return f\"Person name is {self.name} and age is {self.age} years.\"\n",
    "\n",
    "person_details=Person(\"Shivam\", \"22\")\n",
    "print(person_details) #it will call string method\n",
    "\n",
    "str_representation=str(person_details) #it also will call string method\n",
    "print(str_representation)"
   ]
  },
  {
   "cell_type": "code",
   "execution_count": 260,
   "id": "9b1bb709-084e-41b3-9e5e-1c9ff8515ab9",
   "metadata": {},
   "outputs": [
    {
     "name": "stdout",
     "output_type": "stream",
     "text": [
      "point(x=2, y=3)\n",
      "point(x=2, y=3)\n"
     ]
    }
   ],
   "source": [
    "class point:\n",
    "    def __init__(self, x, y):\n",
    "        self.x=x\n",
    "        self.y=y\n",
    "\n",
    "    def __repr__(self):\n",
    "        return f\"point(x={self.x}, y={self.y})\"\n",
    "\n",
    "point_is=point(2,3)\n",
    "print(repr(point_is)) #it will call __repr__ method\n",
    "\n",
    "point_representation=point_is\n",
    "print(point_representation) #Direct objects in the interactive interpreter"
   ]
  },
  {
   "cell_type": "markdown",
   "id": "dbd86066-91af-440f-89a4-23c13e6ab74d",
   "metadata": {},
   "source": [
    "In this example, the __repr__ method returns an explicit string representation of the object that can potentially be used to recreate the object. The output of __repr__ is also visible when viewing the object directly in an interactive interpreter."
   ]
  },
  {
   "cell_type": "markdown",
   "id": "f2019fae-dcd7-45c8-9b59-98f5bea4286f",
   "metadata": {},
   "source": [
    "**20. What is the significance of the ‘super()’ function in Python?**"
   ]
  },
  {
   "cell_type": "markdown",
   "id": "892c1bdb-6140-470e-8c9d-e4f12bbb92a9",
   "metadata": {},
   "source": [
    "- The super() function has a very important purpose, especially when we're working with inheritance in object-oriented programming. The main purpose of super() is to call the methods of the parent class (superclass) in the child class (subclass).\n",
    "\n",
    "- Imagine we have a parent class that does some work, and our child class inherits some things from that parent class. Sometimes, we want our child class to do the same thing as the parent class, but perhaps with some extras. super() allows us to do that."
   ]
  },
  {
   "cell_type": "code",
   "execution_count": 276,
   "id": "d1fa0f6c-cfea-45d3-bdca-23961631c086",
   "metadata": {},
   "outputs": [
    {
     "name": "stdout",
     "output_type": "stream",
     "text": [
      "this parent class\n",
      "this is child class\n",
      "sonu\n",
      "12\n"
     ]
    }
   ],
   "source": [
    "class Parent:\n",
    "    def __init__(self, name):\n",
    "        print(\"this parent class\")\n",
    "        self.name=name\n",
    "\n",
    "class Child(Parent):\n",
    "    def __init__(self, name, age):\n",
    "        super().__init__(name) #it is calling Parent's class constructor \n",
    "        print(\"this is child class\")\n",
    "        self.age=age\n",
    "\n",
    "child_is=Child(\"sonu\", \"12\")\n",
    "print(child_is.name)\n",
    "print(child_is.age)"
   ]
  },
  {
   "cell_type": "markdown",
   "id": "74315662-87a7-4e04-82ad-c0b1ed65a1ff",
   "metadata": {},
   "source": [
    "**21. What is the significance of the __del__ method in Python?**"
   ]
  },
  {
   "cell_type": "markdown",
   "id": "f865906d-d91a-41c9-a077-344c2cecbeda",
   "metadata": {},
   "source": [
    "In OOP, we create objects from classes. These objects are stored in memory and we access these objects using variables. Using del, we can delete the variable that was referencing that object. This means we can no longer access the object using that name."
   ]
  },
  {
   "cell_type": "code",
   "execution_count": 296,
   "id": "2901f158-213e-473f-9cf0-513d6e9d23c1",
   "metadata": {},
   "outputs": [
    {
     "name": "stdout",
     "output_type": "stream",
     "text": [
      "Shivam\n"
     ]
    },
    {
     "ename": "NameError",
     "evalue": "name 'obj1' is not defined",
     "output_type": "error",
     "traceback": [
      "\u001b[1;31m---------------------------------------------------------------------------\u001b[0m",
      "\u001b[1;31mNameError\u001b[0m                                 Traceback (most recent call last)",
      "Cell \u001b[1;32mIn[296], line 9\u001b[0m\n\u001b[0;32m      6\u001b[0m \u001b[38;5;28mprint\u001b[39m(obj1\u001b[38;5;241m.\u001b[39mname)\n\u001b[0;32m      8\u001b[0m \u001b[38;5;28;01mdel\u001b[39;00m obj1\n\u001b[1;32m----> 9\u001b[0m \u001b[38;5;28mprint\u001b[39m(obj1\u001b[38;5;241m.\u001b[39mname)\n",
      "\u001b[1;31mNameError\u001b[0m: name 'obj1' is not defined"
     ]
    }
   ],
   "source": [
    "class MyClass:\n",
    "    def __init__(self, name):\n",
    "        self.name=name\n",
    "\n",
    "obj1=MyClass(\"Shivam\")\n",
    "print(obj1.name)\n",
    "\n",
    "del obj1\n",
    "print(obj1.name) #now This will give a NameError because obj1 has been deleted."
   ]
  },
  {
   "cell_type": "markdown",
   "id": "14b7a2c8-0ac3-4143-a8f0-9f83269bb835",
   "metadata": {},
   "source": [
    "**22. What is the difference between @staticmethod and @classmethod in Python?**"
   ]
  },
  {
   "cell_type": "markdown",
   "id": "d0da99d9-7f26-4c4b-a7bc-d197669b3b75",
   "metadata": {},
   "source": [
    "*Static Method*\n",
    "\n",
    "- @staticmethod and @classmethod both are decorators in Python which are used to define methods inside a class\n",
    "\n",
    "- A static method is like a normal function that is defined inside a class.\n",
    "\n",
    "- It does not take any specific information about the class or any of its objects. No default first argument (like self or cls) is passed while calling it.\n",
    "\n",
    "- Static methods are used to logically associate those helper functions with the class even though they do not need to access the class instance or the class itself.\n",
    "\n",
    "*Class Method* \n",
    "\n",
    "- A class method is also like a normal function that is defined inside the class.\n",
    "When calling it, the class itself is passed as the first argument by default. This argument is usually named cls.\n",
    "\n",
    "- Class methods are used when we need to access or modify class-level data or methods, or when we want to change the way instances of the class are created."
   ]
  },
  {
   "cell_type": "code",
   "execution_count": 321,
   "id": "0d91d225-c1f8-4ad7-905f-aea8007320fe",
   "metadata": {},
   "outputs": [
    {
     "name": "stdout",
     "output_type": "stream",
     "text": [
      "8\n",
      "yeh ek calculator class hai\n",
      "12\n",
      "yeh ek calculator class hai\n"
     ]
    }
   ],
   "source": [
    "class calculator:\n",
    "    @staticmethod\n",
    "    def add(x,y):\n",
    "        return x+y\n",
    "\n",
    "    @classmethod\n",
    "    def get_description(cls):\n",
    "        return f\"yeh ek {cls.__name__} class hai\"\n",
    "\n",
    "print(calculator.add(5,3)) #here calling staticmethod\n",
    "print(calculator.get_description()) #here calling classmethod\n",
    "\n",
    "calc_obj=calculator()\n",
    "print(calc_obj.add(10, 2))\n",
    "print(calc_obj.get_description())"
   ]
  },
  {
   "cell_type": "markdown",
   "id": "ba988016-eb98-4882-b050-698e166e7629",
   "metadata": {},
   "source": [
    "**23.  How does polymorphism work in Python with inheritance?**"
   ]
  },
  {
   "cell_type": "markdown",
   "id": "b1698ca2-9d89-4ce7-951e-f2e7540e694d",
   "metadata": {},
   "source": [
    "Polymorphism in Python with inheritance means: one method, many behaviors. Child classes can redefine methods of their parent. So, the same action does different things based on the object's type. This makes code flexible and reusable. You can treat different objects similarly."
   ]
  },
  {
   "cell_type": "code",
   "execution_count": 355,
   "id": "53b7ea57-7b20-47a8-b0ef-0782d2cde914",
   "metadata": {},
   "outputs": [
    {
     "name": "stdout",
     "output_type": "stream",
     "text": [
      "animal is speaking\n",
      "bhau bhau\n",
      "meu meu\n"
     ]
    }
   ],
   "source": [
    "class Animal:\n",
    "    def make_sound(self):\n",
    "        print(\"animal is speaking\")\n",
    "\n",
    "class dog(Animal):\n",
    "    def make_sound(self):\n",
    "        print(\"bhau bhau\")\n",
    "\n",
    "class cat(Animal):\n",
    "    def make_sound(self):\n",
    "        print(\"meu meu\")\n",
    "\n",
    "def animal_sound(animal):\n",
    "    animal.make_sound()\n",
    "\n",
    "Animal_sound=Animal()\n",
    "my_dog=dog()\n",
    "my_cat=cat()\n",
    "\n",
    "Animal_sound.make_sound()\n",
    "my_dog.make_sound()\n",
    "my_cat.make_sound()\n"
   ]
  },
  {
   "cell_type": "markdown",
   "id": "934a61fe-32f2-42f8-84b1-a4e3d0300b3d",
   "metadata": {},
   "source": [
    "**24. What is method chaining in Python OOP?**"
   ]
  },
  {
   "cell_type": "markdown",
   "id": "8bdfb445-8018-405f-a9fe-5bad9d360eaa",
   "metadata": {},
   "source": [
    "Method chaining in Python OOP is the practice of calling multiple methods on the same object in a single line. This is achieved by having each method return the object itself (self). It makes code more concise and readable for sequential operations on an object."
   ]
  },
  {
   "cell_type": "code",
   "execution_count": 371,
   "id": "5ad310f9-99bb-4ff3-addc-6b587e9900fc",
   "metadata": {},
   "outputs": [
    {
     "name": "stdout",
     "output_type": "stream",
     "text": [
      "24\n"
     ]
    }
   ],
   "source": [
    "class calculator:\n",
    "    def __init__(self, value=0):\n",
    "        self.value=value\n",
    "\n",
    "    def add(self, num):\n",
    "        self.value=self.value+num\n",
    "        return self\n",
    "\n",
    "    def subtract(self, num):\n",
    "        self.value=self.value-num\n",
    "        return self\n",
    "\n",
    "    def multiply(self, num):\n",
    "        self.value=self.value*num\n",
    "        return self\n",
    "\n",
    "# method chaining ka use ho raha hai iss line me\n",
    "result=calculator(10).add(5).subtract(3).multiply(2).value\n",
    "print(result)"
   ]
  },
  {
   "cell_type": "markdown",
   "id": "db441f04-8f79-45c4-b4a4-8c77cdbaade9",
   "metadata": {},
   "source": [
    "See, Calculator(10) created an object. Then we called .add(5), .subtract(3), and .multiply(2) methods consecutively. Every method returned self (i.e. current object) so that we can call the next method on the same object. Finally we access the final result through .value."
   ]
  },
  {
   "cell_type": "markdown",
   "id": "e75cee18-0276-4ad3-9926-c2588d76c427",
   "metadata": {},
   "source": [
    "**25. What is the purpose of the  _ _call_ _ method in Python?**"
   ]
  },
  {
   "cell_type": "markdown",
   "id": "08c33df3-4277-4819-a4f1-5f81faa5ad24",
   "metadata": {},
   "source": [
    "The __call__ method in Python allows objects of a class to be called like regular functions. When you call an object (e.g., obj()), Python executes the object's __call__ method. This enables you to create objects that have function-like behavior, making your code more flexible and expressive."
   ]
  },
  {
   "cell_type": "code",
   "execution_count": 1,
   "id": "96e3ca7f-0c7d-44b0-8639-feb6174f2bf1",
   "metadata": {},
   "outputs": [
    {
     "name": "stdout",
     "output_type": "stream",
     "text": [
      "25\n",
      "8\n"
     ]
    }
   ],
   "source": [
    "class power:\n",
    "    def __init__(self, exponent):\n",
    "        self.exponent=exponent\n",
    "\n",
    "    def __call__(self, base):\n",
    "        return base ** self.exponent\n",
    "\n",
    "#making object of power class\n",
    "square=power(2)\n",
    "cube=power(3)\n",
    "\n",
    "#now we can call objects as functions\n",
    "result_square=square(5)\n",
    "result_cube=cube(2)\n",
    "\n",
    "print(result_square)\n",
    "print(result_cube)"
   ]
  },
  {
   "cell_type": "markdown",
   "id": "81717c60-9e51-4fca-8b0a-f624d37921a5",
   "metadata": {},
   "source": [
    "This code defines a class called power. This class takes an initializer (__init__) that sets the exponent. The class has a callable method (__call__) that raises the given base to a previously specified power and returns the result. The code creates square (power 2) and cube (power 3) objects. It then calls these objects as functions to find the square of 5 and the cube of 2, respectively, and prints the results."
   ]
  },
  {
   "cell_type": "code",
   "execution_count": null,
   "id": "5ea14550-d411-4172-a1fa-ff8e458b75b9",
   "metadata": {},
   "outputs": [],
   "source": []
  },
  {
   "cell_type": "markdown",
   "id": "e99f864f-09ba-4571-8046-9ec8954ae30d",
   "metadata": {},
   "source": [
    "# Practical Questions"
   ]
  },
  {
   "cell_type": "markdown",
   "id": "9f575a78-ff44-4d19-b577-12028ad518e3",
   "metadata": {},
   "source": [
    "**1. Create a parent class Animal with a method speak() that prints a generic message. Create a child class Dog\n",
    "that overrides the speak() method to print \"Bark!\"**"
   ]
  },
  {
   "cell_type": "code",
   "execution_count": 26,
   "id": "eedcdc96-dbdb-4a2e-b22d-86dffa942193",
   "metadata": {},
   "outputs": [
    {
     "name": "stdout",
     "output_type": "stream",
     "text": [
      "animal is speaking\n",
      "dog is barking\n"
     ]
    }
   ],
   "source": [
    "class animal:\n",
    "    def speak(self):\n",
    "        print(\"animal is speaking\")\n",
    "\n",
    "class dog(animal):\n",
    "    def speak(self):\n",
    "        print(\"dog is barking\")\n",
    "\n",
    "animal_sound=animal()\n",
    "animal_sound.speak()\n",
    "\n",
    "dog_sound=dog()\n",
    "dog_sound.speak()"
   ]
  },
  {
   "cell_type": "markdown",
   "id": "c21b226d-cd39-4903-a97b-8347a3532fc8",
   "metadata": {},
   "source": [
    "**2. Write a program to create an abstract class Shape with a method area(). Derive classes Circle and Rectangle\n",
    "from it and implement the area() method in both.**"
   ]
  },
  {
   "cell_type": "code",
   "execution_count": 56,
   "id": "612364a7-ab88-4207-a723-b1dfabf86892",
   "metadata": {},
   "outputs": [
    {
     "name": "stdout",
     "output_type": "stream",
     "text": [
      "area of circle is =  78.53975\n",
      "area of rectangle is =  30\n"
     ]
    }
   ],
   "source": [
    "from abc import ABC, abstractmethod\n",
    "\n",
    "class shape(ABC):\n",
    "    @abstractmethod\n",
    "    def area(self):\n",
    "        pass \n",
    "\n",
    "class circle(shape):\n",
    "    def __init__(self, radius):\n",
    "        self.radius=radius\n",
    "\n",
    "    def area(self):\n",
    "        return 3.14159*self.radius*self.radius\n",
    "\n",
    "class rectangle(shape):\n",
    "    def __init__(self, length, width):\n",
    "        self.length=length\n",
    "        self.width=width\n",
    "\n",
    "    def area(self):\n",
    "        return self.length*self.width\n",
    "\n",
    "my_circle=circle(5)\n",
    "my_rectangle=rectangle(5, 6)\n",
    "\n",
    "print(\"area of circle is = \",my_circle.area())\n",
    "print(\"area of rectangle is = \",my_rectangle.area())"
   ]
  },
  {
   "cell_type": "markdown",
   "id": "4142af5e-5c2e-43bb-8276-50e0228e93e7",
   "metadata": {},
   "source": [
    "**3.  Implement a multi-level inheritance scenario where a class Vehicle has an attribute type. Derive a class Car\n",
    "and further derive a class ElectricCar that adds a battery attribute.**"
   ]
  },
  {
   "cell_type": "code",
   "execution_count": 104,
   "id": "9842b5b8-1ace-499e-a508-4cd7b0180e63",
   "metadata": {},
   "outputs": [
    {
     "name": "stdout",
     "output_type": "stream",
     "text": [
      "lithium ion\n",
      "Tesla 3\n",
      "car\n"
     ]
    }
   ],
   "source": [
    "class vehicle:\n",
    "    def __init__(self, type):\n",
    "        self.type=type\n",
    "\n",
    "class car(vehicle):\n",
    "    def __init__(self, model):\n",
    "        super().__init__(\"car\")\n",
    "        self.model=model\n",
    "\n",
    "class electric_car(car):\n",
    "    def __init__(self, model, battery):\n",
    "        super().__init__(model)\n",
    "        self.battery=battery\n",
    "\n",
    "new_electric_car=electric_car(\"Tesla 3\", \"lithium ion\")\n",
    "print(new_electric_car.battery)\n",
    "print(new_electric_car.model)\n",
    "print(new_electric_car.type)"
   ]
  },
  {
   "cell_type": "markdown",
   "id": "d7ff96c4-d52e-476c-9401-df264ffd0e11",
   "metadata": {},
   "source": [
    "**4.  Demonstrate polymorphism by creating a base class Bird with a method fly(). Create two derived classes\n",
    "Sparrow and Penguin that override the fly() method.**"
   ]
  },
  {
   "cell_type": "code",
   "execution_count": 147,
   "id": "819a8bf0-3bdd-46c5-98a7-f826498fb202",
   "metadata": {},
   "outputs": [
    {
     "name": "stdout",
     "output_type": "stream",
     "text": [
      "can fly\n",
      "sparrow can fly and swim.\n",
      "penguin can swim\n"
     ]
    }
   ],
   "source": [
    "class bird:\n",
    "    def fly(self):\n",
    "        print(\"can fly\")\n",
    "\n",
    "class sparrow(bird):\n",
    "    def fly(self):\n",
    "        print(\"sparrow can fly and swim.\")\n",
    "\n",
    "class penguin(bird):\n",
    "    def fly(self):\n",
    "        print(\"penguin can swim\")\n",
    "\n",
    "a_bird=bird()\n",
    "a_bird.fly()\n",
    "sparrow=sparrow()\n",
    "sparrow.fly()\n",
    "penguin=penguin()\n",
    "penguin.fly()"
   ]
  },
  {
   "cell_type": "markdown",
   "id": "6465ca77-a7a1-4ed0-962e-c1c8ad18372a",
   "metadata": {},
   "source": [
    "**5. Write a program to demonstrate encapsulation by creating a class BankAccount with private attributes\n",
    "balance and methods to deposit, withdraw, and check balance.**"
   ]
  },
  {
   "cell_type": "code",
   "execution_count": 231,
   "id": "3f7b118e-06c5-45bd-86f1-1f8f38f806ce",
   "metadata": {},
   "outputs": [
    {
     "data": {
      "text/plain": [
       "300"
      ]
     },
     "execution_count": 231,
     "metadata": {},
     "output_type": "execute_result"
    }
   ],
   "source": [
    "class BankAccount:\n",
    "    def __init__(self, initial_balance=0):\n",
    "        self.__balance=initial_balance\n",
    "\n",
    "    def deposit(self, amount):\n",
    "        if amount>0:\n",
    "            self.__balance=self.__balance+amount\n",
    "        else:\n",
    "            print(\"Invalid amount\")\n",
    "\n",
    "    def withdraw(self, amount):\n",
    "        if amount>=0:\n",
    "            self.__balance=self.__balance-amount\n",
    "        else:\n",
    "            print(\"Invalid amount\")\n",
    "\n",
    "    def check_balance(self):\n",
    "        return self.__balance\n",
    "\n",
    "\n",
    "my_account=BankAccount(500)\n",
    "my_account.check_balance()\n",
    "my_account.deposit(200)\n",
    "my_account.check_balance()\n",
    "my_account.withdraw(500)\n",
    "my_account.check_balance()\n",
    "\n",
    "my_account.deposit(100)\n",
    "my_account.check_balance()\n",
    "\n",
    "my_account.deposit(400)\n",
    "my_account.check_balance()\n",
    "\n",
    "my_account.withdraw(400)\n",
    "my_account.check_balance()"
   ]
  },
  {
   "cell_type": "markdown",
   "id": "b92bb3c2-ed70-445c-b443-922d0d7ab802",
   "metadata": {},
   "source": [
    "**6. Demonstrate runtime polymorphism using a method play() in a base class Instrument. Derive classes Guitar\n",
    "and Piano that implement their own version of play().**"
   ]
  },
  {
   "cell_type": "code",
   "execution_count": 276,
   "id": "68e13f66-afc6-445c-96c6-8584dee56e82",
   "metadata": {},
   "outputs": [
    {
     "name": "stdout",
     "output_type": "stream",
     "text": [
      "Instrument is playing\n",
      "Guitar is playing\n",
      "Piano is playing\n"
     ]
    }
   ],
   "source": [
    "class Instrument:\n",
    "    def play(self):\n",
    "        print(\"Instrument is playing\")\n",
    "\n",
    "class Guitar(Instrument):\n",
    "    def play(self):\n",
    "        print(\"Guitar is playing\")\n",
    "\n",
    "class Piano(Instrument):\n",
    "    def play(self):\n",
    "        print(\"Piano is playing\")\n",
    "\n",
    "instrument=Instrument()\n",
    "instrument.play()\n",
    "\n",
    "guitar=Guitar()\n",
    "guitar.play()\n",
    "\n",
    "piano=Piano()\n",
    "piano.play()"
   ]
  },
  {
   "cell_type": "markdown",
   "id": "4b77a3fe-1745-4e47-abae-8787944af40d",
   "metadata": {},
   "source": [
    "**7. Create a class MathOperations with a class method add_numbers() to add two numbers and a static\n",
    "method subtract_numbers() to subtract two numbers.**"
   ]
  },
  {
   "cell_type": "code",
   "execution_count": 309,
   "id": "aca4de13-297a-4778-814e-9091321a7c82",
   "metadata": {
    "scrolled": true
   },
   "outputs": [
    {
     "name": "stdout",
     "output_type": "stream",
     "text": [
      "5\n",
      "3\n"
     ]
    }
   ],
   "source": [
    "class MathOperations:\n",
    "    @classmethod\n",
    "    def add_numbers(cls, x, y):\n",
    "        return x+y \n",
    "        \n",
    "    @staticmethod\n",
    "    def subtract_numbers(x, y):\n",
    "        return x-y\n",
    "\n",
    "#class method\n",
    "add_operation=MathOperations.add_numbers(2,3)\n",
    "print(add_operation)\n",
    "\n",
    "#static method\n",
    "subtract_operation=MathOperations.subtract_numbers(5,2)\n",
    "print(subtract_operation)"
   ]
  },
  {
   "cell_type": "markdown",
   "id": "6b747e93-b05d-48fc-88dc-5fb36a55b4e6",
   "metadata": {},
   "source": [
    "**8. Implement a class Person with a class method to count the total number of persons created.**"
   ]
  },
  {
   "cell_type": "code",
   "execution_count": 11,
   "id": "9258b0a4-a803-4997-96ce-e28708290f95",
   "metadata": {},
   "outputs": [
    {
     "name": "stdout",
     "output_type": "stream",
     "text": [
      "3\n"
     ]
    }
   ],
   "source": [
    "class person:\n",
    "    total_persons=0\n",
    "\n",
    "    def __init__(self, name):\n",
    "        self.name=name\n",
    "        person.total_persons=person.total_persons+1\n",
    "\n",
    "    @classmethod\n",
    "    def get_total_persons(cls):\n",
    "        return cls.total_persons\n",
    "\n",
    "person1=person(\"shivam\")\n",
    "person2=person(\"sonu\")\n",
    "person3=person(\"ravi\")\n",
    "\n",
    "total=person.get_total_persons()\n",
    "print(total)"
   ]
  },
  {
   "cell_type": "markdown",
   "id": "b9e36ab6-185a-40e0-9719-196120469ad6",
   "metadata": {},
   "source": [
    "**9. Write a class Fraction with attributes numerator and denominator. Override the str method to display the fraction as \"numerator/denominator\".**"
   ]
  },
  {
   "cell_type": "code",
   "execution_count": 79,
   "id": "3fb52d3e-9cf8-4038-9804-e26599d9bcbf",
   "metadata": {},
   "outputs": [
    {
     "name": "stdout",
     "output_type": "stream",
     "text": [
      "5/2\n",
      "5/2\n"
     ]
    }
   ],
   "source": [
    "class Fraction:\n",
    "    def __init__(self, numerator, denominator):\n",
    "        self.numerator=numerator\n",
    "        self.denominator=denominator\n",
    "\n",
    "    def __str__(self):\n",
    "        return f\"{self.numerator}/{self.denominator}\"\n",
    "\n",
    "fraction1=Fraction(5,2)\n",
    "print(fraction1)\n",
    "\n",
    "string_representation=str(fraction1)\n",
    "print(string_representation)"
   ]
  },
  {
   "cell_type": "markdown",
   "id": "d42e85ca-319f-41b8-be36-d97e1f8c2e99",
   "metadata": {},
   "source": [
    "**10. Demonstrate operator overloading by creating a class Vector and overriding the add method to add two vectors.**"
   ]
  },
  {
   "cell_type": "code",
   "execution_count": 96,
   "id": "294bf35e-ce52-4142-a2d9-13d1cae2ae62",
   "metadata": {},
   "outputs": [
    {
     "name": "stdout",
     "output_type": "stream",
     "text": [
      "vectors must have the same dimensions\n"
     ]
    }
   ],
   "source": [
    "class vector:\n",
    "    def __init__(self, components):\n",
    "        self.components=components\n",
    "\n",
    "    def __add__(self, other):\n",
    "        if len(self.components) != len(other.components):\n",
    "            return \"vectors must have the same dimensions\"\n",
    "        new_components=[]\n",
    "        for i in range(len(self.components)):\n",
    "            new_components.append(self.components[i]+other.components[i])\n",
    "        return vector(new_components)\n",
    "\n",
    "    def __str__(self):\n",
    "        return f\"vector({self.components})\"\n",
    "\n",
    "v1=vector([1,2])\n",
    "v2=vector([2,3,4])\n",
    "v3=v1+v2\n",
    "print(v3)"
   ]
  },
  {
   "cell_type": "markdown",
   "id": "da8af518-60f4-4fb3-b6d7-b58fdfe0558c",
   "metadata": {},
   "source": [
    "**11. Create a class Person with attributes name and age. Add a method greet() that prints \"Hello, my name is\n",
    "{name} and I am {age} years old.\"**"
   ]
  },
  {
   "cell_type": "code",
   "execution_count": 123,
   "id": "ce9f1699-f75b-4bd3-b7ca-d49ef1951b4e",
   "metadata": {},
   "outputs": [
    {
     "name": "stdout",
     "output_type": "stream",
     "text": [
      "Hello, my name is Shivam and i am 22 years old.\n"
     ]
    }
   ],
   "source": [
    "class Person:\n",
    "    def __init__(self, name, age):\n",
    "        self.name=name\n",
    "        self.age=age\n",
    "        \n",
    "    def greet(self):\n",
    "        return f\"Hello, my name is {self.name} and i am {self.age} years old.\"\n",
    "\n",
    "person_name=Person(\"Shivam\", \"22\")\n",
    "print(person_name.greet())"
   ]
  },
  {
   "cell_type": "markdown",
   "id": "6143ea83-7a6e-46e0-8019-63e43b0740d4",
   "metadata": {},
   "source": [
    "**12. Implement a class Student with attributes name and grades. Create a method average_grade() to compute\n",
    "the average of the grades.**"
   ]
  },
  {
   "cell_type": "code",
   "execution_count": 150,
   "id": "59cbca37-0a1c-4a14-9c0e-011f166a588c",
   "metadata": {},
   "outputs": [
    {
     "name": "stdout",
     "output_type": "stream",
     "text": [
      "Shivam\n"
     ]
    },
    {
     "data": {
      "text/plain": [
       "56.25"
      ]
     },
     "execution_count": 150,
     "metadata": {},
     "output_type": "execute_result"
    }
   ],
   "source": [
    "class Student:\n",
    "    def __init__(self, name, grades):\n",
    "        self.name=name\n",
    "        self.grades=grades\n",
    "\n",
    "    def average_grade(self):\n",
    "        if self.grades:\n",
    "            return sum(self.grades)/len(self.grades)\n",
    "        else:\n",
    "            return 0\n",
    "\n",
    "student1=Student(\"Shivam\", [45,50,60,70])\n",
    "print(student1.name)\n",
    "student1.average_grade()"
   ]
  },
  {
   "cell_type": "markdown",
   "id": "aa793de9-bcc2-4d6a-ab04-e74b2ee93158",
   "metadata": {},
   "source": [
    "**13. Create a class Rectangle with methods set_dimensions() to set the dimensions and area() to calculate the\n",
    "area.**"
   ]
  },
  {
   "cell_type": "code",
   "execution_count": 174,
   "id": "795bedc1-32bc-4698-8ed0-8bbb35b7fc3d",
   "metadata": {},
   "outputs": [
    {
     "name": "stdout",
     "output_type": "stream",
     "text": [
      "0\n",
      "0\n",
      "5\n",
      "3\n",
      "area of rectangle is= 15\n"
     ]
    }
   ],
   "source": [
    "class Rectangle:\n",
    "    def __init__(self):\n",
    "        self.length=0\n",
    "        self.width=0\n",
    "\n",
    "    def set_dimensions(self, length, width):\n",
    "        self.length=length\n",
    "        self.width=width\n",
    "\n",
    "    def area(self):\n",
    "        return self.length*self.width\n",
    "\n",
    "my_rect=Rectangle()\n",
    "print(my_rect.length)\n",
    "print(my_rect.width)\n",
    "\n",
    "my_rect.set_dimensions(5, 3)\n",
    "print(my_rect.length)\n",
    "print(my_rect.width)\n",
    "\n",
    "print(\"area of rectangle is=\",my_rect.area())"
   ]
  },
  {
   "cell_type": "markdown",
   "id": "00b2549c-9ae7-48f6-9a40-152046e1d0db",
   "metadata": {},
   "source": [
    "**14. Create a class Employee with a method calculate_salary() that computes the salary based on hours worked\n",
    "and hourly rate. Create a derived class Manager that adds a bonus to the salary.**"
   ]
  },
  {
   "cell_type": "code",
   "execution_count": 244,
   "id": "d76a17c7-da7e-4864-8f6d-a48fd9acfb85",
   "metadata": {},
   "outputs": [
    {
     "name": "stdout",
     "output_type": "stream",
     "text": [
      "hours_worked= 44\n",
      "hourly_rate= 9\n",
      "total salary of emp1  = 11880\n",
      "emp1 salary after adding bonus by manager= 13880\n"
     ]
    }
   ],
   "source": [
    "class Employee:\n",
    "    def __init__(self, hours_worked, hourly_rate):\n",
    "        self.hours_worked=hours_worked\n",
    "        self.hourly_rate=hourly_rate\n",
    "\n",
    "    def calculate_salary(self):\n",
    "        return self.hours_worked*self.hourly_rate*30\n",
    "\n",
    "class Manager(Employee):\n",
    "    def __init__(self, hours_worked, hourly_rate, bonus):\n",
    "        super().__init__(hours_worked, hourly_rate)\n",
    "        self.bonus=bonus\n",
    "\n",
    "    def calculate_salary(self):\n",
    "        base_salary = super().calculate_salary()\n",
    "        return base_salary + self.bonus\n",
    "\n",
    "emp1=Employee(9, 44)\n",
    "print(\"hours_worked=\",emp1.hourly_rate)\n",
    "print(\"hourly_rate=\",emp1.hours_worked)\n",
    "print(\"total salary of emp1  =\", emp1.calculate_salary())\n",
    "\n",
    "emp1_salary_by_manager=Manager(9, 44, 2000)\n",
    "print(\"emp1 salary after adding bonus by manager=\",emp1_salary_by_manager.calculate_salary())"
   ]
  },
  {
   "cell_type": "markdown",
   "id": "81b5898c-6c1a-4031-825f-66cc46197ba0",
   "metadata": {},
   "source": [
    "**15. Create a class Product with attributes name, price, and quantity. Implement a method total_price() that\n",
    "calculates the total price of the product.**"
   ]
  },
  {
   "cell_type": "code",
   "execution_count": 246,
   "id": "9a061acb-7e4b-450d-8726-d370afac7582",
   "metadata": {},
   "outputs": [
    {
     "name": "stdout",
     "output_type": "stream",
     "text": [
      "total price of the Product= 350\n"
     ]
    }
   ],
   "source": [
    "class Product:\n",
    "    def __init__(self, name, price, quantity):\n",
    "        self.name=name\n",
    "        self.price=price\n",
    "        self.quantity=quantity\n",
    "\n",
    "    def total_price(self):\n",
    "        return self.price*self.quantity\n",
    "\n",
    "product_details=Product(\"Bottle\", 35, 10)\n",
    "print(\"total price of the Product=\",product_details.total_price())"
   ]
  },
  {
   "cell_type": "markdown",
   "id": "b1e33277-654b-41e1-8de8-9bd430cfe5f9",
   "metadata": {},
   "source": [
    "**16. Create a class Animal with an abstract method sound(). Create two derived classes Cow and Sheep that\n",
    "implement the sound() method.**"
   ]
  },
  {
   "cell_type": "code",
   "execution_count": 260,
   "id": "b6b22a54-32c1-49f5-bb09-5afa42f3526c",
   "metadata": {},
   "outputs": [
    {
     "name": "stdout",
     "output_type": "stream",
     "text": [
      "Cow's sound\n",
      "Sheep's sound\n"
     ]
    }
   ],
   "source": [
    "from abc import ABC, abstractmethod\n",
    "\n",
    "class Animal(ABC):\n",
    "    @abstractmethod\n",
    "    def sound(self):\n",
    "        pass\n",
    "\n",
    "class Cow(Animal):\n",
    "    def sound(self):\n",
    "        print(\"Cow's sound\")\n",
    "\n",
    "class Sheep(Animal):\n",
    "    def sound(self):\n",
    "        print(\"Sheep's sound\")\n",
    "\n",
    "cow=Cow()\n",
    "cow.sound()\n",
    "\n",
    "sheep=Sheep()\n",
    "sheep.sound()\n",
    "\n",
    "#we can not make object of Animal class because that is a abstract method\n",
    "another_animal=Animal()"
   ]
  },
  {
   "cell_type": "markdown",
   "id": "0ece1b4c-5b8c-40fe-884c-8725d989dd4f",
   "metadata": {},
   "source": [
    "**17. Create a class Book with attributes title, author, and year_published. Add a method get_book_info() that\n",
    "returns a formatted string with the book's details.**"
   ]
  },
  {
   "cell_type": "code",
   "execution_count": 279,
   "id": "99e945d9-8070-4445-9a23-1bd0f450018b",
   "metadata": {},
   "outputs": [
    {
     "name": "stdout",
     "output_type": "stream",
     "text": [
      "This 1984 book is authored by George Orwell and published in 1949.\n"
     ]
    }
   ],
   "source": [
    "class Book:\n",
    "    def __init__(self, title, author, year_published):\n",
    "        self.title=title\n",
    "        self.author=author\n",
    "        self.year_published=year_published\n",
    "\n",
    "    def get_book_info(self):\n",
    "        return f\"This {self.title} book is authored by {self.author} and published in {self.year_published}.\"\n",
    "\n",
    "book_info=Book(\"1984\", \"George Orwell\", 1949)\n",
    "print(book_info.get_book_info())"
   ]
  },
  {
   "cell_type": "markdown",
   "id": "9141e934-ceae-4399-baba-87b624aa397f",
   "metadata": {},
   "source": [
    "**18. Create a class House with attributes address and price. Create a derived class Mansion that adds an\n",
    "attribute number_of_rooms.**"
   ]
  },
  {
   "cell_type": "code",
   "execution_count": 306,
   "id": "2a5cedbb-320a-4d04-b8a6-430451bc36ad",
   "metadata": {},
   "outputs": [
    {
     "name": "stdout",
     "output_type": "stream",
     "text": [
      "House Details:-\n",
      "123 Main Street,Shanti Nagar, Patna\n",
      "12000000\n",
      "--------------------\n",
      "Mansion details:-\n",
      "123 Main Street,Shanti Nagar, Patna\n",
      "12000000\n",
      "20\n"
     ]
    }
   ],
   "source": [
    "class House:\n",
    "    def __init__(self, address, price):\n",
    "        self.address=address\n",
    "        self.price=price\n",
    "\n",
    "class Mansion(House):\n",
    "    def __init__(self, address, price, num_of_rooms):\n",
    "        super().__init__(address, price)\n",
    "        self.num_of_rooms=num_of_rooms\n",
    "\n",
    "print(\"House Details:-\")\n",
    "house=House(\"123 Main Street,Shanti Nagar, Patna\", 12000000)\n",
    "print(house.address)\n",
    "print(house.price)\n",
    "\n",
    "print(\"-\"*20)\n",
    "\n",
    "print(\"Mansion details:-\")\n",
    "mansion=Mansion(\"123 Main Street,Shanti Nagar, Patna\", 12000000, 20)\n",
    "print(mansion.address)\n",
    "print(mansion.price)\n",
    "print(mansion.num_of_rooms)"
   ]
  },
  {
   "cell_type": "code",
   "execution_count": null,
   "id": "71d8ce3d-4c00-4b72-83a6-03d34a715b36",
   "metadata": {},
   "outputs": [],
   "source": []
  },
  {
   "cell_type": "code",
   "execution_count": null,
   "id": "ef8cf4bd-761c-4977-a4e7-3bf8b433dd06",
   "metadata": {},
   "outputs": [],
   "source": []
  },
  {
   "cell_type": "code",
   "execution_count": null,
   "id": "51925410-5074-4bca-9e7a-3562aec7bc74",
   "metadata": {},
   "outputs": [],
   "source": []
  }
 ],
 "metadata": {
  "kernelspec": {
   "display_name": "Python 3 (ipykernel)",
   "language": "python",
   "name": "python3"
  },
  "language_info": {
   "codemirror_mode": {
    "name": "ipython",
    "version": 3
   },
   "file_extension": ".py",
   "mimetype": "text/x-python",
   "name": "python",
   "nbconvert_exporter": "python",
   "pygments_lexer": "ipython3",
   "version": "3.12.7"
  }
 },
 "nbformat": 4,
 "nbformat_minor": 5
}
