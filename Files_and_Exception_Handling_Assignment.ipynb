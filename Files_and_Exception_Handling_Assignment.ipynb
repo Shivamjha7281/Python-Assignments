{
  "nbformat": 4,
  "nbformat_minor": 0,
  "metadata": {
    "colab": {
      "provenance": []
    },
    "kernelspec": {
      "name": "python3",
      "display_name": "Python 3"
    },
    "language_info": {
      "name": "python"
    }
  },
  "cells": [
    {
      "cell_type": "markdown",
      "source": [],
      "metadata": {
        "id": "3TC6QMZ9HKWa"
      }
    },
    {
      "cell_type": "markdown",
      "source": [
        "# Assingment Questions and Answers"
      ],
      "metadata": {
        "id": "JqNGyxttHMOk"
      }
    },
    {
      "cell_type": "markdown",
      "source": [
        "**Files, exceptional handling, logging and\n",
        "memory management Questions**"
      ],
      "metadata": {
        "id": "uGXNfxVNHYm5"
      }
    },
    {
      "cell_type": "markdown",
      "source": [
        "**1. What is the difference between interpreted and compiled languages?**"
      ],
      "metadata": {
        "id": "0g0mpntZHeUZ"
      }
    },
    {
      "cell_type": "markdown",
      "source": [
        "Interpreted Language :-\n",
        "\n",
        "- Imagine, we have a recipe written in a foreign language, and we don't know that language. What will you do? we will hire an interpreter. This interpreter will read every line of the recipe and will explain it to us immediately in our language, and we will immediately start cooking according to that line.\n",
        "\n",
        "- Interpreted languages ​​work in a similar way. When we run code written in such a language, an interpreter program instantly converts each line of code into machine language and runs it immediately. It does not need to completely compile the code beforehand.\n",
        "\n",
        "- Python is an interpreted language. When we run a Python script, the Python interpreter converts our code line-by-line into machine-understandable language and runs it.\n",
        "\n",
        "Compiled Language :-\n",
        "\n",
        "- Now imagine, we have a huge book written in a foreign language. If we try to understand every line instantly through an interpreter, it will take a lot of time. So, what will we do? we first get the whole book translated into our language. Once the whole book is in our language, we can read it easily and quickly.\n",
        "\n",
        "- Compiled languages ​​work in a similar way. When we write code in such a language, a program called a compiler converts our entire code into machine language beforehand. This converted language is called an executable file. When we run this file, the computer directly understands the machine language and the program runs very fast because it does not need to translate it again and again.\n",
        "\n",
        "- C++ is a compiled language. When we write a C++ program, we first have to compile it with a compiler. Compilation produces an .exe (on Windows) or similar executable file. When we run this file, our computer directly runs the machine code that is already prepared."
      ],
      "metadata": {
        "id": "Ubpz_HkUHnbZ"
      }
    },
    {
      "cell_type": "markdown",
      "source": [
        "**2. What is exception handling in Python?**"
      ],
      "metadata": {
        "id": "-n3l5zY5KXo6"
      }
    },
    {
      "cell_type": "markdown",
      "source": [
        "- Exception handling in Python is a process used to manage errors (exceptions) that occur during runtime in a program.\n",
        "\n",
        "- It prevents the program from crashing unexpectedly. Suspicious code is placed inside the try block.\n",
        "\n",
        "- If an exception occurs, the corresponding except block catches and handles it. Alternatively, code placed in the finally block is always executed, whether an exception occurs or not.\n",
        "\n",
        "- Exception handling increases the stability and robustness of the program."
      ],
      "metadata": {
        "id": "Oo8J2eaMOEm5"
      }
    },
    {
      "cell_type": "code",
      "source": [
        "try:\n",
        "  n = 10\n",
        "  d = 0\n",
        "  result = n / d\n",
        "  print(result)\n",
        "except ZeroDivisionError:\n",
        "  print(\"Error: Division by zero is not allowed.\")\n",
        "finally:\n",
        "  print(\"This block will always execute, regardless of whether an exception occurred or not.\")\n",
        "\n",
        "print(\"Program continues...\")"
      ],
      "metadata": {
        "colab": {
          "base_uri": "https://localhost:8080/"
        },
        "id": "d8Ka2BkjHbTR",
        "outputId": "0bfb96b6-b862-4fd0-c077-2ab78a189cc2"
      },
      "execution_count": null,
      "outputs": [
        {
          "output_type": "stream",
          "name": "stdout",
          "text": [
            "Error: Division by zero is not allowed.\n",
            "This block will always execute, regardless of whether an exception occurred or not.\n",
            "Program continues...\n"
          ]
        }
      ]
    },
    {
      "cell_type": "markdown",
      "source": [
        "**3. What is the purpose of the finally block in exception handling?**"
      ],
      "metadata": {
        "id": "iKUyYWX3OwK5"
      }
    },
    {
      "cell_type": "markdown",
      "source": [
        "- The finally block is a part of exception handling.\n",
        "\n",
        "- Its main purpose is to execute code that should always run.\n",
        "\n",
        "- This block runs after the try block ends. Whether an exception is thrown in the try block or not, the finally block will run.\n",
        "\n",
        "- Finally usually used to clean up resources."
      ],
      "metadata": {
        "id": "KbIFArS_Ow1x"
      }
    },
    {
      "cell_type": "code",
      "source": [
        "def divide(a, b):\n",
        "  try:\n",
        "    result = a / b\n",
        "    print(result)\n",
        "  except ZeroDivisionError:\n",
        "    print(\"Error: Division is not done by Zero\")\n",
        "  finally:\n",
        "    print(\"complete division\")\n",
        "\n",
        "divide(25, 5)\n",
        "divide(20, 0)"
      ],
      "metadata": {
        "colab": {
          "base_uri": "https://localhost:8080/"
        },
        "id": "CB4_489tN95G",
        "outputId": "46f5bcdc-667a-4c8a-d83a-ed7624c33323"
      },
      "execution_count": null,
      "outputs": [
        {
          "output_type": "stream",
          "name": "stdout",
          "text": [
            "5.0\n",
            "complete division\n",
            "Error: Division is not done by Zero\n",
            "complete division\n"
          ]
        }
      ]
    },
    {
      "cell_type": "markdown",
      "source": [
        "4. **What is logging in Python?**"
      ],
      "metadata": {
        "id": "pnBu3d3US1aZ"
      }
    },
    {
      "cell_type": "markdown",
      "source": [
        "- Logging in Python is a system that records important events that occur while the program is running.\n",
        "\n",
        "- This information helps in debugging, monitoring, and understanding the behavior of the program.\n",
        "\n",
        "- Using the logging module, we can write messages of different levels (such as INFO, ERROR) to files or other locations.\n",
        "\n",
        "- This is a powerful way to track the history of a program and analyze problems.\n",
        "\n",
        "- Logging improves program reliability and maintainability."
      ],
      "metadata": {
        "id": "gipqMvweUhAK"
      }
    },
    {
      "cell_type": "code",
      "source": [
        "#Suppose that we have a function which divides two numbers\n",
        "\n",
        "def divide(a, b):\n",
        "  result = a / b\n",
        "  return result\n",
        "\n",
        "divide(10, 2)\n",
        "divide(5, 0)\n",
        "divide(10, 5)"
      ],
      "metadata": {
        "id": "ZjoBGpRKRvZY"
      },
      "execution_count": null,
      "outputs": []
    },
    {
      "cell_type": "markdown",
      "source": [
        "This code works fine, but if an error occurs (such as division by zero), it simply displays an error message and stops. Using logging, we can record these events in a file."
      ],
      "metadata": {
        "id": "umoCTeVzVygb"
      }
    },
    {
      "cell_type": "code",
      "source": [
        "import logging\n",
        "logging.basicConfig(level=logging.info, format='%(asctime)s-%(levelname)s-%(message)s')\n",
        "def  divide(a, b):\n",
        "    logging.info(f\"dividing {a} by {b}\")\n",
        "    try:\n",
        "        result=a/b\n",
        "        logging.info(f\"result of divison is {result}\")\n",
        "    except ZeroDivisionError:\n",
        "        logging.info(\"division by zero is not possible\")\n",
        "\n",
        "divide(25, 5)\n",
        "divide(25, 0)"
      ],
      "metadata": {
        "id": "w0RB_eb2r0qU"
      },
      "execution_count": null,
      "outputs": []
    },
    {
      "cell_type": "markdown",
      "source": [
        "The code initializes basic logging to display INFO level messages with a timestamp, log level, and the message. It then defines a divide function that logs information about division operations and handles potential ZeroDivisionError by logging an informative message."
      ],
      "metadata": {
        "id": "4ZfLBcqBxt3c"
      }
    },
    {
      "cell_type": "markdown",
      "source": [
        "**5. What is the significance of the __del__ method in Python?**"
      ],
      "metadata": {
        "id": "yZMxlKRrxwFM"
      }
    },
    {
      "cell_type": "markdown",
      "source": [
        "- The __del__ method is a special function in Python that runs when an object (anything we create in Python, like a number, string, or instance of a class we created) is about to be removed from memory.\n",
        "\n",
        "- we can call this the \"finalizer\" or \"destructor\" of the object.\n",
        "\n",
        "- Imagine We have a book which we have got issued from our library. When our work is done and we return the book to the library, the librarian deletes the record that this book is no longer with you.\n",
        "\n",
        "- The __del__ method does something similar. When our Python object is no longer to be used (Python's garbage collector decides it should be removed from memory), the __del__ method is run.\n",
        "\n",
        "- This provides a last chance to do some \"cleanup\" before the object is gone, such as closing a file or releasing a resource."
      ],
      "metadata": {
        "id": "Ro3jfjhHyZYu"
      }
    },
    {
      "cell_type": "markdown",
      "source": [
        "**Example :-**\n",
        "\n",
        "Imagine we went to a government office in Patna and got a temporary slip. When our work is done, we would want that slip to be thrown away. The __del__ method is like the action of throwing away that slip."
      ],
      "metadata": {
        "id": "TREmZWsx1wNM"
      }
    },
    {
      "cell_type": "code",
      "source": [
        "class receipt:\n",
        "    def __init__(self, receipt_id):\n",
        "        self.receipt_id=receipt_id\n",
        "\n",
        "    def __del__(self):\n",
        "        self.receipt_id\n",
        "\n",
        "my_receipt=receipt(\"sk-4399\")\n",
        "print(my_receipt.receipt_id)\n",
        "\n",
        "del my_receipt\n",
        "print(my_receipt.receipt_id)"
      ],
      "metadata": {
        "id": "Ru-Hkx8TxWWU"
      },
      "execution_count": null,
      "outputs": []
    },
    {
      "cell_type": "markdown",
      "source": [
        "**6. What is the difference between import and from ... import in Python?**"
      ],
      "metadata": {
        "id": "VzZrWD7hLiw2"
      }
    },
    {
      "cell_type": "markdown",
      "source": [
        "- In Python, both import and from...import are ways of using code from modules (files of code) in our program, but the way they work is slightly different.\n",
        "\n",
        "- Suppose we are in Patna and we have to go to meet a friend who lives in a big apartment complex.\n",
        "\n",
        "import apartment_complex:\n",
        "- It is like saying that we went to that whole apartment complex. Now if we want to meet our friend, we have to first go inside the complex and then find his flat number, e.g. apartment_complex.dost_ka_flat. we use the name of the module to reach the things inside it.\n",
        "\n",
        "\n",
        "from apartment_complex import dost_ka_flat:\n",
        "- It is like saying that we directly know the address of that friend's flat and we directly go there. Now we do not need to use the name of the complex repeatedly, we can directly use dost_ka_flat."
      ],
      "metadata": {
        "id": "_0LRY0U4NGA1"
      }
    },
    {
      "cell_type": "markdown",
      "source": [
        "- Python has a built-in model called math. It contains many mathematical functions, such as square root (sqrt) and pi (pi)."
      ],
      "metadata": {
        "id": "glNaEbvQOM8H"
      }
    },
    {
      "cell_type": "code",
      "source": [
        "#Use of Import\n",
        "import math\n",
        "\n",
        "result_square_root=math.sqrt(49)\n",
        "print(f\"The square root of 49 is {result_square_root}\")\n",
        "\n",
        "pi_value=math.pi\n",
        "print(f\"The accurate value of pi is {pi_value}\")"
      ],
      "metadata": {
        "id": "ZHZGxNuII2QU"
      },
      "execution_count": null,
      "outputs": []
    },
    {
      "cell_type": "markdown",
      "source": [
        "In the above  code, import math made all the functions and variables of math module available in our program, but to use them we had to add math.prefix"
      ],
      "metadata": {
        "id": "piBw6VyBRabV"
      }
    },
    {
      "cell_type": "code",
      "source": [
        "#Use of from.....import\n",
        "from math import sqrt, pi\n",
        "\n",
        "square_root=sqrt(49)\n",
        "print(f\"The accurte square root of 49 is {square_root}\")\n",
        "\n",
        "pi_value=pi\n",
        "print(f\"The accurate value of pi is {pi_value}\")"
      ],
      "metadata": {
        "id": "c71Wms3cRQ4d"
      },
      "execution_count": null,
      "outputs": []
    },
    {
      "cell_type": "markdown",
      "source": [
        "In the above code, from math import sqrt, pi just imported sqrt and pi from the math module into our program. So we can use them directly."
      ],
      "metadata": {
        "id": "Pl0nXgUfUkmj"
      }
    },
    {
      "cell_type": "markdown",
      "source": [
        "- If you are going to use many functions and variables in a module and you want to avoid code readability and name conflicts, then import module_name is better.\n",
        "\n",
        "- If you are going to use only few specific items of a module and you want to keep the code a bit smaller, then from module_name import item1, item2 can be used. But keep in mind the name conflicts."
      ],
      "metadata": {
        "id": "8Zqvi0nyVTYl"
      }
    },
    {
      "cell_type": "markdown",
      "source": [
        "**7. How can you handle multiple exceptions in Python?**"
      ],
      "metadata": {
        "id": "JlF_Q-y2VgT9"
      }
    },
    {
      "cell_type": "code",
      "source": [
        "#index error\n",
        "def list_opp():\n",
        "    my_list=[1,2,3,4,5]\n",
        "    try:\n",
        "        print(my_list[5])\n",
        "    except IndexError:\n",
        "        print(\"Error: Trying to access the element of outside the list\")\n",
        "\n",
        "list_opp()\n",
        "\n",
        "##Zero Division Error\n",
        "def zero_div(a, b):\n",
        "    try:\n",
        "        result=a/b\n",
        "        print(result)\n",
        "    except ZeroDivisionError:\n",
        "        print(\"Error: division by zero is not possible\")\n",
        "\n",
        "zero_div(10, 2)\n",
        "zero_div(10, 0)\n",
        "\n",
        "#type error\n",
        "def type_error():\n",
        "    try:\n",
        "        result= 2 + \"shivam\"\n",
        "        print(result)\n",
        "    except TypeError:\n",
        "        print(\"Error: Trying to add different data types.\")\n",
        "\n",
        "type_error()\n",
        "\n",
        "#key error\n",
        "def key_error():\n",
        "    my_dict={\"a\":25, \"b\":64}\n",
        "    try:\n",
        "        print(my_dict[\"f\"])\n",
        "    except KeyError:\n",
        "        print(\"Error: This key is not available in the dictionary\")\n",
        "\n",
        "key_error()\n",
        "\n",
        "#Value error\n",
        "def value_error():\n",
        "    try:\n",
        "        integer=int(\"shivam\")\n",
        "        string=str(\"1234\")\n",
        "        print(integer)\n",
        "        print(string)\n",
        "    except ValueError:\n",
        "        print(\"Error: Cannot convert to integer.\")\n",
        "        print(\"Error: Cannot convert to string.\")\n",
        "\n",
        "value_error()"
      ],
      "metadata": {
        "id": "kLzHabh4Ucnj"
      },
      "execution_count": null,
      "outputs": []
    },
    {
      "cell_type": "markdown",
      "source": [
        "- In the above program  i handled five common types of exceptions in five different examples.\n",
        "\n",
        "- Each example generates a specific type of error and is then handled gracefully using a try...except block."
      ],
      "metadata": {
        "id": "PVCiUIbDtBeM"
      }
    },
    {
      "cell_type": "markdown",
      "source": [
        "**8. What is the purpose of the with statement when handling files in Python?**"
      ],
      "metadata": {
        "id": "oxEH8nCSufa8"
      }
    },
    {
      "cell_type": "markdown",
      "source": [
        "Without with statement (problem ho sakti hai):"
      ],
      "metadata": {
        "id": "jnHWVGGH9w8x"
      }
    },
    {
      "cell_type": "code",
      "source": [
        "file = open(\"data.txt.txt\", \"r\")\n",
        "try:\n",
        "    print(file.read())\n",
        "finally:\n",
        "    file.close()\n",
        "\n",
        "file.closed\n",
        "\n",
        "# Agar try block mein error aaye toh bhi file band hogi (lekin 'with' zyada clean hai)"
      ],
      "metadata": {
        "id": "VRciBkuHuebA"
      },
      "execution_count": null,
      "outputs": []
    },
    {
      "cell_type": "markdown",
      "source": [
        "In the above code, we opened the file with open() and then used a finally block to ensure that the file is always closed(), regardless of whether file.read() returns an error or not. Finally does work, but the code is a bit long and less readable."
      ],
      "metadata": {
        "id": "EDV0x0AJ91hJ"
      }
    },
    {
      "cell_type": "markdown",
      "source": [
        "With with statement (easy aur safe):"
      ],
      "metadata": {
        "id": "29fidtYv-N16"
      }
    },
    {
      "cell_type": "code",
      "source": [
        "with open(\"data2.txt.txt\", \"r\") as file:\n",
        "    print(file.read())\n",
        "\n",
        "file.closed\n",
        "\n",
        "#The file is closed automatically when the 'with' block is over"
      ],
      "metadata": {
        "id": "IbQM24wZ-FC2"
      },
      "execution_count": null,
      "outputs": []
    },
    {
      "cell_type": "markdown",
      "source": [
        "**9. What is the difference between multithreading and multiprocessing?**"
      ],
      "metadata": {
        "id": "BYRDYJ7fAmCa"
      }
    },
    {
      "cell_type": "markdown",
      "source": [
        "Multiprocessing\n",
        "\n",
        "- This is a method in which our program runs several separate processes simultaneously.\n",
        "\n",
        "- Each process has its own separate memory space, meaning they do not share resources.\n",
        "\n",
        "- If one process crashes, it does not affect the other processes.\n",
        "\n",
        "- This is better for CPU-intensive tasks because each process can make full use of its own separate CPU core, and there is no issue with Python's Global Interpreter Lock (GIL).\n",
        "\n",
        "- Special methods have to be used to share data between processes."
      ],
      "metadata": {
        "id": "RzyLEVgWCd2T"
      }
    },
    {
      "cell_type": "code",
      "source": [
        "import multiprocessing\n",
        "import time\n",
        "\n",
        "\n",
        "def worker():\n",
        "    print(\"do someting\")\n",
        "    print(\"wait for 2 second\")\n",
        "    time.sleep(2)\n",
        "    print(\"done after waiting\")\n",
        "\n",
        "if __name__ == '__main__':\n",
        "    start=time.perf_counter()\n",
        "    p1=multiprocessing.Process(target=worker)\n",
        "    p2=multiprocessing.Process(target=worker)\n",
        "\n",
        "    p1.start()\n",
        "    p2.start()\n",
        "\n",
        "    p1.join()\n",
        "    p2.join()\n",
        "\n",
        "print(\"all process complete\")\n",
        "end=time.perf_counter()\n",
        "total_time=round(end-start, 2)\n",
        "print(total_time)"
      ],
      "metadata": {
        "colab": {
          "base_uri": "https://localhost:8080/"
        },
        "id": "gphdZhNWAq81",
        "outputId": "981522c4-9212-4e89-a3ae-6744769074ca"
      },
      "execution_count": null,
      "outputs": [
        {
          "output_type": "stream",
          "name": "stdout",
          "text": [
            "do someting\n",
            "wait for 2 second\n",
            "do someting\n",
            "wait for 2 second\n",
            "done after waiting\n",
            "done after waiting\n",
            "all process complete\n",
            "2.05\n"
          ]
        }
      ]
    },
    {
      "cell_type": "markdown",
      "source": [
        "Multithreading\n",
        "\n",
        "- Multithreading is a way of running our program in several small parts (threads) within a single process.\n",
        "\n",
        "- Threads share the same memory space, which makes it easier to share data between them.\n",
        "\n",
        "- It is most effective for I/O-bound tasks (such as network or file operations) where threads do not use much of the CPU and have to wait.\n",
        "\n",
        "- Python's Global Interpreter Lock (GIL) allows only one thread to execute Python bytecode at a time, so CPU-intensive multithreading does not always increase speed."
      ],
      "metadata": {
        "id": "fl40ccS8GOgp"
      }
    },
    {
      "cell_type": "code",
      "source": [
        "import threading\n",
        "import time\n",
        "\n",
        "start_main = time.perf_counter()\n",
        "\n",
        "def worker():\n",
        "    print(\"do something\")\n",
        "    print(\"wait for 2 second\")\n",
        "    time.sleep(2)\n",
        "    print(\"done after waiting\")\n",
        "\n",
        "if __name__ == \"__main__\":\n",
        "\n",
        "    t1 = threading.Thread(target=worker)\n",
        "    t2 = threading.Thread(target=worker)\n",
        "\n",
        "    t1.start()\n",
        "    t2.start()\n",
        "\n",
        "    t1.join()\n",
        "    t2.join()\n",
        "\n",
        "    print(\"All Threads done\")\n",
        "    end_main = time.perf_counter()\n",
        "    total_time = round(end_main - start_main, 2)\n",
        "    print(total_time)"
      ],
      "metadata": {
        "colab": {
          "base_uri": "https://localhost:8080/"
        },
        "id": "yYi-mrqwLIRc",
        "outputId": "7d64c7c7-25f5-4a74-c0cf-062b697f6135"
      },
      "execution_count": null,
      "outputs": [
        {
          "output_type": "stream",
          "name": "stdout",
          "text": [
            "do something\n",
            "wait for 2 second\n",
            "do something\n",
            "wait for 2 second\n",
            "done after waitingdone after waiting\n",
            "\n",
            "All Threads done\n",
            "2.0\n"
          ]
        }
      ]
    },
    {
      "cell_type": "markdown",
      "source": [
        "**10. What are the advantages of using logging in a program?**"
      ],
      "metadata": {
        "id": "jbXj_lWmNZs8"
      }
    },
    {
      "cell_type": "markdown",
      "source": [
        "There are many advantages of using logging in Python, which help us to  develop, debug, and maintain our program.\n",
        "\n",
        "- Tracking errors is easy: Logging records errors and warnings that occur in your program. When something goes wrong, you can look at the log file and immediately know when and where the problem occurred. This makes debugging very easy.\n",
        "\n",
        "- Understanding the flow of the program: Logs show us how our program is working - which functions are being called when, what important decisions are being made. This lets us understand the activities inside the program step-by-step.\n",
        "\n",
        "- Better information for debugging: Besides just the error message, logs also give us context. we get to know the state the program was in before the error occurred, which variables had what value. This helps in getting to the root of the problem."
      ],
      "metadata": {
        "id": "JwZVe2syQKoF"
      }
    },
    {
      "cell_type": "markdown",
      "source": [
        "**11. What is memory management in Python?**"
      ],
      "metadata": {
        "id": "j4N0Qr6HRA2L"
      }
    },
    {
      "cell_type": "markdown",
      "source": [
        "- Memory management in Python means that Python automatically decides when to create space in computer memory for our created objects and when to take back that space when they are not needed.\n",
        "\n",
        "- This way you don't have to worry about allocating and deallocating memory yourself."
      ],
      "metadata": {
        "id": "1kbhjch0W56X"
      }
    },
    {
      "cell_type": "code",
      "source": [
        "my_number=10\n",
        "print(my_number)\n",
        "#Python will create a space for the integer '10' in\n",
        "#memory and 'my_number' will point to that space\n",
        "\n",
        "my_number=20\n",
        "print(my_number)\n",
        "#Now 'my_number' will point to a new integer '20'\n",
        "#If the memory allocated for '10' is no longer being pointed to by anyone, then\n",
        "# Python's garbage collector will reclaim it.\n",
        "\n",
        "another_number=my_number\n",
        "#another_number is also pointing to the same place as my_number(i.e. 20)\n",
        "\n",
        "del my_number\n",
        "#We removed the reference to my_number\n",
        "#20 is still referenced by another_number\n",
        "\n",
        "del another_number\n",
        "# Now no variable is referencing 20\n",
        "#Python's garbage collector will eventually reclaim this memory"
      ],
      "metadata": {
        "id": "2Rdw72F9Niby"
      },
      "execution_count": null,
      "outputs": []
    },
    {
      "cell_type": "markdown",
      "source": [
        "**12. What are the basic steps involved in exception handling in Python?**"
      ],
      "metadata": {
        "id": "TKI2XHEhXW5i"
      }
    },
    {
      "cell_type": "markdown",
      "source": [
        "(I) Identify the Code Block That Might Raise an Exception (Try Block) - first we identify that part of our code where there is a possibility of error (exception). we keep this code inside the try block. The meaning of try block is \"run this code, and if there is any mistake then tell us.\""
      ],
      "metadata": {
        "id": "oF0pz1xKZwWs"
      }
    },
    {
      "cell_type": "code",
      "source": [
        "try:\n",
        "  result = 10/0\n",
        "  print(result)\n",
        "except:\n",
        "  print(\"something is wrong\")"
      ],
      "metadata": {
        "colab": {
          "base_uri": "https://localhost:8080/"
        },
        "id": "EGL1jwqUXpJR",
        "outputId": "a501c0cc-0f38-40b7-e444-99385b2d1642"
      },
      "execution_count": null,
      "outputs": [
        {
          "output_type": "stream",
          "name": "stdout",
          "text": [
            "something is wrong\n"
          ]
        }
      ]
    },
    {
      "cell_type": "markdown",
      "source": [
        "(II) Specify How to Handle the Exception(s) (Except Block(s)): If any exception occurs inside the try block, the program immediately jumps to the except block. In the except block, you write the code that tells what to do when that error occurs. You can use one or more except blocks, each to handle different types of exceptions."
      ],
      "metadata": {
        "id": "SdYSAWq7bAma"
      }
    },
    {
      "cell_type": "code",
      "source": [
        "try:\n",
        "  print(int(\"abc\"))\n",
        "except ValueError:\n",
        "  print(\"This is not a number\")\n",
        "except TypeError:\n",
        "  print(\"Given data is wrong type\")"
      ],
      "metadata": {
        "id": "Qe9yId64bXw5"
      },
      "execution_count": null,
      "outputs": []
    },
    {
      "cell_type": "markdown",
      "source": [
        "(III) Code That Always Runs (Finally Block): The finally block is an optional part that comes after the try block. In this block you write the code that will always be executed, whether errors occur in the try block or not, and if errors occur, whether they are handled or not. The finally block is usually used for cleanup operations, such as closing files or releasing resources."
      ],
      "metadata": {
        "id": "Ho1MublEb7Za"
      }
    },
    {
      "cell_type": "code",
      "source": [
        "file = None\n",
        "try:\n",
        "  file=open(\"my_file.txt\", \"r\")\n",
        "  print(file.read())\n",
        "except FileNotFoundError:\n",
        "  print(\"This file is not available\")\n",
        "finally:\n",
        "  if file is not None:\n",
        "    file.close()\n",
        "    print(\"file closed\")"
      ],
      "metadata": {
        "id": "5uJwqR6scT0Z"
      },
      "execution_count": null,
      "outputs": []
    },
    {
      "cell_type": "markdown",
      "source": [
        "(IV) Code That Runs If No Exception Occurs (Else Block): The else block is also optional and it comes after the except blocks. In this block, you write the code that will be executed only when no exception occurs in the try block."
      ],
      "metadata": {
        "id": "GEaw1UKmfM2C"
      }
    },
    {
      "cell_type": "code",
      "source": [
        "try:\n",
        "    a=int(input(\"enter number1=\"))\n",
        "    b=int(input(\"enter number2=\"))\n",
        "    result = a/b\n",
        "except ValueError:\n",
        "    print(\"only numbers can be entered\")\n",
        "except ZeroDivisionError:\n",
        "    print(\"division by zero is not possible\")\n",
        "else:\n",
        "    print(f\"result of division is {result}\")\n",
        "finally:\n",
        "    print(\"this will always run\")"
      ],
      "metadata": {
        "id": "S7GT4eRwel3J"
      },
      "execution_count": null,
      "outputs": []
    },
    {
      "cell_type": "markdown",
      "source": [
        "**13.  Why is memory management important in Python?**"
      ],
      "metadata": {
        "id": "gPdAv-t7iTUa"
      }
    },
    {
      "cell_type": "markdown",
      "source": [
        "(i) Program runs smoothly: If Python manages memory efficiently (i.e. it gives memory when needed and takes it back when not needed), then your programs run smoothly and do not hang. Imagine if traffic management is good in Patna, then all the vehicles run smoothly.\n",
        "\n",
        "(ii) Saves computer resources: Good memory management saves the computer's memory (RAM) from getting wasted. When your program no longer needs any data, Python frees up that memory so that it can be used by some other program or some other part of your program. This is similar to renting out a vacant house so that it does not lie idle.\n",
        "\n",
        "(iii) Memory-Related Errors se Bachav: Agar memory ko theek se manage na kiya jaaye toh \"memory leak\" jaisi problems aa sakti hain, jahan program dhire-dhire saari memory kha jaata hai aur crash ho jaata hai. Automatic memory management in errors se bachata hai. Yeh waisa hai jaise agar Patna ke nalon ki safai theek se ho toh woh block nahi honge aur paani jama nahi hoga.\n",
        "\n",
        "(iv) Developer's work is easy: Python's automatic memory management frees developers from the tension of allocating and deallocating memory. This allows developers to focus on the logic and functionality of the program, rather than the details of memory management. It is like if you know the recipe for making rasgulla, you focus only on it, not thinking about where the ingredients come from and how to store them (someone else is looking after that work)."
      ],
      "metadata": {
        "id": "V78Xpl33iy-x"
      }
    },
    {
      "cell_type": "markdown",
      "source": [
        "**14. What is the role of try and except in exception handling?**"
      ],
      "metadata": {
        "id": "Gz9siOlPj-bh"
      }
    },
    {
      "cell_type": "markdown",
      "source": [
        "- Keeping the code suspicious: The main job of the try block is to find the part of your code where you think an error (exception) might occur. This tells Python \"run this code, but if there is a problem, I'm ready to handle it.\"\n",
        "\n",
        "- Explain what to do when an error occurs: The job of the except block is to define what your program will do if a specific type of error occurs inside the try block. You can use one or more except blocks, each to handle different types of exceptions.\n",
        "\n",
        "- Preventing the program from crashing: If you use try and except, and an error occurs in the try block, the program does not crash immediately. Rather, Python searches for the matching except block for that error and runs the code inside it.\n"
      ],
      "metadata": {
        "id": "glgsJgBJkr-B"
      }
    },
    {
      "cell_type": "markdown",
      "source": [
        "**15.  How does Python's garbage collection system work?**"
      ],
      "metadata": {
        "id": "y4wXTfpNlXkA"
      }
    },
    {
      "cell_type": "markdown",
      "source": [
        "- Counting References: Python keeps a count of every thing, how many variables are pointing to it. When this count becomes zero, meaning no one is using it anymore, then its memory gets used up.\n",
        "\n",
        "- Breaking Circular Links: Sometimes objects get linked together and nothing points to them from outside. A special system of Python breaks such \"circular\" links and frees up memory.\n",
        "\n",
        "- Runs automatically: Python does this memory clearing automatically. You don't have to think about when to do it.\n",
        "\n",
        "- Cleaning by Age: Python divides memory into generations. New things are checked more because they can become useless quickly. Old things are checked less.\n",
        "\n",
        "- Focus on Coding: The advantage of all this is that you do not need to go into the details of memory management. Python takes care of memory for you, so you can concentrate on making your program."
      ],
      "metadata": {
        "id": "eJoevZuNnmLS"
      }
    },
    {
      "cell_type": "markdown",
      "source": [
        "**16. What is the purpose of the else block in exception handling?**"
      ],
      "metadata": {
        "id": "YziPq2ploRBI"
      }
    },
    {
      "cell_type": "markdown",
      "source": [
        "- Execute on success: The code in the else block runs only if no exception is thrown in the while block.\n",
        "\n",
        "- Keeping the try block clean: This keeps the code separate from the try block which should not run if an error occurs. Try keeps only error prone code.\n",
        "\n",
        "- Separate error handling logic: The else block separates the success logic from the accept blocks, making the code more readable.\n",
        "\n",
        "- Specific success actions: In Else you can do the work which is required only when the try block is completed without any error.\n",
        "\n",
        "- Different from finally: The finally block always runs whether an error occurs or not. else runs only if no error occurs."
      ],
      "metadata": {
        "id": "frXuASogoaXC"
      }
    },
    {
      "cell_type": "markdown",
      "source": [
        "**17.  What are the common logging levels in Python?**"
      ],
      "metadata": {
        "id": "2zjt6vuFqZka"
      }
    },
    {
      "cell_type": "markdown",
      "source": [
        "Python has a few standard levels of logging, defined by importance:\n",
        "\n",
        "- DEBUG: This is the most detailed information, which is useful during debugging. \"What is happening?\" type information.\n",
        "\n",
        "- INFO: This is general information, which tells about the normal operation of the program. \"This happened.\" type information.\n",
        "\n",
        "- WARNING: This tells about potential problems, but the program is still running. \"This is probably not correct.\" type information.\n",
        "\n",
        "- ERROR: This indicates serious problems, due to which some part of the program is not working properly. \"This is the problem!\" type information.\n",
        "\n",
        "- CRITICAL: This is a very serious error, due to which the program can also stop. \"Very big problem!\" type information.\n",
        "\n",
        "Aap apne logging configuration mein ek level set karte hain, aur us level ya usse higher level ke saare messages log hote hain. Jaise agar aap WARNING set karte hain toh WARNING, ERROR, aur CRITICAL messages log honge, lekin DEBUG aur INFO nahi."
      ],
      "metadata": {
        "id": "gJ3h-rQ-78AJ"
      }
    },
    {
      "cell_type": "markdown",
      "source": [
        "**18. What is the difference between os.fork() and multiprocessing in Python?**"
      ],
      "metadata": {
        "id": "wk1eG4BZ9343"
      }
    },
    {
      "cell_type": "markdown",
      "source": [
        "os.fork() :-\n",
        "\n",
        "- Assume that you have a big job to do, like preparing a big meal. You have a main dish and you need more people to finish all the work quickly.\n",
        "\n",
        "- os.fork(): create a direct copy (like a clone): Think of os.fork() as an instant replica of your entire kitchen at a particular moment in time.\n",
        "\n",
        "- How it works: When you call os.fork(), the operating system creates a new process which is an exact duplicate of the original process. This new process has its own memory space, but initially, it contains the same data that was in the original process at the time of forking.\n",
        "\n",
        "- Sharing: These two processes (original and clone) do not share memory easily. If one process changes a variable, the other will not be able to see it directly. They have to communicate through more complex methods like pipes or signals.\n",
        "\n",
        "- Availability: os.fork() is primarily available on Unix-like systems (such as Linux and macOS). It is not generally available on Windows.\n",
        "\n",
        "- Analogy: It's like making a perfect photocopy of everything you have on your kitchen counter in the same exact second. If the copy starts cutting vegetables in a different way, your original vegetables will not be cut automatically.\n",
        "\n",
        "Multiprocessing :-\n",
        "\n",
        "- multiprocessing: hiring separate cooks (independent workers).\n",
        "\n",
        "- Now, think of the multiprocessing model as hiring completely new, independent chefs who work in their own mini-kitchens.\n",
        "\n",
        "- How it works: The multiprocessing module allows you to create and manage independent processes. Each process has its own Python interpreter and memory space from the start.\n",
        "\n",
        "- Sharing: To share data between these independent processes, you need to use special tools provided by the multiprocessing module, such as Queue, Pipe, or shared memory objects.\n",
        "\n",
        "- Availability: The multiprocessing module is designed to work continuously on different operating systems, including Windows, Linux, and macOS.\n",
        "\n",
        "- Analogy: This is like hiring several separate cooks, who each have their own tools and place to work. If one cook finishes his dish, it does not mean that the other cooks have also finished their dishes. You should have a way to handover (share data) the work completed by them."
      ],
      "metadata": {
        "id": "YxhtjuwR1zGP"
      }
    },
    {
      "cell_type": "markdown",
      "source": [
        "**19. What is the importance of closing a file in Python?**"
      ],
      "metadata": {
        "id": "WVzC8jr732Ej"
      }
    },
    {
      "cell_type": "markdown",
      "source": [
        "Here are five important reasons to close files in Python:\n",
        "\n",
        "- Preventing data loss: When you write data to a file, it is not immediately saved to disk. Data is first stored in the buffer. By calling file.close(), all the data in the buffer is written to the file, which prevents data loss, especially if the program crashes.\n",
        "\n",
        "- Avoid file corruption: If you close a program without closing a file, it is possible that the file may not be written properly and may become corrupt.\n",
        "close() ensures that the file is closed properly and no unwanted data remains in it.\n",
        "\n",
        "- Freeing up system resources: The operating system allocates some resources (such as file descriptors) for each file that is opened. If you leave too many files open and don't close them, you could exhaust the system's available resources, which could make opening new files difficult. Calling close() returns these resources back to the system.\n",
        "\n",
        "- Making the file available to other programs: When a file is open (in write mode), it is possible that other programs may not be able to access it. By closing the file, it becomes available to other programs as well.\n",
        "\n",
        "- Making changes permanent on disk: The close() call ensures that all changes made to the file are permanently saved on disk. If you don't close the file, it's possible that some changes you make may remain only in memory and not be saved on disk."
      ],
      "metadata": {
        "id": "pj30ndz03_Pb"
      }
    },
    {
      "cell_type": "markdown",
      "source": [
        "**20. What is the difference between file.read() and file.readline() in Python?**"
      ],
      "metadata": {
        "id": "bIcmZ48r5Thl"
      }
    },
    {
      "cell_type": "markdown",
      "source": [
        "- In Python, File.read() and File.readline() are two different ways to read data from a file.\n",
        "\n",
        "Assume you have a diary file.\n",
        "\n",
        "- Using file.read(): If you call diary.txt.read(), you will get all the pages of the diary together as one large piece of text. You will read the whole diary in one go.\n",
        "\n",
        "- Use file.read() when you need to process the entire content of the file at once and the file size is small or you have enough space to load it in memory.\n",
        "\n",
        "- Using file.readline(): If you call diary.txt.readline(), you will read the first page (first line) of the diary. If you call it again, you will read the second page (second line), and so on. This allows you to read the diary page by page.\n",
        "\n",
        "- Use file.readline() when you need to process the file line by line, especially for large files or when you need to perform an operation on each line separately."
      ],
      "metadata": {
        "id": "PICue5AE59Y7"
      }
    },
    {
      "cell_type": "markdown",
      "source": [
        "**21. What is the logging module in Python used for?**"
      ],
      "metadata": {
        "id": "gv4roOiB8ECk"
      }
    },
    {
      "cell_type": "markdown",
      "source": [
        "- The logging module in Python is used to record the events that occur while the program is running.\n",
        "\n",
        "- It helps in tracking what is happening in your program, when it is happening, and if any error or warning has occurred.\n",
        "\n",
        "- Recording errors and warnings: The logging module allows you to record errors, warnings, and other important information that occur in your program to a file or on the console.\n",
        "\n",
        "- To help with debugging: When you're trying to find a bug in your program, the information recorded by logging helps you understand how the program ran and at which step the problem occurred.\n",
        "\n",
        "- Understanding the behavior of the program: Logging records details of what is happening inside your program. This helps you understand how the program is working and what it is doing in a particular situation."
      ],
      "metadata": {
        "id": "kb43PP1k8Jpj"
      }
    },
    {
      "cell_type": "markdown",
      "source": [
        "**22.  What is the os module in Python used for in file handling?**"
      ],
      "metadata": {
        "id": "i87gkghI9EL8"
      }
    },
    {
      "cell_type": "markdown",
      "source": [
        "- The os module allows you to create, rename, delete, and get information about files and directories (folders) using the functionalities of the operating system. This is similar to managing files and folders in your computer's file explorer.\n",
        "\n",
        "- This module gives you tools to work with file paths, such as joining different parts of a path, separating file names or directory names from the path, and determining if a path is valid or not. This is like working with an address, where you find out the name of a street, the name of a city, and how the complete address is created.\n",
        "\n",
        "- The os module also provides some functions that are dependent on the operating system, such as process management and access to environment variables. 1 In the context of file handling, it can help you control how files are accessed or permissions are managed, which may work differently in different operating systems."
      ],
      "metadata": {
        "id": "t6bzwelu9NzL"
      }
    },
    {
      "cell_type": "markdown",
      "source": [
        "**23. What are the challenges associated with memory management in Python?**"
      ],
      "metadata": {
        "id": "erUCflFP-Db0"
      }
    },
    {
      "cell_type": "markdown",
      "source": [
        "- Python objects also store type information and garbage collection information. Therefore, Python objects can occupy more memory to store the same data compared to languages ​​like C++.\n",
        "\n",
        "- Example: Even the smallest object (like a pen) is kept in a file after labeling it. The label and the file itself take up very little space, even if the pen is small.\n",
        "\n",
        "- Garbage Collection Pauses (Pauses in Work): Python uses garbage collection for automatic memory management. Sometimes, the garbage collector may pause the program for a short time to clean up the memory. These pauses may be noticeable in large and busy programs.\n",
        "\n",
        "- Cleaning up during office: All work is stopped for a short time so that the cleanup personnel can come and remove the useless stuff. Everyone has to stop during this time."
      ],
      "metadata": {
        "id": "hKj6i9J--L3s"
      }
    },
    {
      "cell_type": "markdown",
      "source": [
        "**24. How do you raise an exception manually in Python?**"
      ],
      "metadata": {
        "id": "tKyBWbnM_Dkk"
      }
    },
    {
      "cell_type": "markdown",
      "source": [
        "- In Python, you can manually raise an exception by using the raise keyword. This means that you can knowingly generate an error when a particular condition occurs in your code.\n",
        "\n",
        "- Example: Suppose you are writing a function that divides two numbers. You want a special error message to be shown if the divisor (the number being divided) is zero."
      ],
      "metadata": {
        "id": "webwK7Zj_M1k"
      }
    },
    {
      "cell_type": "code",
      "source": [
        "def divide(a, b):\n",
        "    if b==0:\n",
        "        raise ValueError(\"can not divide by zero\")\n",
        "    return a/b\n",
        "\n",
        "try:\n",
        "    result1=divide(5, 0)\n",
        "    print(result1)\n",
        "except ValueError as error:\n",
        "    print(error)\n",
        "\n",
        "result2=divide(10, 2)\n",
        "print(result2)"
      ],
      "metadata": {
        "id": "y1jxom7aiPhp",
        "colab": {
          "base_uri": "https://localhost:8080/"
        },
        "outputId": "d7ab9d09-5dd7-4f4e-ef4b-26bf8f9f0705"
      },
      "execution_count": null,
      "outputs": [
        {
          "output_type": "stream",
          "name": "stdout",
          "text": [
            "can not divide by zero\n",
            "5.0\n"
          ]
        }
      ]
    },
    {
      "cell_type": "markdown",
      "source": [
        "**25. Why is it important to use multithreading in certain applications?**"
      ],
      "metadata": {
        "id": "BIswmzbACoRU"
      }
    },
    {
      "cell_type": "markdown",
      "source": [
        "- Responsiveness increases: Application does not freeze when a long task is running, user interaction continues. (Like waiters are available in a busy restaurant.)\n",
        "\n",
        "- Work is done quickly: Multiple tasks can be done simultaneously, especially if they can be divided into small parts. (Separate waiters take separate orders.)\n",
        "\n",
        "- Better use of computer: Multiple processor cores can be used, not just one core is busy. (All waiters are busy, none is idle.)\n",
        "\n",
        "- User experience is good: Application runs smoothly and responds quickly, wait time is less. (Customers have to wait less.)\n",
        "\n",
        "- Efficiency increases: Overall work is done in less time because resources are used properly. (The restaurant is able to serve more customers in less time.)"
      ],
      "metadata": {
        "id": "M_6kKfCnS7K8"
      }
    },
    {
      "cell_type": "markdown",
      "source": [
        "# Practical Questions"
      ],
      "metadata": {
        "id": "0Cz0gJ3wUZjT"
      }
    },
    {
      "cell_type": "markdown",
      "source": [
        "**1. How can you open a file for writing in Python and write a string to it?**"
      ],
      "metadata": {
        "id": "_j7Kr2OEUq2D"
      }
    },
    {
      "cell_type": "code",
      "source": [
        "file=open(\"data.txt.txt\", \"w\")\n",
        "file.write(\"om namah shivay\")\n",
        "file.close()"
      ],
      "metadata": {
        "id": "KfUcLa7GCu0c"
      },
      "execution_count": null,
      "outputs": []
    },
    {
      "cell_type": "markdown",
      "source": [
        "**2. Write a Python program to read the contents of a file and print each line.**"
      ],
      "metadata": {
        "id": "-kIPDL2DZagT"
      }
    },
    {
      "cell_type": "code",
      "source": [
        "file=open(\"work.txt\", \"r\")\n",
        "for line in file:\n",
        "    print(line, end='')\n",
        "file.close()"
      ],
      "metadata": {
        "id": "FnrnXkglZfmj"
      },
      "execution_count": null,
      "outputs": []
    },
    {
      "cell_type": "markdown",
      "source": [
        "**3.  How would you handle a case where the file doesn't exist while trying to open it for reading?**"
      ],
      "metadata": {
        "id": "kJ8u_HzXby9U"
      }
    },
    {
      "cell_type": "code",
      "source": [
        "try:\n",
        "    file=open(\"har.txt\", \"r\")\n",
        "except FileNotFoundError:\n",
        "    print(\"This file is not available in the directory.\")"
      ],
      "metadata": {
        "id": "nmyE_PcreGcC"
      },
      "execution_count": null,
      "outputs": []
    },
    {
      "cell_type": "markdown",
      "source": [
        "**4. Write a Python script that reads from one file and writes its content to another file.**"
      ],
      "metadata": {
        "id": "MMvBTiD1gBL0"
      }
    },
    {
      "cell_type": "code",
      "source": [
        "file1=open(\"work.txt\", \"r\")\n",
        "content=file1.read()\n",
        "\n",
        "file2=open(\"question1.txt\", \"w\")\n",
        "file2.write(content)\n",
        "\n",
        "file1.close()\n",
        "file2.close()"
      ],
      "metadata": {
        "id": "32fdd13EgNZy"
      },
      "execution_count": null,
      "outputs": []
    },
    {
      "cell_type": "markdown",
      "source": [
        "**5. How would you catch and handle division by zero error in Python?**"
      ],
      "metadata": {
        "id": "PbO2a0w3igue"
      }
    },
    {
      "cell_type": "code",
      "source": [
        "a=int(input(\"enter a numerator=\"))\n",
        "b=int(input(\"enter a denominator=\"))\n",
        "try:\n",
        "    divide=a/b\n",
        "    print(divide)\n",
        "except ZeroDivisionError:\n",
        "    print(\"denominator couldnot be a zero\")"
      ],
      "metadata": {
        "id": "3aro61bAioxy"
      },
      "execution_count": null,
      "outputs": []
    },
    {
      "cell_type": "markdown",
      "source": [
        "**6. Write a Python program that logs an error message to a log file when a division by zero exception occurs.**"
      ],
      "metadata": {
        "id": "d7rsAF9GkGKm"
      }
    },
    {
      "cell_type": "code",
      "source": [
        "import logging\n",
        "\n",
        "logging.basicConfig(filename='FILE.log', level=logging.ERROR,\n",
        "                    format='%(asctime)s - %(levelname)s - %(message)s')\n",
        "\n",
        "try:\n",
        "    a= 10\n",
        "    b= 0\n",
        "    result=a/b\n",
        "    print(result)\n",
        "except ZeroDivisionError:\n",
        "    logging.error(\"Division by zero occurred!\")\n",
        "    print(\"Error: Cannot divide by zero. Check 'FILE.log' for details.\")"
      ],
      "metadata": {
        "id": "pvTd6Z3-kOYC"
      },
      "execution_count": null,
      "outputs": []
    },
    {
      "cell_type": "markdown",
      "source": [
        "**7. How do you log information at different levels (INFO, ERROR, WARNING) in Python using the logging module?**"
      ],
      "metadata": {
        "id": "rWfN1Hr-vOVH"
      }
    },
    {
      "cell_type": "code",
      "source": [
        "import logging\n",
        "logging.basicConfig(levelname=logging.INFO, format='%(levelname)s : %(message)s')\n",
        "logging.info(\"this is info\")\n",
        "logging.error(\"this is error\")\n",
        "logging.warning(\"this is warning\")"
      ],
      "metadata": {
        "id": "7MRaZ800veCM"
      },
      "execution_count": null,
      "outputs": []
    },
    {
      "cell_type": "markdown",
      "source": [
        "**8.Write a program to handle a file opening error using exception handling.**"
      ],
      "metadata": {
        "id": "KmwWciAk2QWn"
      }
    },
    {
      "cell_type": "code",
      "source": [
        "try:\n",
        "    file=open(\"filee.txt\")\n",
        "except FileNotFoundError:\n",
        "    print(\"Error: This file is not available in the directory.\")"
      ],
      "metadata": {
        "id": "z9CEOY-c7vWF"
      },
      "execution_count": null,
      "outputs": []
    },
    {
      "cell_type": "markdown",
      "source": [
        "**9. How can you read a file line by line and store its content in a list in Python?**"
      ],
      "metadata": {
        "id": "QAbHa0O3-Gnp"
      }
    },
    {
      "cell_type": "code",
      "source": [
        "with open(\"work.txt\", \"r\") as file:\n",
        "    lines=file.readlines()\n",
        "\n",
        "print(lines)"
      ],
      "metadata": {
        "id": "IKcu1X2d-NCd"
      },
      "execution_count": null,
      "outputs": []
    },
    {
      "cell_type": "markdown",
      "source": [
        "**10. How can you append data to an existing file in Python?**"
      ],
      "metadata": {
        "id": "PhbTGGeVCw0w"
      }
    },
    {
      "cell_type": "code",
      "source": [
        "with open(\"work.txt\", \"a\") as file:\n",
        "    new_data=\"This is my name\"\n",
        "    file.write(new_data)\n",
        "    new_data_2=\"This is my car\"\n",
        "    file.write(new_data_2)\n",
        "    print('work.txt')"
      ],
      "metadata": {
        "id": "F_VGtUM_C_s2"
      },
      "execution_count": null,
      "outputs": []
    },
    {
      "cell_type": "markdown",
      "source": [
        "**11.  Write a Python program that uses a try-except block to handle an error when attempting to access a dictionary key that doesn't exist.**"
      ],
      "metadata": {
        "id": "8IPSlHLHEkhg"
      }
    },
    {
      "cell_type": "code",
      "source": [
        "try:\n",
        "    my_dict={\"Shivam\":22, \"Satyam\":19}\n",
        "    my_dict[\"sk\"]\n",
        "except KeyError:\n",
        "    print(\"Error: This key is not exist in my_dict\")"
      ],
      "metadata": {
        "id": "mJg8U3gBExa1"
      },
      "execution_count": null,
      "outputs": []
    },
    {
      "cell_type": "markdown",
      "source": [
        "**12. Write a program that demonstrates using multiple except blocks to handle different types of exceptions.**"
      ],
      "metadata": {
        "id": "0ytaNBoyGtk6"
      }
    },
    {
      "cell_type": "code",
      "source": [
        "def value(anything):\n",
        "  try:\n",
        "    number=int(anything)\n",
        "    if number<0:\n",
        "      raise ValueError(\"number cannot be negative\")\n",
        "      print(number)\n",
        "  except ValueError:\n",
        "    print(\"Error: this is value error\")\n",
        "  except TypeError:\n",
        "    print(\"Error: this is type error\")\n",
        "  except Exception:\n",
        "    print(\"unexpected\")\n",
        "\n",
        "value(\"10\")\n",
        "value(\"-5\")\n",
        "value(\"abc\")\n",
        "value(None)"
      ],
      "metadata": {
        "colab": {
          "base_uri": "https://localhost:8080/"
        },
        "id": "YIPA4jAcG4ke",
        "outputId": "044eacc9-43a8-414c-dca2-15e1ceea5a48"
      },
      "execution_count": null,
      "outputs": [
        {
          "output_type": "stream",
          "name": "stdout",
          "text": [
            "Error: this is value error\n",
            "Error: this is value error\n",
            "Error: this is type error\n"
          ]
        }
      ]
    },
    {
      "cell_type": "markdown",
      "source": [
        "**13. How would you check if a file exists before attempting to read it in Python?**"
      ],
      "metadata": {
        "id": "bCJnfchIWCqH"
      }
    },
    {
      "cell_type": "code",
      "source": [
        "import os\n",
        "\n",
        "file_path=\"ddd.txt\"\n",
        "\n",
        "if os.path.exists(file_path):\n",
        "    try:\n",
        "        with open(file_path, \"r\") as file:\n",
        "            print(file.read())\n",
        "    except Exception:\n",
        "        print(\"an unexpected error occurred while reading file\")\n",
        "else:\n",
        "    print(\"Error: this file is not available\")"
      ],
      "metadata": {
        "id": "Lyu8sIjyWNL2"
      },
      "execution_count": null,
      "outputs": []
    },
    {
      "cell_type": "markdown",
      "source": [
        "**14. Write a program that uses the logging module to log both informational and error messages.**"
      ],
      "metadata": {
        "id": "4usX37jZdYM5"
      }
    },
    {
      "cell_type": "code",
      "source": [
        "import logging\n",
        "\n",
        "logging.basicConfig(level=logging.INFO, format='%(levelname)s : %(message)s')\n",
        "\n",
        "def process(item):\n",
        "    logging.info(f\"this {item} is processing.....\")\n",
        "    if not isinstance(item, int):\n",
        "        logging.error(f\"invalid item : {item}\")\n",
        "    else:\n",
        "        logging.info(f\"this {item} is processed\")\n",
        "\n",
        "process(10)\n",
        "process(\"hello\")"
      ],
      "metadata": {
        "id": "1G2pW8akde3W"
      },
      "execution_count": null,
      "outputs": []
    },
    {
      "cell_type": "markdown",
      "source": [
        "**15. Write a Python program that prints the content of a file and handles the case when the file is empty.**"
      ],
      "metadata": {
        "id": "LYi0D0hrnzjh"
      }
    },
    {
      "cell_type": "code",
      "source": [
        "try:\n",
        "    with open(\"work.txt\", \"r\") as file:\n",
        "        content=file.read()\n",
        "        if content:\n",
        "            print(content)\n",
        "        else:\n",
        "            print(\"the file is empty\")\n",
        "except Exception:\n",
        "    print(\"Error: file not found\")"
      ],
      "metadata": {
        "id": "7gLhBlkKn5wT"
      },
      "execution_count": null,
      "outputs": []
    },
    {
      "cell_type": "markdown",
      "source": [
        "**16. Demonstrate how to use memory profiling to check the memory usage of a small program.**"
      ],
      "metadata": {
        "id": "mHDd7bnbtDqB"
      }
    },
    {
      "cell_type": "code",
      "source": [
        "import sys\n",
        "\n",
        "my_integer=10\n",
        "my_string=\"shivam\"\n",
        "my_dict={\"shivam\":22}\n",
        "my_list=[1,2,3,4,5]\n",
        "\n",
        "print(f\"{sys.getsizeof(my_integer)} bytes\")\n",
        "print(f\"{sys.getsizeof(my_string)} bytes\")\n",
        "print(f\"{sys.getsizeof(my_dict)} bytes\")\n",
        "print(f\"{sys.getsizeof(my_list)} bytes\")"
      ],
      "metadata": {
        "id": "ewVV51hqtPN4"
      },
      "execution_count": null,
      "outputs": []
    },
    {
      "cell_type": "markdown",
      "source": [
        "**17.  Write a Python program to create and write a list of numbers to a file, one number per line**"
      ],
      "metadata": {
        "id": "2rjV13Ssyvdb"
      }
    },
    {
      "cell_type": "code",
      "source": [
        "try:\n",
        "    numbers=[22,34,45]\n",
        "    with open(\"numbers.txt\", \"w\") as file:\n",
        "        for number in numbers:\n",
        "            file.write(str(number) + \"\\n\")\n",
        "except Exception:\n",
        "    print(\"an error occurred\")"
      ],
      "metadata": {
        "id": "qeRWT9QNy69z"
      },
      "execution_count": null,
      "outputs": []
    },
    {
      "cell_type": "markdown",
      "source": [
        "**18. How would you implement a basic logging setup that logs to a file with rotation after 1MB?**"
      ],
      "metadata": {
        "id": "k_Bb34Glk8NK"
      }
    },
    {
      "cell_type": "code",
      "source": [
        "import logging\n",
        "from logging.handlers import RotatingFileHandler\n",
        "\n",
        "log_file = \"my_app.log\" #this log file's name\n",
        "\n",
        "max_file_size = 1 * 1024 * 1024 #size of file 1mb\n",
        "\n",
        "backup_count = 2 #how many old file will kept\n",
        "\n",
        "\n",
        "logging.basicConfig(level=logging.INFO,\n",
        "                    format='%(asctime)s - %(levelname)s - %(message)s') #logging setup\n",
        "\n",
        "handler = RotatingFileHandler(log_file,\n",
        "                              maxBytes=max_file_size,\n",
        "                              backupCount=backup_count)\n",
        "\n",
        "#adding handler in the log\n",
        "logger = logging.getLogger()\n",
        "logger.addHandler(handler)\n",
        "\n",
        "# now you can logg\n",
        "logger.info(\"this is a message\")\n",
        "logger.warning(\"this is warning\")\n",
        "logger.error(\"this is an error\")\n",
        "\n",
        "#some more log messages so that file can rotate\n",
        "for i in range(20000):\n",
        "    logger.info(f\"this is one more log: {i}\")\n",
        "\n",
        "logger.info(\"this message will go in new file after rotation\")"
      ],
      "metadata": {
        "id": "EyxgXpmrlKow"
      },
      "execution_count": null,
      "outputs": []
    },
    {
      "cell_type": "markdown",
      "source": [
        "**19. Write a program that handles both IndexError and KeyError using a try-except block.**"
      ],
      "metadata": {
        "id": "eMcyTO8bsFbC"
      }
    },
    {
      "cell_type": "code",
      "source": [
        "def access_element(data, index_or_key):\n",
        "    try:\n",
        "        return data[index_or_key]\n",
        "    except (IndexError, KeyError):\n",
        "        return (\"Wrong index or key\")\n",
        "\n",
        "my_list=[1, 2, 3, 4, 5]\n",
        "print(access_element(my_list, 8))\n",
        "\n",
        "my_dict={\"shivam\":22, \"satyam\":19}\n",
        "print(access_element(my_dict, \"ravi\"))"
      ],
      "metadata": {
        "id": "QQ3puEWisOmx"
      },
      "execution_count": null,
      "outputs": []
    },
    {
      "cell_type": "markdown",
      "source": [
        "**20. How would you open a file and read its contents using a context manager in Python?**"
      ],
      "metadata": {
        "id": "7amlTFjxx5FZ"
      }
    },
    {
      "cell_type": "code",
      "source": [
        "def read_file(filepath):\n",
        "    try:\n",
        "        with open(filepath, \"r\") as file:\n",
        "            return file.read()\n",
        "    except Exception:\n",
        "        return f\"an Error occurred while reading {filepath}\"\n",
        "\n",
        "file_path=\"question1.txt\"\n",
        "content=read_file(file_path)\n",
        "print(content)"
      ],
      "metadata": {
        "id": "JBBzIEZ1x-OZ"
      },
      "execution_count": null,
      "outputs": []
    },
    {
      "cell_type": "markdown",
      "source": [
        "**21. Write a Python program that reads a file and prints the number of occurrences of a specific word.**"
      ],
      "metadata": {
        "id": "rojf30016sqL"
      }
    },
    {
      "cell_type": "code",
      "source": [
        "def count_word(file, word):\n",
        "    try:\n",
        "        with open(file, 'r', encoding='utf-8') as f:\n",
        "            return f.read().lower().count(word.lower())\n",
        "    except:\n",
        "        return 0\n",
        "\n",
        "file_path = input(\"File path: \")\n",
        "word_to_find = input(\"Word: \")\n",
        "count = count_word(file_path, word_to_find)\n",
        "print(f\"'{word_to_find}' count: {count}\")"
      ],
      "metadata": {
        "id": "3_lNEJGj7wHx"
      },
      "execution_count": null,
      "outputs": []
    },
    {
      "cell_type": "markdown",
      "source": [
        "**22. How can you check if a file is empty before attempting to read its contents?**"
      ],
      "metadata": {
        "id": "9bxHem9cA1cy"
      }
    },
    {
      "cell_type": "code",
      "source": [
        "import os\n",
        "\n",
        "def is_empty(fp):\n",
        "    try:\n",
        "        return os.path.getsize(fp) == 0\n",
        "    except FileNotFoundError:\n",
        "        return False\n",
        "\n",
        "file = \"meri_file.txt\"\n",
        "open(file, 'w').close()  # Create empty\n",
        "print(f\"'{file}' empty: {is_empty(file)}\")\n",
        "open(file, 'w').write(\"data\") # Add content\n",
        "print(f\"'{file}' empty: {is_empty(file)}\")"
      ],
      "metadata": {
        "id": "iP5k8B1VA7Fh"
      },
      "execution_count": null,
      "outputs": []
    },
    {
      "cell_type": "markdown",
      "source": [
        "**23. Write a Python program that writes to a log file when an error occurs during file handling.**"
      ],
      "metadata": {
        "id": "wng0EiLoD_gE"
      }
    },
    {
      "cell_type": "code",
      "source": [
        "import logging\n",
        "\n",
        "log_file = \"errors.log\"\n",
        "\n",
        "logging.basicConfig(filename=log_file, level=logging.ERROR,\n",
        "                    format='%(asctime)s - %(levelname)s - %(message)s')\n",
        "\n",
        "def safe_read(filepath):\n",
        "    try:\n",
        "        with open(filepath, \"r\") as file:\n",
        "            return file.read(20)\n",
        "    except FileNotFoundError:\n",
        "        logging.error(f\"File not found: {filepath}\")\n",
        "        return None\n",
        "    except PermissionError:\n",
        "        logging.error(f\"Permission denied to read: {filepath}\")\n",
        "        return None\n",
        "    except IOError as e:\n",
        "        logging.error(f\"I/O error occurred with {filepath}: {e}\")\n",
        "        return None\n",
        "    except Exception as e:\n",
        "        logging.error(f\"An unexpected error occurred with {filepath}: {e}\")\n",
        "        return None\n",
        "\n",
        "file = \"work.txt\"\n",
        "result = safe_read(file)\n",
        "print(result)"
      ],
      "metadata": {
        "id": "kBzPd7dbERqh"
      },
      "execution_count": null,
      "outputs": []
    }
  ]
}