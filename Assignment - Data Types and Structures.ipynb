{
 "cells": [
  {
   "cell_type": "markdown",
   "id": "0b809456-ec38-424b-b8b6-79e2df3c265f",
   "metadata": {},
   "source": [
    "***Data Types and Structures Questions***"
   ]
  },
  {
   "cell_type": "code",
   "execution_count": null,
   "id": "c8dfdcd8-6b8b-475e-96dd-af4a012c5880",
   "metadata": {},
   "outputs": [],
   "source": []
  },
  {
   "cell_type": "markdown",
   "id": "169edf89-396f-4527-b1fa-b838c7ed86b4",
   "metadata": {},
   "source": [
    "**1. What are data structures, and why are they important?**"
   ]
  },
  {
   "cell_type": "markdown",
   "id": "23401a3e-8edd-458d-acb4-5fba1b34372a",
   "metadata": {},
   "source": [
    "Data Structure:\n",
    "- Data structures are ways to organize information in a computer.\n",
    "- They are essential for building effective software.\n",
    "- We can use it for  different containers for our data.\n",
    "- Data Structures help programs store and manage data efficiently."
   ]
  },
  {
   "cell_type": "markdown",
   "id": "810cc529-52c4-48ee-9f61-90b7dde3f5b9",
   "metadata": {},
   "source": [
    "Data Structures are important because:\n",
    "- It Enable efficient data access and it organizes data for quick retrieval.\n",
    "- It Optimize program performance and choosing the right structure speeds up operations.\n",
    "- If we Imagine a library:\n",
    "- Without data structures: Books would be piled randomly. Finding a specific book would take forever.\n",
    "- With data structures:\n",
    "- A list (like a catalog): Helps you quickly see all the books available.\n",
    "- A sorted structure (like shelves organized by genre): Lets you find books of a specific genre easily.\n",
    "- An index (like an index at the back of a book): Points you directly to the page you need.\n",
    "\n",
    "- Just like in a library, data structures organize digital information. This organization makes it much faster to find, use, and manage data within computer programs. Without them, programs would be slow and inefficient, like trying to find a specific book in a completely disorganized library."
   ]
  },
  {
   "cell_type": "code",
   "execution_count": 20,
   "id": "6a9f9f96-ce5d-4c31-8730-133460ac4fe8",
   "metadata": {},
   "outputs": [
    {
     "name": "stdout",
     "output_type": "stream",
     "text": [
      "Alice\n",
      "Bob\n",
      "Charlie\n",
      "David\n"
     ]
    }
   ],
   "source": [
    "#example: Storing and accessing names\n",
    "names = [\"Alice\", \"Bob\", \"Charlie\"]  #it is a list storing names\n",
    "names[1] #accessing elements from list\n",
    "names.append(\"David\") #this adds \"David\" to the end of the list\n",
    "names\n",
    "for name in names: #this is a for loop and it goes hrough each element in the list and prints it\n",
    "     print(name)"
   ]
  },
  {
   "cell_type": "markdown",
   "id": "71260375-a2b3-46cc-9abd-7d9eca7d1c4a",
   "metadata": {},
   "source": [
    "**2. Explain the difference between mutable and immutable data types with examples.**"
   ]
  },
  {
   "cell_type": "markdown",
   "id": "4f3fe9d2-c3d1-44d7-9c1e-c3ddcd27e1f9",
   "metadata": {},
   "source": [
    "Mutable Data Types or  Changeable Things:\n",
    "- \"Mutable\" means you can change something after it's made. Like you can change the ingredients in a pizza after it's been made.\n",
    "- Think of a whiteboard. You can write on it, erase parts, and add more. The whiteboard itself changes.\n",
    "- Lists: In Python, a list is mutable. You can add, remove, or change items in a list."
   ]
  },
  {
   "cell_type": "code",
   "execution_count": 40,
   "id": "d0269857-fc58-4916-be01-dc2c68e5cd49",
   "metadata": {},
   "outputs": [
    {
     "data": {
      "text/plain": [
       "['grape', 'banana', 'cherry', 'date']"
      ]
     },
     "execution_count": 40,
     "metadata": {},
     "output_type": "execute_result"
    }
   ],
   "source": [
    "my_list = [\"apple\", \"banana\", \"cherry\"] #it is a list having fruits name\n",
    "my_list #printing list\n",
    "my_list.append(\"date\")  # it will add date in list\n",
    "my_list #printing list\n",
    "my_list[0] = \"grape\"    # Changing \"apple\" to \"grape\"\n",
    "my_list #printing list again"
   ]
  },
  {
   "cell_type": "markdown",
   "id": "8e2efb04-a826-4991-9bda-c861e65630f3",
   "metadata": {},
   "source": [
    "Immutable Data Types OR  Unchangeable Things:\n",
    "- \"Immutable\" means you cannot change something after it's made. It's fixed. Like a printed photo; you can't change the image itself.\n",
    "- Real-world example: Imagine a printed movie ticket. The movie, time, and seat are fixed. You can't change them on the ticket itself.\n",
    "- For example a Tuple is immutable"
   ]
  },
  {
   "cell_type": "code",
   "execution_count": 45,
   "id": "3381acd3-a50e-48c2-bc34-3c2ff2859f81",
   "metadata": {},
   "outputs": [
    {
     "ename": "TypeError",
     "evalue": "'tuple' object does not support item assignment",
     "output_type": "error",
     "traceback": [
      "\u001b[1;31m---------------------------------------------------------------------------\u001b[0m",
      "\u001b[1;31mTypeError\u001b[0m                                 Traceback (most recent call last)",
      "Cell \u001b[1;32mIn[45], line 3\u001b[0m\n\u001b[0;32m      1\u001b[0m \u001b[38;5;66;03m#Example\u001b[39;00m\n\u001b[0;32m      2\u001b[0m my_tuple \u001b[38;5;241m=\u001b[39m (\u001b[38;5;241m1\u001b[39m, \u001b[38;5;241m2\u001b[39m, \u001b[38;5;241m3\u001b[39m)\n\u001b[1;32m----> 3\u001b[0m my_tuple[\u001b[38;5;241m0\u001b[39m] \u001b[38;5;241m=\u001b[39m \u001b[38;5;241m4\u001b[39m\n",
      "\u001b[1;31mTypeError\u001b[0m: 'tuple' object does not support item assignment"
     ]
    }
   ],
   "source": [
    "#Example\n",
    "my_tuple = (1, 2, 3)\n",
    "my_tuple[0] = 4 # this will cause an error."
   ]
  },
  {
   "cell_type": "code",
   "execution_count": null,
   "id": "56fc5eae-e573-46c5-b276-f2b7f5eb2626",
   "metadata": {},
   "outputs": [],
   "source": []
  },
  {
   "cell_type": "markdown",
   "id": "33a3ae17-d0f9-4aee-a147-79a10aa3798d",
   "metadata": {},
   "source": [
    "**3. What are the main differences between lists and tuples in Python?**"
   ]
  },
  {
   "cell_type": "markdown",
   "id": "b2b99ca5-20cd-46f5-9f98-244e87c8eba3",
   "metadata": {},
   "source": [
    "The main Differences between lists and tuples:"
   ]
  },
  {
   "cell_type": "markdown",
   "id": "f37cd143-bfda-446c-a849-582809a63f26",
   "metadata": {},
   "source": [
    "1.Mutability (Changeability):"
   ]
  },
  {
   "cell_type": "markdown",
   "id": "f9f1b781-d16d-4749-bbcd-ee86289863fe",
   "metadata": {},
   "source": [
    "Lists:\n",
    "- Mutable: You can change them after they're created. You can add, remove, or modify elements.\n",
    "- Think of a grocery shopping list. You can add items, cross them off, or change the quantities."
   ]
  },
  {
   "cell_type": "markdown",
   "id": "ace6b19d-caea-49c5-98f9-668e7f8fcd1d",
   "metadata": {},
   "source": [
    "Tuples:\n",
    "- Immutable: Once a tuple is created, you cannot change its elements. It's fixed.\n",
    "- Imagine a birth certificate. The information on it (date of birth, place of birth) is fixed and cannot be changed."
   ]
  },
  {
   "cell_type": "markdown",
   "id": "3b63e0fb-2811-4026-a6c1-06160ac76333",
   "metadata": {},
   "source": [
    "2.Use Cases (When to Use Them):"
   ]
  },
  {
   "cell_type": "markdown",
   "id": "b70910f9-a6f2-4d42-9797-0f5363c7f2e6",
   "metadata": {},
   "source": [
    "Lists:\n",
    "- Use when you need a collection of items that might change.\n",
    "- Examples: Storing a list of tasks, a list of students, or a list of items in a shopping cart.\n",
    "\n",
    "Tuples:\n",
    "- Use when you need a collection of items that should not change.\n",
    "- Examples: Storing coordinates (latitude, longitude), a person's details (name, age, address), or configuration settings."
   ]
  },
  {
   "cell_type": "markdown",
   "id": "3b726db3-b1ad-4a61-a055-af97e67526d9",
   "metadata": {},
   "source": [
    "**4.  Describe how dictionaries store data.**"
   ]
  },
  {
   "cell_type": "markdown",
   "id": "ca346f46-1825-4ab1-af7a-5b45840045b4",
   "metadata": {},
   "source": [
    "Dictionaries in Python store data as key-value pairs. Imagine a  dictionary like a word dictionary:\n",
    "- Key: The word you're looking up (e.g., \"apple\").\n",
    "- Value: The definition of the word (e.g., \"a round fruit with red or green skin\").\n",
    "\n",
    "How Dictionaries Store Data:\n",
    "1. Key-Value Pairs:\n",
    "- Each piece of data is stored as a pair: a unique key and its associated value.\n",
    "- The key acts like an identifier, and the value is the data you want to retrieve.\n",
    "\n",
    "2. Hashing:\n",
    "- Python uses a technique called \"hashing\" to quickly find the value associated with a key.\n",
    "- Think of it like an efficient filing system. Instead of searching through every file, the computer can go directly to the correct location.\n",
    "\n",
    "3. Unordered (Usually):\n",
    "- Before Python 3.7, dictionaries were generally unordered, meaning the order in which you added items wasn't guaranteed to be preserved.\n",
    "- From Python 3.7 onwards, dictionaries preserve insertion order.\n",
    "- However, the primary purpose is efficient lookup, not ordered storage.\n",
    "\n",
    "4. Example: A Phone Book\n",
    "- Key: A person's name (e.g., \"Alice\").\n",
    "- Value: Their phone number (e.g., \"123-456-7890\")."
   ]
  },
  {
   "cell_type": "code",
   "execution_count": 68,
   "id": "2ccc3292-dbf0-4576-8c18-7bfbcccfca09",
   "metadata": {},
   "outputs": [
    {
     "data": {
      "text/plain": [
       "'123-456-7890'"
      ]
     },
     "execution_count": 68,
     "metadata": {},
     "output_type": "execute_result"
    }
   ],
   "source": [
    "phone_book = {\n",
    "    \"Alice\": \"123-456-7890\",\n",
    "    \"Bob\": \"987-654-3210\",\n",
    "    \"Charlie\": \"555-123-4567\"\n",
    "}\n",
    "\n",
    "# To find Alice's phone number:\n",
    "phone_book[\"Alice\"]  # Output: 123-456-7890"
   ]
  },
  {
   "cell_type": "markdown",
   "id": "b9b4b096-8642-4e02-913d-22ccc50d8f7d",
   "metadata": {},
   "source": [
    "**5. Why might you use a set instead of a list in Python?**"
   ]
  },
  {
   "cell_type": "markdown",
   "id": "8f74af30-c38c-4eac-a26b-a0bac712fe42",
   "metadata": {},
   "source": [
    "You'd use a set instead of a list in Python when you need to store a collection of unique items and you're primarily concerned with membership testing (checking if something is present) or removing duplicates.\n",
    "\n",
    "Scenario: Tracking Attendees at Events\n",
    "- Imagine you're organizing multiple events and need to keep track of who attended at least one event.\n",
    "\n",
    "Using a List (Problem):\n",
    "- If you used a list, you could end up with duplicate names if someone attended multiple events.\n",
    "- Checking if a person attended any event would require iterating through the entire list, which can be slow for large lists.\n",
    "\n",
    "Using a Set (Solution):\n",
    "- A set automatically ensures that each name is stored only once, eliminating duplicates.\n",
    "- Checking if a person is in the set is very fast, as sets are optimized for membership testing.\n",
    "\n",
    "Key Advantages of Sets:\n",
    "- Uniqueness: Sets automatically remove duplicate elements.\n",
    "- Fast Membership Testing: Checking if an element is in a set is very efficient.\n",
    "- Set Operations: Sets support operations like union (combining sets), intersection (finding common elements), and difference (finding elements in one set but not another).\n",
    "\n",
    "When to Choose a Set:\n",
    "- When you need to store a collection of unique items.\n",
    "- When you need to perform frequent membership tests.\n",
    "- When you need to perform set operations.\n",
    "- When you need to remove duplicates from a list."
   ]
  },
  {
   "cell_type": "code",
   "execution_count": 80,
   "id": "7746afc2-173a-4213-9d17-1f20f2828642",
   "metadata": {},
   "outputs": [
    {
     "name": "stdout",
     "output_type": "stream",
     "text": [
      "Attendees List (with duplicates): ['Alice', 'Bob', 'Alice', 'Charlie', 'David', 'Bob']\n",
      "Attendees Set (unique): {'David', 'Charlie', 'Bob', 'Alice'}\n",
      "Charlie attended an event.\n",
      "Eve did not attend an event.\n",
      "Unique attendees from list:  ['David', 'Charlie', 'Bob', 'Alice']\n"
     ]
    }
   ],
   "source": [
    "# Using a list (with potential duplicates)\n",
    "attendees_list = [\"Alice\", \"Bob\", \"Alice\", \"Charlie\", \"David\", \"Bob\"]\n",
    "print(\"Attendees List (with duplicates):\", attendees_list)\n",
    "\n",
    "# Using a set (unique attendees)\n",
    "attendees_set = {\"Alice\", \"Bob\", \"Charlie\", \"David\"} \n",
    "print(\"Attendees Set (unique):\", attendees_set)\n",
    "\n",
    "# Checking if \"Charlie\" attended (fast with a set)\n",
    "if \"Charlie\" in attendees_set:\n",
    "    print(\"Charlie attended an event.\")\n",
    "\n",
    "#Checking if \"Eve\" attended.\n",
    "if \"Eve\" in attendees_set:\n",
    "    print(\"Eve attended an event.\")\n",
    "else:\n",
    "    print(\"Eve did not attend an event.\")\n",
    "\n",
    "#Example of using set to remove duplicates from a list.\n",
    "unique_attendees = list(set(attendees_list))\n",
    "print(\"Unique attendees from list: \", unique_attendees)"
   ]
  },
  {
   "cell_type": "code",
   "execution_count": null,
   "id": "ea9a71b3-886d-467e-bbfb-1e3971180e8b",
   "metadata": {},
   "outputs": [],
   "source": []
  },
  {
   "cell_type": "markdown",
   "id": "54f7370f-7387-474b-879e-8b49e2bf7e16",
   "metadata": {},
   "source": [
    "**6. What is a string in Python, and how is it different from a list?**"
   ]
  },
  {
   "cell_type": "markdown",
   "id": "131a3ed2-2ae6-41d7-9654-8b0f5aefeddd",
   "metadata": {},
   "source": [
    "- String is a sequence of characters. Think of it as a piece of text. It's used to represent words, sentences, or any other textual data.\n",
    "\n",
    "Key Characteristics of a String:\n",
    "- Immutable: Once a string is created, you cannot change its individual characters directly. You can create a new string with the desired changes, but you can't alter the original.\n",
    "- Sequence: Characters in a string have a specific order.\n",
    "- Textual Data: Primarily used to store and manipulate text.\n",
    "\n",
    "How a String is Different from a List:\n",
    "- String:\n",
    "    -  A sentence like \"Hello, world!\"\n",
    "    - A person's name like \"John Doe.\"\n",
    "    - An address like \"123 Main Street.\"\n",
    "    - A book title like \"The Adventures of Tom Sawyer\"\n",
    "\n",
    "- List:\n",
    "    - A grocery list: [\"apples\", \"bananas\", \"milk\"]\n",
    "    - A list of student grades: [90, 85, 92, 78]\n",
    "    - A list of people attending a party: [\"Alice\", \"Bob\", \"Charlie\"]"
   ]
  },
  {
   "cell_type": "code",
   "execution_count": 109,
   "id": "1cd37930-9108-48b2-b91b-c85e2e1f234a",
   "metadata": {},
   "outputs": [
    {
     "name": "stdout",
     "output_type": "stream",
     "text": [
      "Python is fun!\n",
      "python is fun!\n",
      "banana\n",
      "['grape', 'banana', 'cherry']\n"
     ]
    }
   ],
   "source": [
    "# String example\n",
    "my_string = \"Python is fun!\"\n",
    "print(my_string)\n",
    "\n",
    "# Accessing characters (like a list, but immutable)\n",
    "my_string[0]  # Output: P\n",
    "\n",
    "# Trying to change a character (will cause an error)\n",
    "#my_string[0] = 'p' #This line would cause an error.\n",
    "\n",
    "# Creating a new string with changes\n",
    "new_string = \"p\" + my_string[1:]\n",
    "print(new_string) \n",
    "\n",
    "# List example\n",
    "my_list = [\"apple\", \"banana\", \"cherry\"]\n",
    "my_list\n",
    "\n",
    "# accessing items\n",
    "print(my_list[1]) \n",
    "\n",
    "# Changing an item\n",
    "my_list[0] = \"grape\"\n",
    "print(my_list)"
   ]
  },
  {
   "cell_type": "markdown",
   "id": "ee3f75b5-ab2b-4e98-bbba-10f342c3e125",
   "metadata": {},
   "source": [
    "- In Simple Terms:\n",
    "    - A string is like a fixed message or label. You can read it, but you can't easily change the letters inside it.\n",
    "    - A list is like a flexible container where you can put and take out different things as needed."
   ]
  },
  {
   "cell_type": "code",
   "execution_count": null,
   "id": "70195571-a613-4663-9617-fb41988cff30",
   "metadata": {},
   "outputs": [],
   "source": []
  },
  {
   "cell_type": "markdown",
   "id": "a2597a0e-54e8-4347-8129-05f837ba504c",
   "metadata": {},
   "source": [
    "**7. How do tuples ensure data integrity in Python?**"
   ]
  },
  {
   "cell_type": "markdown",
   "id": "61089e6c-d32c-458b-8079-1f1cd84fcad8",
   "metadata": {},
   "source": [
    "Tuples ensure data integrity in Python because they are immutable. This means once a tuple is created, you can't change its contents. This \"unchangeable\" nature helps prevent accidental or unintended modifications, keeping your data consistent.\n",
    "\n",
    "How Tuples Ensure Integrity:\n",
    "\n",
    "- Immutability:\n",
    "    - The key to data integrity is that tuples cannot be modified. You can't add, remove, or change elements within a tuple after it's been created.\n",
    "    - This prevents accidental changes that could corrupt or alter the data\n",
    "\n",
    "- Consistency:\n",
    "    -  Because tuples are immutable, you can rely on the data within them to remain constant.\n",
    "    -  This is particularly important when dealing with critical information that should not be altered.\n",
    "\n",
    "- Example: GPS Coordinates\n",
    "    - Imagine you're building a navigation system. You need to store GPS coordinates (latitude, longitude) for various locations.\n",
    " \n",
    "- Using a Tuple:\n",
    "    - You could store each location's coordinates as a tuple: (latitude, longitude).\n",
    "    - For example: location1 = (34.0522, -118.2437) (Los Angeles).\n",
    "    - Because it's a tuple, you can be sure that the coordinates will always remain the same. This is essential for accurate navigation.\n",
    "\n",
    "- Why a Tuple Is Ideal:\n",
    "    - GPS coordinates are fixed values. You wouldn't want them to change accidentally.\n",
    "    - If you used a list instead, someone could mistakenly modify the coordinates, leading to incorrect navigation.\n",
    "    - Tuples are perfect for data that should remain constant, like a persons birthdate, or a set of configuration settings.\n",
    "\n",
    "- Tuples act like \"sealed containers.\" Once the data is inside, it's locked in place.\n",
    "- This prevents anyone from accidentally or intentionally changing the data, ensuring it remains accurate and reliable.\n",
    "- It is like writing down a set of directions. Once it is written, it is not meant to be changed."
   ]
  },
  {
   "cell_type": "markdown",
   "id": "2e60490d-3a93-4758-afa4-965a0bc36520",
   "metadata": {},
   "source": [
    "**8. What is a hash table, and how does it relate to dictionaries in Python?**"
   ]
  },
  {
   "cell_type": "markdown",
   "id": "cc911110-2f25-4f26-b3ff-50f871fcc5ce",
   "metadata": {},
   "source": [
    "- A hash table is like a super-organized filing system that uses a special code (hash code) to quickly find information.\n",
    "- Python dictionaries use this system, which is why they are so fast at looking up values.\n",
    "A hash table is a data structure that stores key-value pairs, allowing for very fast retrieval of values based on their keys. It's designed to be extremely efficient for looking up data.\n",
    "\n",
    "Example:\n",
    "- Imagine a library with a very efficient index system.\n",
    "    - Key: The book's ISBN (a unique identifier).\n",
    "    - Value: The book itself.\n",
    "    - Hash Function: A system that quickly converts the ISBN into a specific shelf location.\n",
    "    - When you want a book, you give the ISBN, the index system quickly finds the shelf, and you get the book.\n",
    "  \n"
   ]
  },
  {
   "cell_type": "code",
   "execution_count": 132,
   "id": "8579a82b-c123-4544-b1df-910e0b20085e",
   "metadata": {},
   "outputs": [
    {
     "data": {
      "text/plain": [
       "'python basics'"
      ]
     },
     "execution_count": 132,
     "metadata": {},
     "output_type": "execute_result"
    }
   ],
   "source": [
    "Library={} #it will create a empty library\n",
    "\n",
    "Library[\"123\"]=\"python basics\" #it will add book called python basics with 123 it's unique code\n",
    "Library[\"456\"]=\"Data Structures\" #it will add book called Data Structures with 456 it's unique code\n",
    "\n",
    "Library #it will print library where two books are added\n",
    "Library[\"123\"] #it will access python basics book with its unique id called 123\n",
    "\n",
    "#This code directly shows how we add books to the \"library\" (dictionary) and \n",
    "#how we find books using their ISBNs."
   ]
  },
  {
   "cell_type": "code",
   "execution_count": null,
   "id": "9b843a10-db36-4bdf-abc0-cd9eadf082c7",
   "metadata": {},
   "outputs": [],
   "source": []
  },
  {
   "cell_type": "markdown",
   "id": "22686854-910c-49d4-a5e5-a0c2f8842051",
   "metadata": {},
   "source": [
    "**9. Can lists contain different data types in Python?**"
   ]
  },
  {
   "cell_type": "markdown",
   "id": "d33fa5f5-43ee-4cbe-ba8a-115e88b2abdc",
   "metadata": {},
   "source": [
    "- Yes, lists in Python can contain different data types.\n",
    "- Think of a box. You can put different things inside: toys, books, fruits. A Python list is like that box, holding various items."
   ]
  },
  {
   "cell_type": "code",
   "execution_count": 161,
   "id": "c57fe9d8-c480-4667-8c17-e7aba4c5e60e",
   "metadata": {},
   "outputs": [
    {
     "data": {
      "text/plain": [
       "['apple', 10, True, 3.14]"
      ]
     },
     "execution_count": 161,
     "metadata": {},
     "output_type": "execute_result"
    }
   ],
   "source": [
    "#Imagine a \"mixed bag\" of items:\n",
    "mixed_bag=[\"apple\", 10, True, 3.14]\n",
    "mixed_bag"
   ]
  },
  {
   "cell_type": "markdown",
   "id": "c1efab84-fcd6-40b3-9fb6-10961bbcc39f",
   "metadata": {},
   "source": [
    "- \"apple\" (string)\n",
    "- 10 (integer)\n",
    "- True (boolean)\n",
    "- 3.14 (float)\n",
    "\n",
    "All these different types of data are held in the same list."
   ]
  },
  {
   "cell_type": "code",
   "execution_count": 149,
   "id": "564964f8-d6ce-4ab7-bacc-42ba01519ebd",
   "metadata": {},
   "outputs": [
    {
     "name": "stdout",
     "output_type": "stream",
     "text": [
      "['teddy bear', 'toy car', 'puzzle', 'shiv puran', 'bhagwad gita', 'ved puran', 'mango', 'apple', 'banana']\n"
     ]
    }
   ],
   "source": [
    "#Imagine a box\n",
    "\n",
    "# we can put toys in it\n",
    "toys=[\"teddy bear\", \"toy car\", \"puzzle\"]\n",
    "#we can put books in it\n",
    "books=[\"shiv puran\", \"bhagwad gita\", \"ved puran\"]\n",
    "#we can put fruits in it\n",
    "fruits=[\"mango\", \"apple\", \"banana\"]\n",
    "\n",
    "my_box=[] #a python list is like that box\n",
    "my_box.extend(toys) #it will add toys' list in my_box\n",
    "my_box.extend(books) #it will add books' list in my_box\n",
    "my_box.extend(fruits) #it will add fruits' list in my_box\n",
    "\n",
    "print(my_box)"
   ]
  },
  {
   "cell_type": "code",
   "execution_count": null,
   "id": "d4b4825e-f3dd-4acf-9f37-2f3c55267881",
   "metadata": {},
   "outputs": [],
   "source": []
  },
  {
   "cell_type": "markdown",
   "id": "fee09250-f108-4c7a-a2a9-dfa95001a9e9",
   "metadata": {},
   "source": [
    "**10.  Explain why strings are immutable in Python?**"
   ]
  },
  {
   "cell_type": "markdown",
   "id": "8e1fa7f5-8efc-4234-b548-0d4bae2870c7",
   "metadata": {},
   "source": [
    "- Strings are immutable in Python because it makes them more efficient and predictable.\n",
    "\n",
    "- Predictability: You can be sure that a string won't change unexpectedly, preventing bugs.\n",
    "\n",
    "- Imagine a printed sign. Once it's printed, you can't just change a letter on the original sign; you have to make a whole new sign. Strings work like that.\n",
    "\n",
    "- In Python, strings are immutable, which means that once a string is created, its contents cannot be changed directly.\n",
    "\n",
    "- If you have the string \"HELLO\", and you want to change it to \"JELLO\", Python doesn't change the original \"HELLO\". Instead, it creates a new string \"JELLO\" in memory.\n"
   ]
  },
  {
   "cell_type": "code",
   "execution_count": 175,
   "id": "6b9475bf-2a98-487a-8360-324beb84aa6e",
   "metadata": {},
   "outputs": [
    {
     "name": "stdout",
     "output_type": "stream",
     "text": [
      "Original string: HELLO\n",
      "New string: JELLO\n"
     ]
    }
   ],
   "source": [
    "original_string = \"HELLO\"\n",
    "new_string = \"J\" + original_string[1:]  # it will Create a new string\n",
    "\n",
    "print(f\"Original string: {original_string}\") \n",
    "print(f\"New string: {new_string}\")"
   ]
  },
  {
   "cell_type": "code",
   "execution_count": null,
   "id": "951b7439-72e8-4765-ae7f-7014c0051292",
   "metadata": {},
   "outputs": [],
   "source": []
  },
  {
   "cell_type": "markdown",
   "id": "9171d7c2-7824-4383-8127-e12195558b3b",
   "metadata": {},
   "source": [
    "**11. What advantages do dictionaries offer over lists for certain tasks?**"
   ]
  },
  {
   "cell_type": "markdown",
   "id": "d76b6c73-e700-41a4-b29f-77b88e438a06",
   "metadata": {},
   "source": [
    "- Dictionaries offer significant advantages over lists when you need to:\n",
    "    - Quickly find data using a specific label (key).\n",
    "    - Store data as key-value pairs.\n",
    "\n",
    "\n",
    "- Lists are like numbered shelves. You find things by their position.\n",
    "\n",
    "- Dictionaries are like labeled folders. You find things by their name.\n",
    "\n",
    "- List: Imagine a list of students in the order they joined a class. To find a specific student, you might have to check every student until you find the one you want.\n",
    "  \n",
    "- Dictionary: Imagine a student grade book. You can instantly find a student's grade by using their name as the \"key.\"\n",
    "\n",
    "- Dictionaries are faster for looking up specific items by name, while lists are better for ordered sequences."
   ]
  },
  {
   "cell_type": "code",
   "execution_count": 206,
   "id": "98e15440-bc01-46c7-a66c-39d99c2f7bc2",
   "metadata": {},
   "outputs": [
    {
     "name": "stdout",
     "output_type": "stream",
     "text": [
      "B\n"
     ]
    }
   ],
   "source": [
    "# List (slow lookup)\n",
    "student_list = [\"Alice\", \"Bob\", \"Charlie\"]\n",
    "# To find Bob's position, you'd need to loop\n",
    "#student_list[0]\n",
    "#student_list[1]\n",
    "#student_list[2]\n",
    "#student_list.index(\"Bob\")\n",
    "\n",
    "# # Dictionary (fast lookup)\n",
    "student_grades = {\"Alice\": \"A\", \"Bob\": \"B\", \"Charlie\": \"C\"}\n",
    "print(student_grades[\"Bob\"])  # Instantly gets Bob's grade\n",
    "\n"
   ]
  },
  {
   "cell_type": "code",
   "execution_count": null,
   "id": "d79d6eee-cebd-4117-b79a-9cd2f2d4f9ce",
   "metadata": {},
   "outputs": [],
   "source": []
  },
  {
   "cell_type": "markdown",
   "id": "44c0f0ec-937b-4a44-9c72-6dfd813048b3",
   "metadata": {},
   "source": [
    "**12. Describe a scenario where using a tuple would be preferable over a list.**"
   ]
  },
  {
   "cell_type": "markdown",
   "id": "6ba64651-094a-465b-a159-33d3a7ace256",
   "metadata": {},
   "source": [
    "-  tuple is preferable over a list when you have a collection of items that should never change.\n",
    "\n",
    "-  Think of a tuple as a \"read-only\" list. It's like a set of fixed instructions you don't want anyone to alter.\n",
    "\n",
    "-  Imagine storing the days of the week:"
   ]
  },
  {
   "cell_type": "code",
   "execution_count": 220,
   "id": "5321ff04-d8ce-41e3-afae-acece1cad83f",
   "metadata": {},
   "outputs": [
    {
     "data": {
      "text/plain": [
       "('Monday', 'Tuesday', 'Wednesday', 'Thursday', 'Friday', 'Saturday', 'Sunday')"
      ]
     },
     "execution_count": 220,
     "metadata": {},
     "output_type": "execute_result"
    }
   ],
   "source": [
    "days_of_week = (\"Monday\", \"Tuesday\", \"Wednesday\", \"Thursday\", \"Friday\", \"Saturday\", \"Sunday\")\n",
    "days_of_week\n",
    "days_of_week[0]\"january\" #it will couse error"
   ]
  },
  {
   "cell_type": "code",
   "execution_count": null,
   "id": "8baae67f-c381-4c07-8010-1d70fd6a5288",
   "metadata": {},
   "outputs": [],
   "source": []
  },
  {
   "cell_type": "markdown",
   "id": "80c0940b-00cb-424b-897b-e4d2b884fbfe",
   "metadata": {},
   "source": [
    "**13.  How do sets handle duplicate values in Python?**"
   ]
  },
  {
   "cell_type": "markdown",
   "id": "53f362f0-a2be-4776-a475-e8c9ee48087b",
   "metadata": {},
   "source": [
    "- Sets in Python automatically remove any duplicate values.\n",
    "\n",
    "- Think of a set like a bag that only keeps one of each item. If you try to put the same item in again, it ignores it.\n",
    "\n",
    "- Imagine you're collecting raffle tickets. You don't want to count the same ticket twice:"
   ]
  },
  {
   "cell_type": "code",
   "execution_count": 226,
   "id": "6d667ac1-68ae-4e1e-80fa-8c6aa2619145",
   "metadata": {},
   "outputs": [
    {
     "name": "stdout",
     "output_type": "stream",
     "text": [
      "{'789', '123', '456'}\n"
     ]
    }
   ],
   "source": [
    "raffle_tickets = {\"123\", \"456\", \"123\", \"789\"} # Trying to add \"123\" twice\n",
    "\n",
    "print(raffle_tickets) # Output: {'456', '123', '789'}"
   ]
  },
  {
   "cell_type": "markdown",
   "id": "8233e0c3-b0b9-47b3-9028-d3de75262d96",
   "metadata": {},
   "source": [
    "- Even though \"123\" was added twice, the set only stores it once.\n",
    "\n",
    "- This ensures you only have unique tickets."
   ]
  },
  {
   "cell_type": "markdown",
   "id": "7439a1f9-9652-4057-b699-4a6fc87bb0e0",
   "metadata": {},
   "source": [
    "**14.  How does the “in” keyword work differently for lists and dictionaries?**"
   ]
  },
  {
   "cell_type": "markdown",
   "id": "4b3243e4-ab76-4729-9842-11a05e2503ba",
   "metadata": {},
   "source": [
    "- The \"in\" keyword checks for membership, but it does so in different ways for lists and dictionaries:\n",
    "\n",
    "- Lists:\n",
    "    - Checks for values: It searches the entire list to see if a specific value exists.\n",
    "    - Practical use: Imagine searching a list of names for \"Alice.\" It checks each name one by one.\n",
    "\n",
    "- Dictionaries:\n",
    "    - Checks for keys: It only checks if a specific key exists in the dictionary. It does not look at the values.\n",
    "    - Practical use: Imagine a phone book. You quickly check if \"Alice\" (the name/key) is listed, without looking at her phone number (the value).\n"
   ]
  },
  {
   "cell_type": "code",
   "execution_count": 240,
   "id": "4c24a078-f090-47d2-bef2-e02d1ad8263d",
   "metadata": {},
   "outputs": [
    {
     "name": "stdout",
     "output_type": "stream",
     "text": [
      "True\n",
      "True\n",
      "False\n",
      "True\n"
     ]
    }
   ],
   "source": [
    "my_list = [\"apple\", \"banana\", \"cherry\"]\n",
    "my_dict = {\"apple\": 1, \"banana\": 2, \"grape\": 3}\n",
    "\n",
    "print(\"apple\" in my_list)  # it will check for value in my_list and gives \"True\"\n",
    "print(\"apple\" in my_dict)  # it will check for key in my_dict and gives \"True\" \n",
    "print(1 in my_dict) # 1 is a value and it check for keys that's why it will give \"False\"\n",
    "print(\"grape\" in my_dict) #grape is a key so that is will give \"True\" "
   ]
  },
  {
   "cell_type": "markdown",
   "id": "27470fa5-1b88-4d5f-b03a-6389f605117a",
   "metadata": {},
   "source": [
    "In short:\n",
    "- in for lists: \"Is this thing in the list?\"\n",
    "- in for dictionaries: \"Is this key in the dictionary?\""
   ]
  },
  {
   "cell_type": "markdown",
   "id": "b241f5a9-7403-4540-b650-438f1a442e2e",
   "metadata": {},
   "source": [
    "**15. Can you modify the elements of a tuple? Explain why or why not.**"
   ]
  },
  {
   "cell_type": "markdown",
   "id": "23b5acfb-8f07-4043-959b-b61bc6a92936",
   "metadata": {},
   "source": [
    "- No, we cannot modify the elements of a tuple.\n",
    "\n",
    "- Tuples are immutable. This means once they are created, their contents cannot be changed.\n",
    "\n",
    "- Think of a tuple like a sealed envelope. Once it's sealed, we can't change what's inside.\n",
    "\n",
    "- Example: Imagine a tuple storing a person's birthdate:"
   ]
  },
  {
   "cell_type": "code",
   "execution_count": 248,
   "id": "66ac3fbe-47b8-4771-b603-12e5fe82590f",
   "metadata": {},
   "outputs": [
    {
     "data": {
      "text/plain": [
       "(1990, 5, 15)"
      ]
     },
     "execution_count": 248,
     "metadata": {},
     "output_type": "execute_result"
    }
   ],
   "source": [
    "birthdate = (1990, 5, 15)  # Year, month, day\n",
    "birthdate"
   ]
  },
  {
   "cell_type": "markdown",
   "id": "b814323a-d0ff-4374-a5ac-b513909332e1",
   "metadata": {},
   "source": [
    "- This birthdate should never change.\n",
    "- If you tried to change the year, Python would give you an error.\n",
    "- This immutability protects the data from accidental changes."
   ]
  },
  {
   "cell_type": "markdown",
   "id": "af3828d4-0008-4865-b10a-62b83cce2f41",
   "metadata": {},
   "source": [
    "**16. What is a nested dictionary, and give an example of its use case?**"
   ]
  },
  {
   "cell_type": "markdown",
   "id": "8109da0b-cf0a-470c-8e39-1039cc7529f1",
   "metadata": {},
   "source": [
    "- A nested dictionary is a dictionary where one or more of its values are also dictionaries. It's like having dictionaries inside dictionaries.\n",
    "\n",
    "- Think of it as folders within folders. We can organize information into layers.\n",
    "\n",
    "- Example: Student Information\n",
    "    - Imagine you want to store student information, including their grades in different subjects."
   ]
  },
  {
   "cell_type": "code",
   "execution_count": 257,
   "id": "d7ab1e2b-21f7-44ee-ad5d-aa3deb4b87b9",
   "metadata": {},
   "outputs": [
    {
     "name": "stdout",
     "output_type": "stream",
     "text": [
      "90\n"
     ]
    }
   ],
   "source": [
    "student_data = {\n",
    "    \"Alice\": {\"Math\": 90, \"Science\": 85,\"History\": 92},\n",
    "    \"Bob\": {\"Math\": 78, \"Science\": 88,\"History\": 80},\n",
    "    \"Charlie\": {\"Math\": 95, \"Science\": 91,\"History\": 89}\n",
    "}\n",
    "\n",
    "# Accessing Alice's Math grade:\n",
    "print(student_data[\"Alice\"][\"Math\"]) "
   ]
  },
  {
   "cell_type": "code",
   "execution_count": null,
   "id": "4e899c66-e302-4b8b-a72f-cf01b7d1292c",
   "metadata": {},
   "outputs": [],
   "source": []
  },
  {
   "cell_type": "markdown",
   "id": "2eeacb82-7c15-4768-8939-94cdaae4b694",
   "metadata": {},
   "source": [
    "**17. Describe the time complexity of accessing elements in a dictionary.**"
   ]
  },
  {
   "cell_type": "markdown",
   "id": "0c30e53c-ef86-4201-934a-c92b40b6691b",
   "metadata": {},
   "source": [
    "- The time complexity of accessing elements in a dictionary is, on average, O(1), also known as \"constant time.\"\n",
    "\n",
    "- Imagine a well-organized filing cabinet where each folder has a unique label. We can find any folder instantly, no matter how many folders are in the cabinet. Dictionaries work similarly.\n",
    "\n",
    "Example:\n",
    "- Think of a phone book.\n",
    "    - Key: A person's name.\n",
    "    - Value: Their phone number.\n",
    "\n",
    "\n",
    "- If you want to find \"John Smith's\" number, you don't have to look through every name in the book. You go directly to \"John Smith's\" entry.\n"
   ]
  },
  {
   "cell_type": "code",
   "execution_count": 285,
   "id": "8c6decd1-0f31-4e59-8f48-97c055a98a6c",
   "metadata": {},
   "outputs": [
    {
     "name": "stdout",
     "output_type": "stream",
     "text": [
      "2\n",
      "3\n",
      "{'apple': 1, 'banana': 2, 'cherry': 3, 'date': 4}\n",
      "4\n"
     ]
    }
   ],
   "source": [
    "my_dict = {\"apple\": 1, \"banana\": 2, \"cherry\": 3}\n",
    "\n",
    "# Accessing an element (O(1) on average)\n",
    "value=my_dict[\"banana\"]\n",
    "print(value) #it will give output 2\n",
    "\n",
    "# Another access (still O(1))\n",
    "value2 = my_dict[\"cherry\"]\n",
    "print(value2) #it will give output 3\n",
    "\n",
    "# Adding an element (also O(1) on average)\n",
    "my_dict[\"date\"] = 4\n",
    "print(my_dict) #it will print updated dictionary with data:4\n",
    "\n",
    "# Accessing the new element (still O(1))\n",
    "value3 = my_dict[\"date\"]\n",
    "print(value3) #it will give output 4"
   ]
  },
  {
   "cell_type": "markdown",
   "id": "e9eedcb8-d375-4b7a-8910-d6115795b8cc",
   "metadata": {},
   "source": [
    "Explaination:\n",
    "- No matter how many key-value pairs are in my_dict, accessing a specific value (like my_dict[\"banana\"]) takes roughly the same amount of time.\n",
    "- This is because Python uses hashing to quickly find the value associated with the key.\n",
    "- The same is true for adding a new key value pair to the dictionary."
   ]
  },
  {
   "cell_type": "code",
   "execution_count": null,
   "id": "69c00d77-b727-4281-b84d-bbda998de570",
   "metadata": {},
   "outputs": [],
   "source": []
  },
  {
   "cell_type": "markdown",
   "id": "5fb14018-81d8-4992-850c-c1b127fa9a8a",
   "metadata": {},
   "source": [
    "**18. In what situations are lists preferred over dictionaries?**"
   ]
  },
  {
   "cell_type": "markdown",
   "id": "61f37f22-bc27-4d9e-a213-912ed288de46",
   "metadata": {},
   "source": [
    "Lists are preferred over dictionaries when:\n",
    "- Order matters: We need to maintain the sequence of items.\n",
    "- Items are accessed by position: We need to access items using their index (0, 1, 2...).\n",
    "- We have a simple sequence of data: There's no need for key-value pairs.\n",
    "- We need to store duplicate values.\n",
    "\n",
    "- Think of a list as a line of people. Dictionaries are more like a filing cabinet with labeled folders.\n",
    "\n",
    "Examples:\n",
    "- List:\n",
    "    - A playlist of songs: The order you add songs matters.\n",
    "    - A queue of customers: The first customer in line gets served first.\n",
    "    - A log of events: the order events happened is very important.\n",
    "\n",
    "- Dictionary:\n",
    "    - A phone book: You find a number by name (key).\n",
    "    - A menu: You find a price by dish name (key).\n",
    "\n",
    "- In short:\n",
    "    - Use lists when you care about the order and position of items.\n",
    "    - use dictionaries when you care about finding items quickly by a specific label (key)."
   ]
  },
  {
   "cell_type": "code",
   "execution_count": null,
   "id": "79b56ac0-d47e-470c-84de-c1dc794abba7",
   "metadata": {},
   "outputs": [],
   "source": []
  },
  {
   "cell_type": "markdown",
   "id": "e31f1cc3-26c4-4be4-8e06-e8aae9c9383a",
   "metadata": {},
   "source": [
    "**19. Why are dictionaries considered unordered, and how does that affect data retrieval?**"
   ]
  },
  {
   "cell_type": "markdown",
   "id": "1fd1a83d-a7bb-4b36-bb52-dead49b6421b",
   "metadata": {},
   "source": [
    "Dictionaries were traditionally considered unordered because the order in which you added key-value pairs wasn't guaranteed to be preserved. This means you couldn't rely on the dictionary to return items in the same order you inserted them.\n",
    "\n",
    "- Imagine putting labeled folders into a filing cabinet. You might expect them to stay in the order you put them in, but with an unordered dictionary, they could get rearranged.\n",
    "\n",
    "- Imagine a \"to-do\" list as a dictionary:"
   ]
  },
  {
   "cell_type": "code",
   "execution_count": 301,
   "id": "57adb376-aa51-47cb-b9c1-920358faa35e",
   "metadata": {},
   "outputs": [
    {
     "data": {
      "text/plain": [
       "{'work': 'finish report', 'home': 'buy groceries', 'errands': 'mail package'}"
      ]
     },
     "execution_count": 301,
     "metadata": {},
     "output_type": "execute_result"
    }
   ],
   "source": [
    "to_do_list = {\"work\": \"finish report\", \"home\": \"buy groceries\", \"errands\": \"mail package\"}\n",
    "to_do_list"
   ]
  },
  {
   "cell_type": "markdown",
   "id": "c83d9151-4463-4b1a-b120-4e6d0ae2b278",
   "metadata": {},
   "source": [
    "- Before Python 3.7, if you printed this dictionary, the order of \"work,\" \"home,\" and \"errands\" might be different each time you ran the program."
   ]
  },
  {
   "cell_type": "markdown",
   "id": "08d77ae3-f1f1-4c5f-8e8c-62783b06c183",
   "metadata": {},
   "source": [
    "How it Affects Data Retrieval:\n",
    "- Fast Lookups: Dictionaries are optimized for fast lookups based on keys, not for retrieving items in a specific order.\n",
    "- You shouldn't rely on the order of items when you retrieve them from a dictionary. You should always use the keys to access the values you need.\n",
    "- Since Python 3.7, dictionaries maintain insertion order. This means that if you iterate over a dictionary, the items will be returned in the order they were inserted. However, you should still think of dictionaries as primarily designed for key-based lookups, not ordered storage."
   ]
  },
  {
   "cell_type": "markdown",
   "id": "ce60db09-811d-452d-ad0e-3ad001108ad1",
   "metadata": {},
   "source": []
  },
  {
   "cell_type": "code",
   "execution_count": null,
   "id": "09b2df8f-fced-4621-a7ff-cc1571f838e5",
   "metadata": {},
   "outputs": [],
   "source": []
  },
  {
   "cell_type": "markdown",
   "id": "d6611c47-789b-4b9e-86eb-e873170727e5",
   "metadata": {},
   "source": [
    "**20. Explain the difference between a list and a dictionary in terms of data retrieval.**"
   ]
  },
  {
   "cell_type": "markdown",
   "id": "b4336c28-8d75-4218-b5a6-789e16272875",
   "metadata": {},
   "source": [
    "Lists:\n",
    "- Retrieval by position: You get items by their number (index).\n",
    "- Like: A numbered list. You want the third item? You ask for item number 2 (because lists start at 0).\n",
    "- Speed: Can be slow if you don't know the item's number, as you might have to check each item one by one.\n",
    "\n",
    "Dictionaries:\n",
    "- Retrieval by label (key): You get items by their unique name (key).\n",
    "- Like: A labeled filing cabinet. You want Alice's phone number? You ask for \"Alice.\"\n",
    "- Speed: Very fast, even with many items. You go straight to the label. "
   ]
  },
  {
   "cell_type": "code",
   "execution_count": 8,
   "id": "644a7c45-5e8e-43d7-a48b-b9b03917f102",
   "metadata": {},
   "outputs": [
    {
     "name": "stdout",
     "output_type": "stream",
     "text": [
      "Bob\n"
     ]
    }
   ],
   "source": [
    "#List\n",
    "names = [\"Alice\", \"Bob\", \"Charlie\"]\n",
    "print(names[1])  # Gets \"Bob\" (by position)"
   ]
  },
  {
   "cell_type": "code",
   "execution_count": 10,
   "id": "bafe42d1-5ab9-4c81-9ea6-e5a3283c4969",
   "metadata": {},
   "outputs": [
    {
     "name": "stdout",
     "output_type": "stream",
     "text": [
      "456\n"
     ]
    }
   ],
   "source": [
    "phonebook = {\"Alice\": \"123\", \"Bob\": \"456\", \"Charlie\": \"789\"}\n",
    "print(phonebook[\"Bob\"])  # Gets \"456\" (by label)"
   ]
  },
  {
   "cell_type": "code",
   "execution_count": null,
   "id": "17867ccb-f696-4354-bdc9-7e7a92fe2c9f",
   "metadata": {},
   "outputs": [],
   "source": []
  },
  {
   "cell_type": "markdown",
   "id": "2b8d85d5-9a41-43f4-882d-51eb0e0fef6b",
   "metadata": {},
   "source": [
    "***Practical Questions***"
   ]
  },
  {
   "cell_type": "code",
   "execution_count": null,
   "id": "4bd5681d-c827-4e6c-bc7e-9b267cdcf0ba",
   "metadata": {},
   "outputs": [],
   "source": []
  },
  {
   "cell_type": "code",
   "execution_count": null,
   "id": "4c4be226-8c3d-4d8e-8e77-20371e36847f",
   "metadata": {},
   "outputs": [],
   "source": []
  },
  {
   "cell_type": "markdown",
   "id": "5edbe1c3-c099-4932-a160-0d4e7dec8428",
   "metadata": {},
   "source": [
    "**1. Write a code to create a string with your name and print it.**"
   ]
  },
  {
   "cell_type": "code",
   "execution_count": 17,
   "id": "bbe17ab8-d978-42bf-b0c7-64c99f7a9426",
   "metadata": {},
   "outputs": [
    {
     "name": "stdout",
     "output_type": "stream",
     "text": [
      "Shivam Kumar Jha\n"
     ]
    }
   ],
   "source": [
    "a=\"Shivam Kumar Jha\"\n",
    "print(a)"
   ]
  },
  {
   "cell_type": "code",
   "execution_count": 19,
   "id": "9c009f1e-e6aa-4b17-8f95-28d188960a3b",
   "metadata": {},
   "outputs": [
    {
     "data": {
      "text/plain": [
       "str"
      ]
     },
     "execution_count": 19,
     "metadata": {},
     "output_type": "execute_result"
    }
   ],
   "source": [
    "type(a)"
   ]
  },
  {
   "cell_type": "markdown",
   "id": "653bdfcd-1f73-47d8-b6d7-1ae15b6b5ccc",
   "metadata": {},
   "source": [
    "**2. Write a code to find the length of the string \"Hello World\".**"
   ]
  },
  {
   "cell_type": "code",
   "execution_count": 22,
   "id": "7cf0b79f-261b-418a-8979-adedab288416",
   "metadata": {},
   "outputs": [],
   "source": [
    "a=\"Hello World\""
   ]
  },
  {
   "cell_type": "code",
   "execution_count": 28,
   "id": "685be790-0439-4732-831a-20753e62486a",
   "metadata": {},
   "outputs": [
    {
     "name": "stdout",
     "output_type": "stream",
     "text": [
      "11\n"
     ]
    }
   ],
   "source": [
    "print(len(a))\n",
    "# This line uses the len() function to find the length (number of characters) \n",
    "# of the string stored in the variable a."
   ]
  },
  {
   "cell_type": "markdown",
   "id": "0da3225b-60a8-4d61-901e-67ce713f74e1",
   "metadata": {},
   "source": [
    "**3. Write a code to slice the first 3 characters from the string \"Python Programming\".**"
   ]
  },
  {
   "cell_type": "code",
   "execution_count": 32,
   "id": "31c3ff28-d568-4c2e-8bba-ecaec6301c7a",
   "metadata": {},
   "outputs": [
    {
     "name": "stdout",
     "output_type": "stream",
     "text": [
      "Python Programming\n"
     ]
    }
   ],
   "source": [
    "a=\"Python Programming\"\n",
    "print(a)"
   ]
  },
  {
   "cell_type": "code",
   "execution_count": 38,
   "id": "0cf82dca-685b-48c0-9231-c154b52de154",
   "metadata": {},
   "outputs": [
    {
     "name": "stdout",
     "output_type": "stream",
     "text": [
      "Pyt\n"
     ]
    }
   ],
   "source": [
    "print(a[:3])\n",
    "#a[:3] slices the string a from the beginning up to (but not including) the character at index 3. \n",
    "# This extracts the first 3 characters (\"Pyt\")."
   ]
  },
  {
   "cell_type": "markdown",
   "id": "a593a8f8-2194-4a70-b2c9-05577a9add07",
   "metadata": {},
   "source": [
    "**4. Write a code to convert the string \"hello\" to uppercase.**"
   ]
  },
  {
   "cell_type": "code",
   "execution_count": 41,
   "id": "dd30746e-c019-4e3f-87f9-4f8925604516",
   "metadata": {},
   "outputs": [],
   "source": [
    "a = \"hello\""
   ]
  },
  {
   "cell_type": "code",
   "execution_count": 57,
   "id": "ab4751a9-26cd-41a7-8d4f-7c25714fc643",
   "metadata": {},
   "outputs": [
    {
     "name": "stdout",
     "output_type": "stream",
     "text": [
      "HELLO\n"
     ]
    }
   ],
   "source": [
    "print(a.upper())\n",
    "#a.upper() uses the upper() method, which is a built-in string method in Python, \n",
    "# to convert all the characters in the string a to uppercase."
   ]
  },
  {
   "cell_type": "markdown",
   "id": "8e07552a-497d-4bcc-b01d-8af6be770b21",
   "metadata": {},
   "source": [
    "**5. Write a code to replace the word \"apple\" with \"orange\" in the string \"I like apple\".**"
   ]
  },
  {
   "cell_type": "code",
   "execution_count": 89,
   "id": "e2cd56ca-ba70-4008-8658-174792f5fb36",
   "metadata": {},
   "outputs": [],
   "source": [
    "a = \"I like apple\""
   ]
  },
  {
   "cell_type": "code",
   "execution_count": 95,
   "id": "2f9408e1-7a4f-4c10-b063-0787184f9a7c",
   "metadata": {},
   "outputs": [
    {
     "name": "stdout",
     "output_type": "stream",
     "text": [
      "I like orange\n"
     ]
    }
   ],
   "source": [
    "print(a.replace(\"apple\",\"orange\"))\n",
    "# a.replace(\"apple\", \"orange\") uses the replace() method to find all occurrences of \n",
    "# \"apple\" in the string a and replace them with \"orange\"."
   ]
  },
  {
   "cell_type": "markdown",
   "id": "be97a9db-88d8-4ced-8929-0943a29b9269",
   "metadata": {},
   "source": [
    "**6. Write a code to create a list with numbers 1 to 5 and print it.**"
   ]
  },
  {
   "cell_type": "code",
   "execution_count": 98,
   "id": "99cea4c1-1beb-4cd3-ab32-279286d3cd83",
   "metadata": {},
   "outputs": [],
   "source": [
    "a=[1,2,3,4,5]"
   ]
  },
  {
   "cell_type": "code",
   "execution_count": 100,
   "id": "515e9f4f-1df9-464c-95f9-e32587e82fda",
   "metadata": {},
   "outputs": [
    {
     "name": "stdout",
     "output_type": "stream",
     "text": [
      "[1, 2, 3, 4, 5]\n"
     ]
    }
   ],
   "source": [
    "print(a)"
   ]
  },
  {
   "cell_type": "code",
   "execution_count": 102,
   "id": "88b85a10-d134-422f-a209-dcd79189eff3",
   "metadata": {},
   "outputs": [
    {
     "data": {
      "text/plain": [
       "list"
      ]
     },
     "execution_count": 102,
     "metadata": {},
     "output_type": "execute_result"
    }
   ],
   "source": [
    "type(a)"
   ]
  },
  {
   "cell_type": "markdown",
   "id": "ddd80104-92c9-4a09-a6ec-c1a3624bb15a",
   "metadata": {},
   "source": [
    "**7. Write a code to append the number 10 to the list [1, 2, 3, 4].**"
   ]
  },
  {
   "cell_type": "code",
   "execution_count": 111,
   "id": "9f9652b6-130f-4b11-bc3b-a7fd9fa7616e",
   "metadata": {},
   "outputs": [
    {
     "name": "stdout",
     "output_type": "stream",
     "text": [
      "[1, 2, 3, 4]\n"
     ]
    }
   ],
   "source": [
    "a=[1,2,3,4]\n",
    "print(a)"
   ]
  },
  {
   "cell_type": "code",
   "execution_count": 113,
   "id": "a97ecc0a-4377-41d2-b724-d638a17783ac",
   "metadata": {},
   "outputs": [],
   "source": [
    "a.append(10)"
   ]
  },
  {
   "cell_type": "code",
   "execution_count": 115,
   "id": "1c28c765-eeee-42f1-8456-ed727225e92c",
   "metadata": {},
   "outputs": [
    {
     "name": "stdout",
     "output_type": "stream",
     "text": [
      "[1, 2, 3, 4, 10]\n"
     ]
    }
   ],
   "source": [
    "print(a)"
   ]
  },
  {
   "cell_type": "markdown",
   "id": "dd40379c-3d89-4ccb-a5ea-c7c912a4de48",
   "metadata": {},
   "source": [
    "**8. Write a code to remove the number 3 from the list [1, 2, 3, 4, 5].**"
   ]
  },
  {
   "cell_type": "code",
   "execution_count": 129,
   "id": "addc9fcb-a5ce-48f9-b104-493f3ac8c0df",
   "metadata": {},
   "outputs": [
    {
     "name": "stdout",
     "output_type": "stream",
     "text": [
      "[1, 2, 3, 4, 5]\n"
     ]
    }
   ],
   "source": [
    "a=[1,2,3,4,5]\n",
    "print(a)"
   ]
  },
  {
   "cell_type": "code",
   "execution_count": 133,
   "id": "674b9fe4-0481-4164-8933-e3ca81fd8da4",
   "metadata": {},
   "outputs": [],
   "source": [
    "a.remove(3)"
   ]
  },
  {
   "cell_type": "code",
   "execution_count": 135,
   "id": "339e91aa-f204-4913-886b-331881fc01d5",
   "metadata": {},
   "outputs": [
    {
     "name": "stdout",
     "output_type": "stream",
     "text": [
      "[1, 2, 4, 5]\n"
     ]
    }
   ],
   "source": [
    "print(a)"
   ]
  },
  {
   "cell_type": "markdown",
   "id": "89aad3d6-c4b1-4e5d-9506-a2af833d0530",
   "metadata": {},
   "source": [
    "**9. Write a code to access the second element in the list ['a', 'b', 'c', 'd'].**"
   ]
  },
  {
   "cell_type": "code",
   "execution_count": 150,
   "id": "ba45baac-f406-4d4a-b910-0d7779db2702",
   "metadata": {},
   "outputs": [
    {
     "name": "stdout",
     "output_type": "stream",
     "text": [
      "['a', 'b', 'c', 'd']\n"
     ]
    }
   ],
   "source": [
    "a=['a','b','c','d']\n",
    "print(a)"
   ]
  },
  {
   "cell_type": "code",
   "execution_count": 154,
   "id": "ef8e1dc8-8d07-4cc3-9eed-da15b01a5523",
   "metadata": {},
   "outputs": [
    {
     "name": "stdout",
     "output_type": "stream",
     "text": [
      "b\n"
     ]
    }
   ],
   "source": [
    "print(a[1])"
   ]
  },
  {
   "cell_type": "markdown",
   "id": "aa457a1b-98c8-4b57-bdeb-7932f18712eb",
   "metadata": {},
   "source": [
    "**10. Write a code to reverse the list [10, 20, 30, 40, 50].**"
   ]
  },
  {
   "cell_type": "code",
   "execution_count": 157,
   "id": "96e19ae2-dc7f-4e9f-ac9c-2edf7008e69b",
   "metadata": {},
   "outputs": [
    {
     "name": "stdout",
     "output_type": "stream",
     "text": [
      "[10, 20, 30, 40, 50]\n"
     ]
    }
   ],
   "source": [
    "a=[10,20,30,40,50]\n",
    "print(a)"
   ]
  },
  {
   "cell_type": "code",
   "execution_count": 177,
   "id": "1666938a-c8d1-4b50-ae1e-b57cfb4516a2",
   "metadata": {},
   "outputs": [
    {
     "name": "stdout",
     "output_type": "stream",
     "text": [
      "[50, 40, 30, 20, 10]\n"
     ]
    }
   ],
   "source": [
    "print(a[::-1])\n",
    "#a[::-1] uses slicing with a step of -1 to create a reversed copy of the list a."
   ]
  },
  {
   "cell_type": "markdown",
   "id": "f900c2f7-e7f8-441c-a1d3-2ee27ab584f3",
   "metadata": {},
   "source": [
    "**11. Write a code to create a tuple with the elements 100, 200, 300 and print it.**"
   ]
  },
  {
   "cell_type": "code",
   "execution_count": 181,
   "id": "bdb9b1d6-68d2-44b8-bc7a-430a0e05bc5b",
   "metadata": {},
   "outputs": [
    {
     "name": "stdout",
     "output_type": "stream",
     "text": [
      "(100, 200, 300)\n"
     ]
    }
   ],
   "source": [
    "a=(100,200,300)\n",
    "print(a)"
   ]
  },
  {
   "cell_type": "code",
   "execution_count": 183,
   "id": "d1e44574-c493-4443-8395-c0b0dc0f2add",
   "metadata": {},
   "outputs": [
    {
     "data": {
      "text/plain": [
       "tuple"
      ]
     },
     "execution_count": 183,
     "metadata": {},
     "output_type": "execute_result"
    }
   ],
   "source": [
    "type(a)"
   ]
  },
  {
   "cell_type": "markdown",
   "id": "05eeaee9-51ef-4ffb-a611-92f3772bbb1e",
   "metadata": {},
   "source": [
    "**12. Write a code to access the second-to-last element of the tuple ('red', 'green', 'blue', 'yellow').**"
   ]
  },
  {
   "cell_type": "code",
   "execution_count": 241,
   "id": "51a363ff-f5ac-4320-ae87-098c1c875e91",
   "metadata": {},
   "outputs": [
    {
     "name": "stdout",
     "output_type": "stream",
     "text": [
      "('red', 'green', 'blue', 'yellow')\n"
     ]
    }
   ],
   "source": [
    "a=('red','green','blue','yellow')\n",
    "print(a)"
   ]
  },
  {
   "cell_type": "code",
   "execution_count": 243,
   "id": "ab0c81e5-9e7e-45e9-80ef-9afb98284ea0",
   "metadata": {},
   "outputs": [
    {
     "data": {
      "text/plain": [
       "tuple"
      ]
     },
     "execution_count": 243,
     "metadata": {},
     "output_type": "execute_result"
    }
   ],
   "source": [
    "type(a)"
   ]
  },
  {
   "cell_type": "code",
   "execution_count": 247,
   "id": "3021b258-a4b1-4041-a1bb-997ba812c995",
   "metadata": {},
   "outputs": [
    {
     "name": "stdout",
     "output_type": "stream",
     "text": [
      "blue\n"
     ]
    }
   ],
   "source": [
    "print(a[-2])\n",
    "#this will give the output second to last element of the tuple"
   ]
  },
  {
   "cell_type": "markdown",
   "id": "3f938416-e77c-4f70-9010-420ae36c7013",
   "metadata": {},
   "source": [
    "**13. Write a code to find the minimum number in the tuple (10, 20, 5, 15).**"
   ]
  },
  {
   "cell_type": "code",
   "execution_count": 270,
   "id": "e3f9f5cc-6bd0-42fe-a94d-50b7a59c6161",
   "metadata": {},
   "outputs": [
    {
     "name": "stdout",
     "output_type": "stream",
     "text": [
      "(10, 20, 5, 15)\n"
     ]
    },
    {
     "data": {
      "text/plain": [
       "tuple"
      ]
     },
     "execution_count": 270,
     "metadata": {},
     "output_type": "execute_result"
    }
   ],
   "source": [
    "a=(10,20,5,15)\n",
    "print(a)\n",
    "type(a)"
   ]
  },
  {
   "cell_type": "code",
   "execution_count": 276,
   "id": "6e3c4d19-b878-49cd-a8fd-3a039b335ca9",
   "metadata": {},
   "outputs": [
    {
     "name": "stdout",
     "output_type": "stream",
     "text": [
      "5\n"
     ]
    }
   ],
   "source": [
    "print(min(a))"
   ]
  },
  {
   "cell_type": "markdown",
   "id": "7200f23b-1632-40c1-9c01-074b8852c7ee",
   "metadata": {},
   "source": [
    "**14. Write a code to find the index of the element \"cat\" in the tuple ('dog', 'cat', 'rabbit').**"
   ]
  },
  {
   "cell_type": "code",
   "execution_count": 308,
   "id": "73d12c09-c215-45b6-ad23-c7a8c0bce808",
   "metadata": {},
   "outputs": [
    {
     "name": "stdout",
     "output_type": "stream",
     "text": [
      "('dog', 'cat', 'rabbit')\n"
     ]
    }
   ],
   "source": [
    "a=('dog','cat','rabbit')\n",
    "print(a)"
   ]
  },
  {
   "cell_type": "code",
   "execution_count": 312,
   "id": "5214e9b0-37bd-4259-a2cc-12853fb80b05",
   "metadata": {},
   "outputs": [
    {
     "name": "stdout",
     "output_type": "stream",
     "text": [
      "1\n"
     ]
    }
   ],
   "source": [
    "index_of_cat=a.index(\"cat\")\n",
    "print(index_of_cat)"
   ]
  },
  {
   "cell_type": "markdown",
   "id": "388263b9-e08a-433a-adc5-50360d97f660",
   "metadata": {},
   "source": [
    "**15. Write a code to create a tuple containing three different fruits and check if \"kiwi\" is in it.**"
   ]
  },
  {
   "cell_type": "code",
   "execution_count": 325,
   "id": "e0642141-52d9-4dc5-9c73-42b2dd9e01fc",
   "metadata": {},
   "outputs": [
    {
     "name": "stdout",
     "output_type": "stream",
     "text": [
      "('mango', 'banana', 'orange')\n"
     ]
    }
   ],
   "source": [
    "a=('mango','banana','orange')\n",
    "print(a)"
   ]
  },
  {
   "cell_type": "code",
   "execution_count": 329,
   "id": "3dc09952-9448-4516-8eb1-d788c9aa12fa",
   "metadata": {},
   "outputs": [
    {
     "name": "stdout",
     "output_type": "stream",
     "text": [
      "False\n"
     ]
    }
   ],
   "source": [
    "print(\"kiwi\" in a)"
   ]
  },
  {
   "cell_type": "markdown",
   "id": "ea88c1fa-5f26-4ed8-9532-135555af2cc7",
   "metadata": {},
   "source": [
    "**16. Write a code to create a set with the elements 'a', 'b', 'c' and print it.**"
   ]
  },
  {
   "cell_type": "code",
   "execution_count": 336,
   "id": "ee99032b-140d-4ad3-ae4b-802b3a61d87e",
   "metadata": {},
   "outputs": [
    {
     "name": "stdout",
     "output_type": "stream",
     "text": [
      "{'b', 'c', 'a'}\n"
     ]
    },
    {
     "data": {
      "text/plain": [
       "set"
      ]
     },
     "execution_count": 336,
     "metadata": {},
     "output_type": "execute_result"
    }
   ],
   "source": [
    "my_set={'a','b','c'}\n",
    "print(my_set)\n",
    "type(my_set)"
   ]
  },
  {
   "cell_type": "markdown",
   "id": "9383a942-18b1-4ac8-9e94-17c13b9658ab",
   "metadata": {},
   "source": [
    "**17. Write a code to clear all elements from the set {1, 2, 3, 4, 5}.**"
   ]
  },
  {
   "cell_type": "code",
   "execution_count": 348,
   "id": "d7bce646-1e4b-4e71-8bf5-8025d4368328",
   "metadata": {},
   "outputs": [
    {
     "name": "stdout",
     "output_type": "stream",
     "text": [
      "set()\n"
     ]
    }
   ],
   "source": [
    "a={1,2,3,4,5}\n",
    "# print(a)\n",
    "# type(a)\n",
    "a.clear()\n",
    "print(a)"
   ]
  },
  {
   "cell_type": "markdown",
   "id": "b074bd43-b8aa-48a8-a468-7263e90a7818",
   "metadata": {},
   "source": [
    "**18. Write a code to remove the element 4 from the set {1, 2, 3, 4}.**"
   ]
  },
  {
   "cell_type": "code",
   "execution_count": 357,
   "id": "d41640e1-3cf8-42a8-8d95-80d7af7bc092",
   "metadata": {},
   "outputs": [
    {
     "name": "stdout",
     "output_type": "stream",
     "text": [
      "{1, 2, 3}\n"
     ]
    }
   ],
   "source": [
    "a={1,2,3,4}\n",
    "# print(a)\n",
    "# type(a)\n",
    "a.remove(4)\n",
    "print(a)"
   ]
  },
  {
   "cell_type": "markdown",
   "id": "cc236c1d-5183-4a6f-909d-b61c39859ab2",
   "metadata": {},
   "source": [
    "**19. Write a code to find the union of two sets {1, 2, 3} and {3, 4, 5}.**"
   ]
  },
  {
   "cell_type": "code",
   "execution_count": 376,
   "id": "4cab3fb6-5960-4ded-bff0-feab132f0e38",
   "metadata": {},
   "outputs": [
    {
     "name": "stdout",
     "output_type": "stream",
     "text": [
      "{1, 2, 3, 4, 5}\n"
     ]
    }
   ],
   "source": [
    "a={1,2,3}\n",
    "b={3,4,5}\n",
    "# print(a)\n",
    "# print(b)\n",
    "print(a.union(b))"
   ]
  },
  {
   "cell_type": "markdown",
   "id": "aeecd794-8e1e-4da8-9452-b4d6f3ec9d9d",
   "metadata": {},
   "source": [
    "**20. Write a code to find the intersection of two sets {1, 2, 3} and {2, 3, 4}.**"
   ]
  },
  {
   "cell_type": "code",
   "execution_count": 383,
   "id": "dcdde660-8f27-41fa-89f6-8218ab4bc1fa",
   "metadata": {},
   "outputs": [
    {
     "name": "stdout",
     "output_type": "stream",
     "text": [
      "{2, 3}\n"
     ]
    }
   ],
   "source": [
    "a={1,2,3}\n",
    "b={2,3,4}\n",
    "print(a.intersection(b))"
   ]
  },
  {
   "cell_type": "markdown",
   "id": "17604a71-f855-4b99-a283-1e0522adaa34",
   "metadata": {},
   "source": [
    "**21.  Write a code to create a dictionary with the keys \"name\", \"age\", and \"city\", and print it.**"
   ]
  },
  {
   "cell_type": "code",
   "execution_count": 396,
   "id": "6ec5b396-ac6a-45cd-8e30-eb0c6f6f360f",
   "metadata": {},
   "outputs": [
    {
     "name": "stdout",
     "output_type": "stream",
     "text": [
      "{'name': 'Shivam', 'age': 22, 'city': 'patna'}\n"
     ]
    }
   ],
   "source": [
    "my_dictionary={\"name\":\"Shivam\", \"age\":22, \"city\":\"patna\"}\n",
    "print(my_dictionary)\n",
    "# type(my_dictionary)"
   ]
  },
  {
   "cell_type": "markdown",
   "id": "632adeac-a8f2-4e62-b586-e5d1c831e2a8",
   "metadata": {},
   "source": [
    "**22. Write a code to add a new key-value pair \"country\": \"USA\" to the dictionary {'name': 'John', 'age': 25}.**"
   ]
  },
  {
   "cell_type": "code",
   "execution_count": 455,
   "id": "d7496fb1-2af5-4a9b-83c1-543fbbb995e4",
   "metadata": {},
   "outputs": [
    {
     "name": "stdout",
     "output_type": "stream",
     "text": [
      "{'name': 'john', 'age': 25, 'country': 'USA'}\n"
     ]
    }
   ],
   "source": [
    "my_dict={'name':'john', 'age':25}\n",
    "# print(my_dict)\n",
    "# ney_key=my_dict.add('country':'USA')\n",
    "# print(new_key)\n",
    "my_dict['country']='USA'\n",
    "print(my_dict)"
   ]
  },
  {
   "cell_type": "markdown",
   "id": "569ec67a-7a08-4521-ae72-5ac36ca28791",
   "metadata": {},
   "source": [
    "**23. Write a code to access the value associated with the key \"name\" in the dictionary {'name': 'Alice', 'age': 30}.**"
   ]
  },
  {
   "cell_type": "code",
   "execution_count": 470,
   "id": "30462098-69e2-45d7-9de2-dd950081e9b8",
   "metadata": {},
   "outputs": [
    {
     "name": "stdout",
     "output_type": "stream",
     "text": [
      "Alice\n"
     ]
    }
   ],
   "source": [
    "a={'name':'Alice', 'age':30}\n",
    "# print(a)\n",
    "print(a['name'])"
   ]
  },
  {
   "cell_type": "markdown",
   "id": "47fd7115-139f-489a-8197-c5ce9b653f54",
   "metadata": {},
   "source": [
    "**24. Write a code to remove the key \"age\" from the dictionary {'name': 'Bob', 'age': 22, 'city': 'New York'}.**"
   ]
  },
  {
   "cell_type": "code",
   "execution_count": 500,
   "id": "fd40c762-2112-493d-99ff-264ff18eafb7",
   "metadata": {},
   "outputs": [
    {
     "name": "stdout",
     "output_type": "stream",
     "text": [
      "{'name': 'Bob', 'city': 'New York'}\n"
     ]
    }
   ],
   "source": [
    "a={'name':'Bob', 'age':22, 'city':'New York'}\n",
    "#print(a)\n",
    "del a['age']\n",
    "print(a)"
   ]
  },
  {
   "cell_type": "markdown",
   "id": "cd3f6686-cba9-4734-8e91-408082c52e7a",
   "metadata": {},
   "source": [
    "**25. Write a code to check if the key \"city\" exists in the dictionary {'name': 'Alice', 'city': 'Paris'}.**"
   ]
  },
  {
   "cell_type": "code",
   "execution_count": 511,
   "id": "f77fbe03-217f-4766-ad3d-d498d90e2daf",
   "metadata": {},
   "outputs": [
    {
     "name": "stdout",
     "output_type": "stream",
     "text": [
      "True\n"
     ]
    }
   ],
   "source": [
    "info={'name':'Alice', 'city':'Paris'}\n",
    "#print(info)\n",
    "print('city' in info)"
   ]
  },
  {
   "cell_type": "markdown",
   "id": "e739ad2b-f42b-49a4-9426-09ef16224315",
   "metadata": {},
   "source": [
    "**26. Write a code to create a list, a tuple, and a dictionary, and print them all.**"
   ]
  },
  {
   "cell_type": "code",
   "execution_count": 536,
   "id": "bfe3624c-076e-4d52-8e01-f7b99d05f6d2",
   "metadata": {},
   "outputs": [
    {
     "name": "stdout",
     "output_type": "stream",
     "text": [
      "[1, 2, 3, 4, 5]\n",
      "(6, 7, 8, 9, 10)\n",
      "{'ravi': 11, 'kiran': 12, 'sk': 13}\n"
     ]
    }
   ],
   "source": [
    "List=[1,2,3,4,5]\n",
    "Tuple=(6,7,8,9,10)\n",
    "Dictionary={'ravi':11,'kiran':12,'sk':13,}\n",
    "print(List)\n",
    "print(Tuple)\n",
    "print(Dictionary)\n",
    "# type(List)\n",
    "# type(Tuple)\n",
    "#type(Dictionary)"
   ]
  },
  {
   "cell_type": "markdown",
   "id": "0121a96f-c4dd-4e61-8d6e-932ea1edf447",
   "metadata": {},
   "source": [
    "**27. Write a code to create a list of 5 random numbers between 1 and 100, sort it in ascending order, and print the result.(replaced).**"
   ]
  },
  {
   "cell_type": "code",
   "execution_count": 566,
   "id": "9382df50-691b-4554-871f-f7dfc6c6e7d8",
   "metadata": {},
   "outputs": [
    {
     "name": "stdout",
     "output_type": "stream",
     "text": [
      "[32, 34, 78, 98]\n"
     ]
    }
   ],
   "source": [
    "List=[78,34,32,98]\n",
    "List.sort()\n",
    "print(List)  "
   ]
  },
  {
   "cell_type": "markdown",
   "id": "d02cc298-b53e-4bdd-a319-10bfac2c89ef",
   "metadata": {},
   "source": [
    "**or**"
   ]
  },
  {
   "cell_type": "code",
   "execution_count": 575,
   "id": "88e33c7d-f0a1-4119-8385-5af6d5547a33",
   "metadata": {},
   "outputs": [
    {
     "name": "stdout",
     "output_type": "stream",
     "text": [
      "[10, 29, 37, 63, 89]\n"
     ]
    }
   ],
   "source": [
    "# random module ko import karega jiska use hum random generate karne ke liye\n",
    "#karenge\n",
    "import random\n",
    "# 1 se 100 ke beech 5 random numbers ki list banayega\n",
    "random_numbers = [random.randint(1, 100) for _ in range(5)]\n",
    "# list ko ascending order mein sort karega\n",
    "random_numbers.sort()\n",
    "# result print karen\n",
    "print(random_numbers)"
   ]
  },
  {
   "cell_type": "code",
   "execution_count": null,
   "id": "25d17ba7-d70c-4326-b41e-98b1aaeec4c0",
   "metadata": {},
   "outputs": [],
   "source": []
  },
  {
   "cell_type": "markdown",
   "id": "7088c698-7e6a-4e95-bf10-422e870589a6",
   "metadata": {},
   "source": [
    "**28. Write a code to create a list with strings and print the element at the third index.**"
   ]
  },
  {
   "cell_type": "code",
   "execution_count": 612,
   "id": "75e3a36b-a7bc-44a8-a67e-7dfa62f6ab12",
   "metadata": {},
   "outputs": [
    {
     "name": "stdout",
     "output_type": "stream",
     "text": [
      "suraj\n"
     ]
    }
   ],
   "source": [
    "strings_list=['ramu', 'hari', 'ravi','suraj']\n",
    "print(strings_list[3])"
   ]
  },
  {
   "cell_type": "markdown",
   "id": "1dd12edc-3828-4eee-9e52-0810aeb575d0",
   "metadata": {},
   "source": [
    "**29. Write a code to combine two dictionaries into one and print the result.**"
   ]
  },
  {
   "cell_type": "code",
   "execution_count": 635,
   "id": "0b424483-b5aa-4a14-bbc3-69a19e5f3f65",
   "metadata": {},
   "outputs": [
    {
     "name": "stdout",
     "output_type": "stream",
     "text": [
      "{'name': 'ravi', 'age': 23, 'city': 'patna', 'village': 'amba'}\n"
     ]
    }
   ],
   "source": [
    "a={'name':'ravi', 'age':23}\n",
    "b={'city':'patna', 'village':'amba'}\n",
    "a.update(b)\n",
    "print(a)"
   ]
  },
  {
   "cell_type": "markdown",
   "id": "2cb21418-be60-44bb-aea8-eda9005dbfcb",
   "metadata": {},
   "source": [
    "**or**"
   ]
  },
  {
   "cell_type": "code",
   "execution_count": 638,
   "id": "3efa5519-74c8-4fcc-ba03-aebcaad6b4d8",
   "metadata": {},
   "outputs": [
    {
     "name": "stdout",
     "output_type": "stream",
     "text": [
      "{'name': 'ravi', 'age': 23, 'city': 'patna', 'village': 'amba'}\n"
     ]
    }
   ],
   "source": [
    "c={**a, **b}\n",
    "print(c)"
   ]
  },
  {
   "cell_type": "markdown",
   "id": "25e0cdc2-d5db-4d32-ac07-bbb980ecea69",
   "metadata": {},
   "source": [
    "**30. Write a code to convert a list of strings into a set.**"
   ]
  },
  {
   "cell_type": "code",
   "execution_count": 667,
   "id": "7d369464-1e43-483b-88a1-453242a652ac",
   "metadata": {},
   "outputs": [
    {
     "name": "stdout",
     "output_type": "stream",
     "text": [
      "{'hari', 'ravi', 'raja', 'mohan', 'shivam'}\n"
     ]
    },
    {
     "data": {
      "text/plain": [
       "set"
      ]
     },
     "execution_count": 667,
     "metadata": {},
     "output_type": "execute_result"
    }
   ],
   "source": [
    "a=['shivam', 'raja', 'ravi', 'hari', 'mohan']\n",
    "c=set(a)\n",
    "print(c)\n",
    "type(c)"
   ]
  },
  {
   "cell_type": "code",
   "execution_count": null,
   "id": "3ca61add-9251-41b4-b3f1-6437f8c044f5",
   "metadata": {},
   "outputs": [],
   "source": []
  }
 ],
 "metadata": {
  "kernelspec": {
   "display_name": "Python 3 (ipykernel)",
   "language": "python",
   "name": "python3"
  },
  "language_info": {
   "codemirror_mode": {
    "name": "ipython",
    "version": 3
   },
   "file_extension": ".py",
   "mimetype": "text/x-python",
   "name": "python",
   "nbconvert_exporter": "python",
   "pygments_lexer": "ipython3",
   "version": "3.12.7"
  }
 },
 "nbformat": 4,
 "nbformat_minor": 5
}
