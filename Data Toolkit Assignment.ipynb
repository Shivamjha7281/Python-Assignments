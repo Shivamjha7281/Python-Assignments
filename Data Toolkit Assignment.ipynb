{
 "cells": [
  {
   "cell_type": "markdown",
   "id": "8228311a-119c-4827-8b65-c0150b719ce2",
   "metadata": {},
   "source": [
    "# Data Toolkit Assignment Questions"
   ]
  },
  {
   "cell_type": "markdown",
   "id": "d272223a-c680-4308-b26d-f3ce3ff2d630",
   "metadata": {},
   "source": [
    "**1. What is NumPy, and why is it widely used in Python ?**"
   ]
  },
  {
   "cell_type": "markdown",
   "id": "ef0dc3fd-687c-4393-8aa5-93c00478fedf",
   "metadata": {},
   "source": [
    "- NumPy is a library in Python, meaning a collection of some extra tools.\n",
    "\n",
    "- Imagine, if you have to work on a lot of numbers at once, like adding them, subtracting them, or doing some calculation, then NumPy makes this work very easy and fast.\n",
    "\n",
    "- That is why it is very popular whenever there is a lot of numbers in Python and you have to do calculations on them!"
   ]
  },
  {
   "cell_type": "markdown",
   "id": "30e97a5f-8f26-4794-8ca9-4a0421eb817d",
   "metadata": {},
   "source": [
    "**2. How does broadcasting work in NumPy ?**"
   ]
  },
  {
   "cell_type": "markdown",
   "id": "e33ec745-cb6b-4ef2-850b-b4d6dc52376f",
   "metadata": {},
   "source": [
    "- Broadcasting in NumPy is a way that you can perform calculations on arrays with different shapes, without changing their exact shape.\n",
    "\n",
    "- Example:\n",
    "\n",
    "- Suppose you have a small basket (array) with 3 apples: [1, 2, 3]\n",
    "\n",
    "- And you have a big box (another array) with the price of each apple: 5\n",
    "\n",
    "- If you want to add the price of each apple to each apple, what will broadcasting do?\n",
    "\n",
    "- NumPy will \"understand\" that you want to add 5 to each apple. So it will automatically \"spread\" or \"stretch\" the 5 so that it is [5, 5, 5].\n",
    "\n",
    "- Then he will comfortably add them both: [1+5, 2+5, 3+5] which will be [6, 7, 8].\n",
    "\n",
    "- The bottom line is that broadcasting allows NumPy to \"stretch\" the smaller array to the shape of the larger array so that you can do different element-wise calculations, as long as their dimensions are compatible.\n",
    "\n",
    "- This saves memory because NumPy doesn't actually make a copy of the larger array, but just \"thinks\" it is like that. And it also keeps the code clean and small."
   ]
  },
  {
   "cell_type": "code",
   "execution_count": 28,
   "id": "8e82d51a-5a05-4428-8482-8e5b9543edf8",
   "metadata": {},
   "outputs": [
    {
     "name": "stdout",
     "output_type": "stream",
     "text": [
      "[6 7 8]\n"
     ]
    }
   ],
   "source": [
    "import numpy as np\n",
    "\n",
    "a = np.array([1, 2, 3])\n",
    "b = np.array(5)\n",
    "\n",
    "result = a + b\n",
    "print(result)\n",
    "\n",
    "\n",
    "#The code prints [6, 7, 8] by adding 5 to each number in an array [1, 2, 3]. \n",
    "#The broadcasting feature of Numpy is used."
   ]
  },
  {
   "cell_type": "markdown",
   "id": "aa3b0031-7fa7-40e0-a8ed-57026a7346e7",
   "metadata": {},
   "source": [
    "**3. What is a Pandas DataFrame ?**"
   ]
  },
  {
   "cell_type": "markdown",
   "id": "0c23cfb9-aabd-490b-8589-059b5ac8be9b",
   "metadata": {},
   "source": [
    "- Pandas DataFrame is like a table in Python.\n",
    "\n",
    "- Think of it as a spreadsheet, with rows and columns. Each column has its own name, and each row represents a record.\n",
    "\n",
    "- Dataframe is a tool for storing data in an organized manner into rows and columns, making it easier to view and work with the data.\n",
    "\n",
    "- Just like your school has an attendance sheet, in which students' names are in rows and details like present/absent are in columns, similarly Pandas DataFrame manages data."
   ]
  },
  {
   "cell_type": "markdown",
   "id": "c6f82426-14c5-4d94-afa7-3ac075feb96c",
   "metadata": {},
   "source": [
    "**4. Explain the use of the groupby() method in Pandas ?**"
   ]
  },
  {
   "cell_type": "markdown",
   "id": "462f3c4c-68cd-475e-ab14-df92f46d8c15",
   "metadata": {},
   "source": [
    "- The groupby() method in Pandas is a very powerful tool that allows you to divide the data in a DataFrame into groups based on the values of one or more columns.\n",
    "\n",
    "- Understand it like this: If you have a table containing information about people from different cities, and you want to know the average age or count of people in each city, then groupby() will help you.\n",
    "\n",
    "- In simple words, groupby() is used to separate data into categories and then perform a calculation (like average, sum, count, etc.) on each category.\n",
    "\n",
    "- Example - "
   ]
  },
  {
   "cell_type": "code",
   "execution_count": 59,
   "id": "782126d6-0471-4c65-a2a4-b48bf45e87fd",
   "metadata": {},
   "outputs": [],
   "source": [
    "import pandas as pd\n",
    "\n",
    "data = {'City': ['Patna', 'Delhi', 'Patna', 'Delhi', 'Patna', 'Delhi'],\n",
    "        'Gender': ['Male', 'Female', 'Female', 'Male', 'Male', 'Female'],\n",
    "        'Age': [25, 30, 22, 35, 28, 32],\n",
    "        'Salary': [25000, 30000, 22000, 35000, 28000, 32000]}\n",
    "\n",
    "df = pd.DataFrame(data)\n",
    "\n",
    "average_age_by_city = df.groupby('City')['Age'].mean()\n",
    "print(average_age_by_city)"
   ]
  },
  {
   "cell_type": "markdown",
   "id": "969a1a86-f51e-45c1-9797-a5908b1cb50d",
   "metadata": {},
   "source": [
    "**5. Why is Seaborn preferred for statistical visualizations ?**"
   ]
  },
  {
   "cell_type": "markdown",
   "id": "2afc5234-b173-4060-b9ec-cf7c7abe0d7e",
   "metadata": {},
   "source": [
    " Seaborn is a popular Python library used for statistical visualizations. There are several reasons why it is so popular:\n",
    "\n",
    "1. Simple interface: It is built on top of Matplotlib but is much easier to use. You can create complex statistical plots with much less code than with Matplotlib.\n",
    "\n",
    "2. Focus on statistical graphics: Matplotlib is a general plotting library, while Seaborn is specifically designed for visualizing statistical data. It has built-in functions for creating many kinds of statistical plots,\n",
    "\n",
    "3. Easy integration with Pandas: Seaborn Pandas makes working with DataFrames very easy. It allows creating plots directly using the columns of a DataFrame, making the transition from data analysis to visualization much easier.\n",
    "\n",
    "4. Attractive default look: Seaborn has a very attractive style and colour palette by default. This means you can create informative and visually appealing plots without much effort, whereas Matplotlib often requires more tweaking to achieve the same look.\n",
    "\n",
    "5. Easy to create complex plots: Seaborn provides easy functions to create complex visualizations such as faceted plots (creating multiple subplots based on different categories) and pair plots (showing pairwise relationships between multiple variables)."
   ]
  },
  {
   "cell_type": "markdown",
   "id": "3f7ff9f5-68f3-4e08-a3b3-2e1c2fc8407a",
   "metadata": {},
   "source": [
    "**6. What are the differences between NumPy arrays and Python lists ?**"
   ]
  },
  {
   "cell_type": "markdown",
   "id": "6002fbaa-addf-4b9f-8d8e-ba3a9f785dee",
   "metadata": {},
   "source": [
    "Python Lists: \n",
    "- Imagine a general-purpose container, like a mixed-item box. You can put anything you want in it – numbers, words, even other boxes!\n",
    "\n",
    "- Flexibility: Lists can hold items of different data types all at once.\n",
    "\n",
    "- Operations: They are great for adding, removing, and rearranging items.\n",
    "\n",
    "- Speed (for calculations): When you want to do math on all the numbers in a list, Python has to look at each item individually, figure out if it's a number, and then perform the operation. This can be a bit slow for large sets of numbers.\n",
    "\n",
    "NumPy Arrays:\n",
    "- Now imagine a specialized container designed specifically for numbers, like a neatly organized tray of identical cookies.\n",
    "\n",
    "- Homogeneous Data: NumPy arrays typically hold items of the same data type (usually numbers). This makes calculations much more efficient.\n",
    "\n",
    "- Optimized for Math: NumPy is built with mathematical operations in mind. It can perform calculations on entire arrays very quickly. Think of it as having a special tool that can bake all the cookies at once instead of one by one.\n",
    "\n",
    "- Fixed Size (usually): While you can resize NumPy arrays, it's less common than resizing lists, and it can be less efficient."
   ]
  },
  {
   "cell_type": "code",
   "execution_count": 27,
   "id": "5f08ec24-3cc0-4855-8d6e-92723d6c7237",
   "metadata": {},
   "outputs": [
    {
     "name": "stdout",
     "output_type": "stream",
     "text": [
      "[2, 4, 6, 8, 10]\n"
     ]
    }
   ],
   "source": [
    "#Python List\n",
    "my_list = [1, 2, 3, 4, 5] #here we are initializing a list\n",
    "my_list = [x * 2 for x in my_list] #here we are using list comprehension and also here \n",
    "# x will take each elements of my_list one by one and multiply by 2 \n",
    "print(my_list) #it will print a new updated list"
   ]
  },
  {
   "cell_type": "code",
   "execution_count": 53,
   "id": "e535daa0-9859-4bbe-9169-8f3da5922ebe",
   "metadata": {},
   "outputs": [
    {
     "name": "stdout",
     "output_type": "stream",
     "text": [
      "[2 4 6]\n"
     ]
    }
   ],
   "source": [
    "#python Numpy Arrays\n",
    "import numpy as np\n",
    "\n",
    "my_array = np.array([1, 2, 3]) #here i am initializing an numpy array called my_array\n",
    "my_array = my_array * 2 # this line multiply all elements by in one go !\n",
    "print(my_array) #this will print updated array"
   ]
  },
  {
   "cell_type": "markdown",
   "id": "462ad633-c557-4f84-8021-04caa2c9cde8",
   "metadata": {},
   "source": [
    "**7. What is a heatmap, and when should it be used ?**"
   ]
  },
  {
   "cell_type": "markdown",
   "id": "52dfaa14-2947-4943-adb2-56049b48602d",
   "metadata": {},
   "source": [
    "- Imagine you have a table full of numbers. A heatmap is like taking that table and coloring each cell based on its value. Think of it like a weather map where different temperatures are shown with different colors (red for hot, blue for cold).\n",
    "\n",
    "- In a heatmap Each cell in the table gets a color.\n",
    "\n",
    "- The color's intensity usually corresponds to the value in that cell. For example, a higher number might be a darker red, while a lower number might be a lighter yellow or even blue.\n",
    "\n",
    "- You should use a heatmap when you want to quickly and visually understand patterns, relationships, and concentrations in data that has two dimensions.\n",
    "\n",
    "- High and low values: You can easily see which parts of your data have the highest or lowest values because they'll have the most intense colors.\n",
    "\n",
    "- Clusters or groups: If certain rows and columns tend to have similar colors, it might indicate a relationship or a group.\n",
    "\n",
    "- Correlations: You can get a sense of whether certain variables tend to increase or decrease together."
   ]
  },
  {
   "cell_type": "code",
   "execution_count": 86,
   "id": "0505fd6f-3530-42d7-a995-a922cf4185f5",
   "metadata": {},
   "outputs": [],
   "source": [
    "import pandas as pd\n",
    "import matplotlib.pyplot as plt\n",
    "import seaborn as sns\n",
    "table = {\n",
    "        'Vanilla': [4, 5, 3], \n",
    "        'Chocolate': [5, 4, 5], \n",
    "        'Strawberry': [3, 4, 2],\n",
    "        'Mint Chip': [2, 1, 4]\n",
    "}\n",
    "\n",
    "df = pd.DataFrame(table, index = ['Alice', 'Bob', 'Charlie'])\n",
    "df\n",
    "sns.heatmap(df)"
   ]
  },
  {
   "cell_type": "markdown",
   "id": "d188a38c-ee8b-4b4e-8cc2-dcdcedafc3b0",
   "metadata": {},
   "source": [
    "**8. What does the term “vectorized operation” mean in NumPy ?**"
   ]
  },
  {
   "cell_type": "markdown",
   "id": "7c5aaaaa-0112-4ca6-aa84-8906e827c943",
   "metadata": {},
   "source": [
    "Vectorized Operation (NumPy Way):\n",
    "- Imagine you have a long list of numbers, and you want to add 2 to each of them.\n",
    "\n",
    "- In NumPy, a \"vectorized operation\" means that you can perform an operation on the entire NumPy array at once. It's like having a special tool that puts icing on all the cookies in one go!"
   ]
  },
  {
   "cell_type": "code",
   "execution_count": 90,
   "id": "43ad5580-afc4-4230-8894-310f9a54b892",
   "metadata": {},
   "outputs": [
    {
     "name": "stdout",
     "output_type": "stream",
     "text": [
      "[3 4 5 6 7]\n"
     ]
    }
   ],
   "source": [
    "import numpy as np\n",
    "\n",
    "my_arr = np.array([1, 2, 3, 4, 5])\n",
    "my_arr = my_arr + 2\n",
    "print(my_arr)"
   ]
  },
  {
   "cell_type": "markdown",
   "id": "00f0e381-c18c-42ae-8c8d-a3cf9cf17300",
   "metadata": {},
   "source": [
    "- A vectorized operation means that NumPy can efficiently perform calculations on all the elements of an array simultaneously.\n",
    "\n",
    "- Faster: Vectorized operations are much faster, especially for large amounts of data. NumPy uses optimized code internally, often written in lower-level languages like C or Fortran.\n",
    "\n",
    "\n",
    "- More Concise Code: Your code becomes cleaner and easier to read because you don't need to write explicit loops.\n",
    "\n",
    "- when you perform an arithmetic operation (like addition, subtraction, multiplication, division) on a NumPy array, it's by default a vectorized operation, making your code faster and more efficient."
   ]
  },
  {
   "cell_type": "markdown",
   "id": "5d6c50e9-7fc8-43d3-9716-68b22284cb0e",
   "metadata": {},
   "source": [
    "**9.  How does Matplotlib differ from Plotly ?**"
   ]
  },
  {
   "cell_type": "markdown",
   "id": "e3026fd7-dda1-495e-a0ca-a9adf5b58e9f",
   "metadata": {},
   "source": [
    "Matplotlib: Imagine a skilled artist with a vast set of traditional painting tools (brushes, canvases, colors). They can create beautiful and precise static images. However, once the painting is done, it stays as it is.\n",
    "\n",
    "Plotly: Now imagine a digital artist with a powerful interactive design software. They can create images that not only look good but also respond to touch and interaction. You can hover over parts of the image to see more details, zoom in, or even see animations."
   ]
  },
  {
   "cell_type": "markdown",
   "id": "b24da8db-9e91-4657-815e-46d838f4f329",
   "metadata": {},
   "source": [
    "**10. What is the significance of hierarchical indexing in Pandas ?**"
   ]
  },
  {
   "cell_type": "markdown",
   "id": "04fcf7b9-f00f-49bd-9080-cdfeb10e92f2",
   "metadata": {},
   "source": [
    "Imagine you're managing sales data for a company that sells products in different regions and has different sales channels (online, retail)."
   ]
  },
  {
   "cell_type": "markdown",
   "id": "983de60b-2397-4e8d-9d2f-7ab7b0a33212",
   "metadata": {},
   "source": [
    "Without Hierarchical Indexing: Your data might look like this:"
   ]
  },
  {
   "cell_type": "raw",
   "id": "2152fd35-d8b1-47ec-9d46-4901bb3f5407",
   "metadata": {},
   "source": [
    "Region\tChannel\tProduct\tMonth\tSales\n",
    "East\tOnline\tWidget A\tJanuary\t100\n",
    "East\tRetail\tWidget A\tJanuary\t150\n",
    "West\tOnline\tWidget B\tJanuary\t200"
   ]
  },
  {
   "cell_type": "markdown",
   "id": "10732aba-13a0-47d6-8b05-af1aae31da9c",
   "metadata": {},
   "source": [
    "To find the total sales of \"Widget A\" in the \"East\" region, you'd have to filter by both \"Region\" and \"Product\". This becomes complex for more intricate queries.\n",
    "\n",
    "- With Hierarchical Indexing (MultiIndex): You can structure this data in Pandas with multiple levels of row labels:\n",
    "  - Level 1: Region (East, West, North, South)\n",
    "  - Level 2: Channel (Online, Retail)\n",
    "  - Level 3: Product (Widget A, Widget B, Widget C)\n",
    "\n",
    "- Organized Real-World Structure: Hierarchical indexing lets you directly represent the natural multi-level organization of your data. Sales are inherently categorized by region, channel, and product. Pandas mirrors this structure, making your data representation more intuitive.\n",
    "\n",
    "- Easy Data Access for Specific Groups: You can quickly access data for specific combinations. For example, to get all sales data for the \"East\" region, you can directly select it using the first level of the index. To get all \"Online\" sales across all regions, you can select based on the second level."
   ]
  },
  {
   "cell_type": "markdown",
   "id": "c5848381-5071-41ad-b907-edc8b1d5ea88",
   "metadata": {},
   "source": [
    "**11. What is the role of Seaborn’s pairplot() function ?**"
   ]
  },
  {
   "cell_type": "markdown",
   "id": "7427e688-1d15-4645-afcf-2f3e61d55357",
   "metadata": {},
   "source": [
    "- imagine you have a group of friends, and you've measured a few things about each of them: their height, their weight, and how much they like pizza (on a scale of 1 to 5).\n",
    "\n",
    "- Now, you want to see if there are any interesting connections between these things. For example:\n",
    "    - Are taller friends heavier?\n",
    "    - Do heavier friends like pizza more?\n",
    "    - What's the distribution of height among your friends?\n",
    "\n",
    "- Seaborn's pairplot() is like having a special tool that automatically creates a bunch of simple charts to help you see these connections all at once.\n",
    "\n",
    "- It makes a grid of small charts. For every measurement you have (height, weight, pizza liking), it creates a row and a column in this grid.\n",
    "\n",
    "- Each of these small charts shows the relationship between two different measurements.\n",
    "For example, one chart might have height on the bottom and weight on the side.\n",
    "\n",
    "- Each dot on this chart represents one of your friends, showing their height and weight together."
   ]
  },
  {
   "cell_type": "markdown",
   "id": "d24ed909-2093-425c-a7ed-6a26353dbafa",
   "metadata": {},
   "source": [
    "**12. What is the purpose of the describe() function in Pandas ?**"
   ]
  },
  {
   "cell_type": "markdown",
   "id": "6e8db2fd-57ad-4d30-8a8a-1781491af159",
   "metadata": {},
   "source": [
    "- Imagine you've collected the scores of all the students in a class on a recent math test. You have a long list of numbers, and you want to quickly understand the overall performance of the class without looking at each individual score.\n",
    "\n",
    "- The describe() function in Pandas is like asking for a quick statistical summary of those test scores (or any other numerical data in your table). It gives you a handful of important numbers that paint a picture of the data's central tendency, spread, and shape.\n",
    "\n",
    "- Here's what kind of information describe() would give you for your math test scores:\n",
    "    - Count: It tells you how many students took the test (the total number of scores you have).\n",
    "    - Mean: This is the average score of the class. It gives you a central point around which most scores tend to cluster.\n",
    "    - Standard Deviation (std): This tells you how spread out the scores are. A small standard deviation means the scores were clustered close to the average, while a large one means the scores were more varied.\n",
    "    - Minimum (min): This is the lowest score achieved on the test.\n",
    "    - 25th Percentile (25%): This tells you the score below which 25% of the students fell. It's the first quarter of the data.\n",
    "    - 50th Percentile (50%): This is the median score – the middle value. Half the students scored below this, and half scored above. It's another measure of the central tendency, less affected by extreme scores than the mean.\n",
    "    - 75th Percentile (75%): This tells you the score below which 75% of the students fell. It's the third quarter of the data.\n",
    "    - Maximum (max): This is the highest score achieved on the test."
   ]
  },
  {
   "cell_type": "markdown",
   "id": "28002ba6-dbb1-4bcd-938b-053d371e8915",
   "metadata": {},
   "source": [
    "**13. Why is handling missing data important in Pandas ?**"
   ]
  },
  {
   "cell_type": "markdown",
   "id": "4c7a3d88-0e6d-4e37-92f9-f08d41bcb915",
   "metadata": {},
   "source": [
    "Imagine you're conducting a survey to understand people's shopping habits. You ask them several questions, including their age, income, and how much they spend on groceries each month.\n",
    "\n",
    "Now, when you collect the survey responses, you might find that some people didn't answer all the questions. For example:\n",
    "\n",
    "Some people might have skipped the question about their income because they felt it was too personal.\n",
    "Others might have accidentally left the age field blank.\n",
    "For some responses, the data entry person might have missed filling in the grocery spending.\n",
    "These blank or unanswered fields represent missing data in your survey dataset."
   ]
  },
  {
   "cell_type": "markdown",
   "id": "913c8d51-73ea-4802-95f7-5ea5e22b6774",
   "metadata": {},
   "source": [
    "why handling missing data is important in Pandas (or any data analysis):\n",
    "\n",
    "- Inaccurate Results: Ignoring missing data can skew averages and other calculations, leading to wrong conclusions about your data.\n",
    "\n",
    "- Analysis Failure: Many analytical tools and algorithms cannot process data with missing values and will either crash or produce errors.\n",
    "\n",
    "- Biased Representation: Removing data with missing values can shrink your dataset and make it less representative of the original group you're studying, potentially skewing your findings.\n",
    "\n",
    "- Hidden Insights: The pattern of missing data itself can be informative, revealing sensitivities or issues in your data collection process.\n",
    "\n",
    "- Poor Model Performance: Machine learning models trained on data with unhandled missing values can be less accurate and unable to make predictions for incomplete entries."
   ]
  },
  {
   "cell_type": "markdown",
   "id": "4160c5b0-d5fd-4bde-8bfb-d884ee28f92b",
   "metadata": {},
   "source": [
    "**14. What are the benefits of using Plotly for data visualization ?**"
   ]
  },
  {
   "cell_type": "markdown",
   "id": "709949f0-95f9-4dc0-a75a-65301a127204",
   "metadata": {},
   "source": [
    "Imagine you've created a bar chart in a presentation to show the sales of different ice cream flavors. With a static image, your audience just sees the bars.\n",
    "\n",
    "Now, imagine that same bar chart was created with Plotly and embedded in a webpage. When someone hovers their mouse over a bar, a little box pops up showing the exact sales figure. They can also zoom in on a particular part of the chart, or even download it as a PNG image. This interactivity is a key benefit of Plotly.\n",
    "\n",
    "- Interactivity: Plots are dynamic; users can hover, zoom, and pan for better exploration.\n",
    "\n",
    "- Web-Friendly: Easily embeddable in websites and web applications due to its HTML output.\n",
    "\n",
    "- Modern Aesthetics: Default plots often look more polished and visually appealing.\n",
    "\n",
    "- Variety of Charts: Supports a wide range of complex and specialized visualizations.\n",
    "\n",
    "- Easy Sharing: Interactive plots can be easily shared as HTML files or through online platforms."
   ]
  },
  {
   "cell_type": "markdown",
   "id": "bf54ddff-408e-4748-9a9c-5e9459eab23c",
   "metadata": {},
   "source": [
    "**15. A How does NumPy handle multidimensional arrays ?**"
   ]
  },
  {
   "cell_type": "markdown",
   "id": "15268017-b487-4218-8d1e-d53cfc98ab42",
   "metadata": {},
   "source": [
    "Think of NumPy's way of handling multidimensional arrays like organizing items in boxes within boxes.\n",
    "\n",
    "- 1-Dimensional Array (like a list): Imagine a single row of compartments, like a tray for eggs. Each compartment holds one item (a number, a string, etc.). This is a 1D array, also known as a vector.\n",
    "\n",
    "- 2-Dimensional Array (like a table or a grid): Now imagine stacking several of those egg trays on top of each other. You now have rows and columns. Each cell in this grid can hold an item. This is a 2D array, often called a matrix.\n",
    "\n",
    "- 3-Dimensional Array (like a stack of tables or a cube): Now picture taking that stack of egg trays (your 2D array) and creating multiple identical stacks side-by-side or behind each other. You now have length, width, and depth. Each \"cell\" in this 3D structure can hold an item. This is a 3D array, sometimes called a tensor.\n",
    "\n",
    "- NumPy stores these arrays in a single, continuous block of memory. This is super efficient for doing mathematical operations because the computer can access the data quickly without jumping around in memory."
   ]
  },
  {
   "cell_type": "markdown",
   "id": "be035f1b-3365-485d-8ce8-875fad24749d",
   "metadata": {},
   "source": [
    "**16. What is the role of Bokeh in data visualization ?**"
   ]
  },
  {
   "cell_type": "markdown",
   "id": "1d70a58a-9c3d-40b6-bbc4-d86b6960650e",
   "metadata": {},
   "source": [
    "- Bokeh is a Python library that focuses on creating interactive web-based visualizations. Think of it as a tool to make your charts and plots come alive in a web browser, allowing users to explore the data directly.\n",
    "\n",
    "- Bokeh's role is to bridge the gap between static data visualization and dynamic, interactive exploration within a web environment, making data more accessible and understandable to a wider audience.\n",
    "\n",
    "- Customization and Flexibility: While providing sensible defaults, Bokeh offers a high degree of customization. You can control every aspect of your plots, from the appearance of glyphs (circles, lines, bars) to the layout and styling of axes and legends."
   ]
  },
  {
   "cell_type": "markdown",
   "id": "afb2d9d2-69f2-421a-bb85-c19add26cfbc",
   "metadata": {},
   "source": [
    "**17. Explain the difference between apply() and map() in Pandas ?**"
   ]
  },
  {
   "cell_type": "markdown",
   "id": "18ff27c5-811f-47f1-beb7-4a932b58c617",
   "metadata": {},
   "source": [
    "apply()\n",
    "\n",
    "- apply(): Flexible Operations Across Rows or Columns (Like a Versatile Brush for Rows/Columns).\n",
    "\n",
    "- Now imagine you have a whole table of data (a DataFrame). The apply() function is like taking a more versatile brush that you can use to operate on entire rows or entire columns at once.\n",
    "\n",
    "- Column-wise: Finding the average age of all customers in a DataFrame where age is a column. The function would take the entire 'age' column and return a single value (the mean)."
   ]
  },
  {
   "cell_type": "markdown",
   "id": "48c4a450-2858-439d-9ea6-a7c6f6c7b920",
   "metadata": {},
   "source": [
    "map()\n",
    "\n",
    "- map(): Element-wise Transformation (Like a Paint Roller for a Single Column)\n",
    "    - Imagine you have a single column of data, like a list of colors. The map() function is like taking a paint roller dipped in a specific color and applying it to each individual item in that list. It works element by element on a Series (a single column).\n",
    "    - onverting a column of temperature values from Celsius to Fahrenheit. You'd apply the conversion formula to each temperature individually.\n",
    "\n",
    "- Row-wise: Calculating the total score for each student in a DataFrame where you have individual scores for different subjects in columns. The function would take a row (student's scores) and return a single value (total score)."
   ]
  },
  {
   "cell_type": "code",
   "execution_count": 245,
   "id": "d348fc7a-980a-4860-9243-ea2b34d1dfa6",
   "metadata": {},
   "outputs": [
    {
     "name": "stdout",
     "output_type": "stream",
     "text": [
      "0    R\n",
      "1    B\n",
      "2    G\n",
      "3    R\n",
      "dtype: object\n"
     ]
    }
   ],
   "source": [
    "#map()\n",
    "import pandas as pd\n",
    "colors = pd.Series(['red', 'blue', 'green', 'red'])\n",
    "# print(colors)\n",
    "\n",
    "color_map = {'red': 'R', 'blue': 'B', 'green': 'G'}\n",
    "# print(color_map)\n",
    "\n",
    "color_abbreviations = colors.map(color_map)\n",
    "print(color_abbreviations)"
   ]
  },
  {
   "cell_type": "code",
   "execution_count": 253,
   "id": "d77cdc33-8cee-4b4d-8d0e-02f92e6441e5",
   "metadata": {},
   "outputs": [
    {
     "name": "stdout",
     "output_type": "stream",
     "text": [
      "         math  science  english\n",
      "Alice      80       85       78\n",
      "Bob        90       88       82\n",
      "Charlie    75       92       86\n",
      "--------------------------------------------------\n",
      "Alice      243\n",
      "Bob        260\n",
      "Charlie    253\n",
      "dtype: int64\n"
     ]
    }
   ],
   "source": [
    "#apply()\n",
    "student_data = pd.DataFrame({\n",
    "    'math': [80, 90, 75],\n",
    "    'science': [85, 88, 92],\n",
    "    'english': [78, 82, 86]\n",
    "}, index=['Alice', 'Bob', 'Charlie'])\n",
    "print(student_data)\n",
    "print('-'*50)\n",
    "def calculate_total_score(row):\n",
    "    return row['math'] + row['science'] + row['english']\n",
    "\n",
    "total_scores = student_data.apply(calculate_total_score, axis=1)\n",
    "print(total_scores)"
   ]
  },
  {
   "cell_type": "markdown",
   "id": "513a23d0-0b16-4cdf-9ac8-8175b6476088",
   "metadata": {},
   "source": [
    "**18. What are some advanced features of NumPy ?**"
   ]
  },
  {
   "cell_type": "markdown",
   "id": "6289c03e-39bd-40cd-a494-9ff2145dbe61",
   "metadata": {},
   "source": [
    "NumPy, while seemingly simple on the surface with its arrays, packs a punch with several advanced features that unlock powerful numerical computations. Here are some of them, explained in a straightforward way:\n",
    "\n",
    "- NumPy broadcasting: Apply operations between arrays of different shapes without explicit looping. NumPy \"stretches\" the smaller array to match the larger one during the operation, resulting in cleaner and faster code.\n",
    "\n",
    "- Fancy Indexing: This is like super-powered indexing. Instead of using single indices or slices, you can use integer arrays or boolean arrays to select specific sets of elements from an array in a very flexible way.\n",
    "\n",
    "- NumPy structured arrays (record arrays): Arrays where each element is like a row with named fields of different data types, useful for organizing heterogeneous data.\n",
    "\n",
    "- NumPy memory views (np.ndarray.view()): Create different interpretations (shape, dtype) of the same memory without copying. Memory-efficient but changes affect all views.\n",
    "\n",
    "- Universal Functions (UFuncs) with Advanced Features: NumPy's UFuncs (like np.sin, np.exp, np.add) are highly optimized functions that operate element-wise on arrays. They have advanced features like:\n",
    "    - out argument\n",
    "    - where argument\n",
    "    - reduce, accumulate, at methods\n",
    "    - Linear Algebra (np.linalg)\n",
    "\n",
    "- Linear Algebra (np.linalg) - NumPy's linalg submodule: Efficiently performs advanced linear algebra (matrix operations, solving systems, eigenvalues, decompositions) crucial for scientific and engineering tasks."
   ]
  },
  {
   "cell_type": "markdown",
   "id": "33ed10aa-a5d2-4cf0-a2f0-021918937296",
   "metadata": {},
   "source": [
    "**19.  How does Pandas simplify time series analysis ?**"
   ]
  },
  {
   "cell_type": "markdown",
   "id": "a957291a-12d8-4fbf-9053-85a6412b2b3a",
   "metadata": {},
   "source": [
    "- Smart Date Labels (DatetimeIndex): Pandas uses a special index that understands dates and times. This allows you to easily select data by specific dates, ranges, or time periods (e.g., all data from January, or all data in 2023).\n",
    "\n",
    "- Time-Aware Data Structures: When your data has a DatetimeIndex, Pandas Series and DataFrames become inherently time-aware. This enables them to handle chronological order and facilitates time-related operations directly.\n",
    "\n",
    "- Simplified Date Handling: Pandas provides robust tools to convert various date and time formats into its DatetimeIndex. It also offers straightforward ways to shift dates, calculate durations, and change the frequency of your data (resampling)."
   ]
  },
  {
   "cell_type": "markdown",
   "id": "bd30d16b-9b8a-4eb4-8c4d-0c6670a213de",
   "metadata": {},
   "source": [
    "**20. What is the role of a pivot table in Pandas ?**"
   ]
  },
  {
   "cell_type": "markdown",
   "id": "7745f84e-c77d-4e8e-bff8-1998c6f10466",
   "metadata": {},
   "source": [
    "- Imagine you have a long spreadsheet of sales data with columns like \"Region\", \"Product\", \"Month\", and \"Sales Amount\". You want to quickly summarize this data to see, for example, the total sales for each product in each region. Doing this manually with filters and sums would be tedious.\n",
    "\n",
    "- A pivot table in Pandas acts like a powerful summarization tool that allows you to rearrange and aggregate your data based on different columns. It lets you transform your \"long\" format data into a more concise and insightful \"wide\" format.\n",
    "\n",
    "- a pivot table in Pandas takes your raw, detailed data and transforms it into a clear, concise summary table that highlights key relationships and allows for easy analysis across different categories by rearranging and aggregating the information. It's like having a dynamic report generator built right into your data analysis workflow."
   ]
  },
  {
   "cell_type": "markdown",
   "id": "1c74f0c8-aeaf-41ab-a2d4-ffb4e32a8f17",
   "metadata": {},
   "source": [
    "**21. Why is NumPy’s array slicing faster than Python’s list slicing ?**"
   ]
  },
  {
   "cell_type": "markdown",
   "id": "8ac56b2a-b3c2-4044-8315-ad873ae6610f",
   "metadata": {},
   "source": [
    "- Python List Slicing: When you slice a Python list, it's like taking a cookie cutter and making a brand new cookie (a new list) with only the parts you sliced. Python has to create a completely separate copy of the elements you selected. This takes time, especially for very large lists.\n",
    "\n",
    "- NumPy Array Slicing: When you slice a NumPy array, it's more like putting a window over a part of a big cake. You're just getting a different view of the same cake (the same data in memory). NumPy doesn't create a brand new copy of the data by default. It just creates a new \"view\" that knows where to look in the original array.\n",
    "\n",
    "- Why is the \"view\" faster?\n",
    "\n",
    "- No Copying (Usually): NumPy often avoids the time-consuming step of copying the actual data. It just creates a new way to access the existing data.\n",
    "\n",
    "- Optimized for Numbers: NumPy arrays are specifically designed for numerical data and are stored in a more efficient way in memory (contiguous block). This makes it easier and faster for NumPy to calculate where the slice starts and ends in that memory block.\n",
    "\n",
    "- Python list slicing makes a whole new copy, while NumPy array slicing usually just gives you a special \"window\" to look at the original data without copying it. Creating a window is much faster than baking a whole new cookie!"
   ]
  },
  {
   "cell_type": "markdown",
   "id": "ddab9d7c-0247-48ca-8458-9b80b50c3768",
   "metadata": {},
   "source": [
    "**22.  What are some common use cases for Seaborn ?**"
   ]
  },
  {
   "cell_type": "markdown",
   "id": "0b3d4f2c-ba91-4847-9d86-71cc495388a2",
   "metadata": {},
   "source": [
    "- Visualizing Relationships Between Variables: Seaborn helps you understand how different measurements in your data interact, like whether higher income relates to more spending, using scatter plots, line charts for trends, and bar plots for comparisons.\n",
    "\n",
    "- Comparing Data Distributions: Seaborn provides tools to see the spread and characteristics of your data, such as showing the range of ages in a population or comparing the distribution of customer satisfaction scores for different products using histograms, box plots, etc.\n",
    "\n",
    "- Analyzing Categorical Data: Seaborn makes it easy to explore how groups or categories in your data relate to numerical values or other categories, for example, showing the average income level for different education levels or the number of customers preferring different product features.\n",
    "\n",
    "- Creating Statistically Meaningful and Attractive Visuals: Seaborn builds upon Matplotlib to offer a simpler way to generate informative and visually appealing statistical graphics with sensible defaults, making your data stories clearer and more impactful for reports and presentations."
   ]
  },
  {
   "cell_type": "markdown",
   "id": "fae28bd0-1567-4e20-99aa-9aab0c65d465",
   "metadata": {},
   "source": [
    "# Practical"
   ]
  },
  {
   "cell_type": "markdown",
   "id": "6a7748b3-a3c3-449b-b419-c450442e7747",
   "metadata": {},
   "source": [
    "**1. How do you create a 2D NumPy array and calculate the sum of each row ?**"
   ]
  },
  {
   "cell_type": "code",
   "execution_count": 304,
   "id": "73e069ce-a987-4b57-a429-380c67650b47",
   "metadata": {},
   "outputs": [
    {
     "name": "stdout",
     "output_type": "stream",
     "text": [
      "[[1 2]\n",
      " [3 4]\n",
      " [5 6]]\n",
      "[ 3  7 11]\n"
     ]
    }
   ],
   "source": [
    "import numpy as np \n",
    "\n",
    "numpy_2d_array = np.array([[1, 2], [3, 4], [5, 6]]) \n",
    "print(numpy_2d_array)\n",
    "\n",
    "rows_sum = np.sum(numpy_2d_array, axis = 1)\n",
    "print(rows_sum)"
   ]
  },
  {
   "cell_type": "markdown",
   "id": "020171bb-9485-4f2a-9851-9e9ded6a9615",
   "metadata": {},
   "source": [
    "**2. Write a Pandas script to find the mean of a specific column in a DataFrame ?**"
   ]
  },
  {
   "cell_type": "code",
   "execution_count": 326,
   "id": "21154cc3-1e51-4b48-b96f-ab5d28b8f8d2",
   "metadata": {},
   "outputs": [
    {
     "data": {
      "text/plain": [
       "30.0"
      ]
     },
     "execution_count": 326,
     "metadata": {},
     "output_type": "execute_result"
    }
   ],
   "source": [
    "data = ({\n",
    "    'name': ['aman', 'sajan', 'ravi'],\n",
    "    'Age': [20, 30, 40]\n",
    "})\n",
    "\n",
    "df = pd.DataFrame(data)\n",
    "df\n",
    "\n",
    "df['Age'].mean()"
   ]
  },
  {
   "cell_type": "markdown",
   "id": "80f2fc8b-a56e-4d6f-8be2-adcdc5f01ea0",
   "metadata": {},
   "source": [
    "**3. Create a scatter plot using Matplotlib.**"
   ]
  },
  {
   "cell_type": "code",
   "execution_count": 353,
   "id": "593226f3-126a-4a07-b807-cb68ba27072a",
   "metadata": {},
   "outputs": [
    {
     "data": {
      "image/png": "[encoded data removed]",
      "text/plain": [
       "<Figure size 640x480 with 1 Axes>"
      ]
     },
     "metadata": {},
     "output_type": "display_data"
    }
   ],
   "source": [
    "import matplotlib.pyplot as plt\n",
    "\n",
    "x = [1, 2, 3, 4, 5]\n",
    "y = [2, 4, 1, 5, 3]\n",
    "\n",
    "plt.scatter(x, y)\n",
    "plt.show()"
   ]
  },
  {
   "cell_type": "markdown",
   "id": "c0e9f9e9-f27e-4e78-ac87-cdf44e437e49",
   "metadata": {},
   "source": [
    "**4.  How do you calculate the correlation matrix using Seaborn and visualize it with a heatmap ?**"
   ]
  },
  {
   "cell_type": "code",
   "execution_count": 429,
   "id": "0683ba5c-558f-4b79-a1a7-ec59e7aed747",
   "metadata": {},
   "outputs": [
    {
     "name": "stdout",
     "output_type": "stream",
     "text": [
      "   height  weight  age\n",
      "0     160      60   25\n",
      "1     170      75   30\n",
      "2     165      65   28\n",
      "3     180      85   35\n",
      "4     155      55   22\n",
      "          height    weight       age\n",
      "height  1.000000  0.992986  0.997791\n",
      "weight  0.992986  1.000000  0.985691\n",
      "age     0.997791  0.985691  1.000000\n"
     ]
    },
    {
     "data": {
      "image/png": "[encoded data removed]",
      "text/plain": [
       "<Figure size 640x480 with 2 Axes>"
      ]
     },
     "metadata": {},
     "output_type": "display_data"
    }
   ],
   "source": [
    "import pandas as pd\n",
    "import seaborn as sns\n",
    "import matplotlib.pyplot as plt\n",
    "\n",
    "data = {'height': [160, 170, 165, 180, 155],\n",
    "        'weight': [60, 75, 65, 85, 55],\n",
    "        'age': [25, 30, 28, 35, 22]}\n",
    "\n",
    "\n",
    "df = pd.DataFrame(data)\n",
    "print(df)\n",
    "\n",
    "correlation_matrix = df.corr() #it calculate the correlation matrix\n",
    "print(correlation_matrix)\n",
    "\n",
    "sns.heatmap(correlation_matrix, annot=True, cmap='coolwarm') \n",
    "#it visualize the correlation matrix as a heatmap\n",
    "plt.show()"
   ]
  },
  {
   "cell_type": "markdown",
   "id": "444a6dae-a032-4548-81b8-4c3b30a5fbf6",
   "metadata": {},
   "source": [
    "**5. Generate a bar plot using Plotly.**"
   ]
  },
  {
   "cell_type": "code",
   "execution_count": 452,
   "id": "bb6a100d-4b94-4b9a-bb10-1a5c88b189ff",
   "metadata": {},
   "outputs": [
    {
     "data": {
      "application/vnd.plotly.v1+json": {
       "config": {
        "plotlyServerURL": "https://plot.ly"
       },
       "data": [
        {
         "alignmentgroup": "True",
         "hovertemplate": "name=%{x}<br>age=%{y}<extra></extra>",
         "legendgroup": "",
         "marker": {
          "color": "#636efa",
          "pattern": {
           "shape": ""
          }
         },
         "name": "",
         "offsetgroup": "",
         "orientation": "v",
         "showlegend": false,
         "textposition": "auto",
         "type": "bar",
         "x": [
          "aman",
          "ravi",
          "shyam"
         ],
         "xaxis": "x",
         "y": [
          60,
          24,
          30
         ],
         "yaxis": "y"
        }
       ],
       "layout": {
        "autosize": true,
        "barmode": "relative",
        "legend": {
         "tracegroupgap": 0
        },
        "margin": {
         "t": 60
        },
        "template": {
         "data": {
          "bar": [
           {
            "error_x": {
             "color": "#2a3f5f"
            },
            "error_y": {
             "color": "#2a3f5f"
            },
            "marker": {
             "line": {
              "color": "#E5ECF6",
              "width": 0.5
             },
             "pattern": {
              "fillmode": "overlay",
              "size": 10,
              "solidity": 0.2
             }
            },
            "type": "bar"
           }
          ],
          "barpolar": [
           {
            "marker": {
             "line": {
              "color": "#E5ECF6",
              "width": 0.5
             },
             "pattern": {
              "fillmode": "overlay",
              "size": 10,
              "solidity": 0.2
             }
            },
            "type": "barpolar"
           }
          ],
          "carpet": [
           {
            "aaxis": {
             "endlinecolor": "#2a3f5f",
             "gridcolor": "white",
             "linecolor": "white",
             "minorgridcolor": "white",
             "startlinecolor": "#2a3f5f"
            },
            "baxis": {
             "endlinecolor": "#2a3f5f",
             "gridcolor": "white",
             "linecolor": "white",
             "minorgridcolor": "white",
             "startlinecolor": "#2a3f5f"
            },
            "type": "carpet"
           }
          ],
          "choropleth": [
           {
            "colorbar": {
             "outlinewidth": 0,
             "ticks": ""
            },
            "type": "choropleth"
           }
          ],
          "contour": [
           {
            "colorbar": {
             "outlinewidth": 0,
             "ticks": ""
            },
            "colorscale": [
             [
              0,
              "#0d0887"
             ],
             [
              0.1111111111111111,
              "#46039f"
             ],
             [
              0.2222222222222222,
              "#7201a8"
             ],
             [
              0.3333333333333333,
              "#9c179e"
             ],
             [
              0.4444444444444444,
              "#bd3786"
             ],
             [
              0.5555555555555556,
              "#d8576b"
             ],
             [
              0.6666666666666666,
              "#ed7953"
             ],
             [
              0.7777777777777778,
              "#fb9f3a"
             ],
             [
              0.8888888888888888,
              "#fdca26"
             ],
             [
              1,
              "#f0f921"
             ]
            ],
            "type": "contour"
           }
          ],
          "contourcarpet": [
           {
            "colorbar": {
             "outlinewidth": 0,
             "ticks": ""
            },
            "type": "contourcarpet"
           }
          ],
          "heatmap": [
           {
            "colorbar": {
             "outlinewidth": 0,
             "ticks": ""
            },
            "colorscale": [
             [
              0,
              "#0d0887"
             ],
             [
              0.1111111111111111,
              "#46039f"
             ],
             [
              0.2222222222222222,
              "#7201a8"
             ],
             [
              0.3333333333333333,
              "#9c179e"
             ],
             [
              0.4444444444444444,
              "#bd3786"
             ],
             [
              0.5555555555555556,
              "#d8576b"
             ],
             [
              0.6666666666666666,
              "#ed7953"
             ],
             [
              0.7777777777777778,
              "#fb9f3a"
             ],
             [
              0.8888888888888888,
              "#fdca26"
             ],
             [
              1,
              "#f0f921"
             ]
            ],
            "type": "heatmap"
           }
          ],
          "heatmapgl": [
           {
            "colorbar": {
             "outlinewidth": 0,
             "ticks": ""
            },
            "colorscale": [
             [
              0,
              "#0d0887"
             ],
             [
              0.1111111111111111,
              "#46039f"
             ],
             [
              0.2222222222222222,
              "#7201a8"
             ],
             [
              0.3333333333333333,
              "#9c179e"
             ],
             [
              0.4444444444444444,
              "#bd3786"
             ],
             [
              0.5555555555555556,
              "#d8576b"
             ],
             [
              0.6666666666666666,
              "#ed7953"
             ],
             [
              0.7777777777777778,
              "#fb9f3a"
             ],
             [
              0.8888888888888888,
              "#fdca26"
             ],
             [
              1,
              "#f0f921"
             ]
            ],
            "type": "heatmapgl"
           }
          ],
          "histogram": [
           {
            "marker": {
             "pattern": {
              "fillmode": "overlay",
              "size": 10,
              "solidity": 0.2
             }
            },
            "type": "histogram"
           }
          ],
          "histogram2d": [
           {
            "colorbar": {
             "outlinewidth": 0,
             "ticks": ""
            },
            "colorscale": [
             [
              0,
              "#0d0887"
             ],
             [
              0.1111111111111111,
              "#46039f"
             ],
             [
              0.2222222222222222,
              "#7201a8"
             ],
             [
              0.3333333333333333,
              "#9c179e"
             ],
             [
              0.4444444444444444,
              "#bd3786"
             ],
             [
              0.5555555555555556,
              "#d8576b"
             ],
             [
              0.6666666666666666,
              "#ed7953"
             ],
             [
              0.7777777777777778,
              "#fb9f3a"
             ],
             [
              0.8888888888888888,
              "#fdca26"
             ],
             [
              1,
              "#f0f921"
             ]
            ],
            "type": "histogram2d"
           }
          ],
          "histogram2dcontour": [
           {
            "colorbar": {
             "outlinewidth": 0,
             "ticks": ""
            },
            "colorscale": [
             [
              0,
              "#0d0887"
             ],
             [
              0.1111111111111111,
              "#46039f"
             ],
             [
              0.2222222222222222,
              "#7201a8"
             ],
             [
              0.3333333333333333,
              "#9c179e"
             ],
             [
              0.4444444444444444,
              "#bd3786"
             ],
             [
              0.5555555555555556,
              "#d8576b"
             ],
             [
              0.6666666666666666,
              "#ed7953"
             ],
             [
              0.7777777777777778,
              "#fb9f3a"
             ],
             [
              0.8888888888888888,
              "#fdca26"
             ],
             [
              1,
              "#f0f921"
             ]
            ],
            "type": "histogram2dcontour"
           }
          ],
          "mesh3d": [
           {
            "colorbar": {
             "outlinewidth": 0,
             "ticks": ""
            },
            "type": "mesh3d"
           }
          ],
          "parcoords": [
           {
            "line": {
             "colorbar": {
              "outlinewidth": 0,
              "ticks": ""
             }
            },
            "type": "parcoords"
           }
          ],
          "pie": [
           {
            "automargin": true,
            "type": "pie"
           }
          ],
          "scatter": [
           {
            "fillpattern": {
             "fillmode": "overlay",
             "size": 10,
             "solidity": 0.2
            },
            "type": "scatter"
           }
          ],
          "scatter3d": [
           {
            "line": {
             "colorbar": {
              "outlinewidth": 0,
              "ticks": ""
             }
            },
            "marker": {
             "colorbar": {
              "outlinewidth": 0,
              "ticks": ""
             }
            },
            "type": "scatter3d"
           }
          ],
          "scattercarpet": [
           {
            "marker": {
             "colorbar": {
              "outlinewidth": 0,
              "ticks": ""
             }
            },
            "type": "scattercarpet"
           }
          ],
          "scattergeo": [
           {
            "marker": {
             "colorbar": {
              "outlinewidth": 0,
              "ticks": ""
             }
            },
            "type": "scattergeo"
           }
          ],
          "scattergl": [
           {
            "marker": {
             "colorbar": {
              "outlinewidth": 0,
              "ticks": ""
             }
            },
            "type": "scattergl"
           }
          ],
          "scattermapbox": [
           {
            "marker": {
             "colorbar": {
              "outlinewidth": 0,
              "ticks": ""
             }
            },
            "type": "scattermapbox"
           }
          ],
          "scatterpolar": [
           {
            "marker": {
             "colorbar": {
              "outlinewidth": 0,
              "ticks": ""
             }
            },
            "type": "scatterpolar"
           }
          ],
          "scatterpolargl": [
           {
            "marker": {
             "colorbar": {
              "outlinewidth": 0,
              "ticks": ""
             }
            },
            "type": "scatterpolargl"
           }
          ],
          "scatterternary": [
           {
            "marker": {
             "colorbar": {
              "outlinewidth": 0,
              "ticks": ""
             }
            },
            "type": "scatterternary"
           }
          ],
          "surface": [
           {
            "colorbar": {
             "outlinewidth": 0,
             "ticks": ""
            },
            "colorscale": [
             [
              0,
              "#0d0887"
             ],
             [
              0.1111111111111111,
              "#46039f"
             ],
             [
              0.2222222222222222,
              "#7201a8"
             ],
             [
              0.3333333333333333,
              "#9c179e"
             ],
             [
              0.4444444444444444,
              "#bd3786"
             ],
             [
              0.5555555555555556,
              "#d8576b"
             ],
             [
              0.6666666666666666,
              "#ed7953"
             ],
             [
              0.7777777777777778,
              "#fb9f3a"
             ],
             [
              0.8888888888888888,
              "#fdca26"
             ],
             [
              1,
              "#f0f921"
             ]
            ],
            "type": "surface"
           }
          ],
          "table": [
           {
            "cells": {
             "fill": {
              "color": "#EBF0F8"
             },
             "line": {
              "color": "white"
             }
            },
            "header": {
             "fill": {
              "color": "#C8D4E3"
             },
             "line": {
              "color": "white"
             }
            },
            "type": "table"
           }
          ]
         },
         "layout": {
          "annotationdefaults": {
           "arrowcolor": "#2a3f5f",
           "arrowhead": 0,
           "arrowwidth": 1
          },
          "autotypenumbers": "strict",
          "coloraxis": {
           "colorbar": {
            "outlinewidth": 0,
            "ticks": ""
           }
          },
          "colorscale": {
           "diverging": [
            [
             0,
             "#8e0152"
            ],
            [
             0.1,
             "#c51b7d"
            ],
            [
             0.2,
             "#de77ae"
            ],
            [
             0.3,
             "#f1b6da"
            ],
            [
             0.4,
             "#fde0ef"
            ],
            [
             0.5,
             "#f7f7f7"
            ],
            [
             0.6,
             "#e6f5d0"
            ],
            [
             0.7,
             "#b8e186"
            ],
            [
             0.8,
             "#7fbc41"
            ],
            [
             0.9,
             "#4d9221"
            ],
            [
             1,
             "#276419"
            ]
           ],
           "sequential": [
            [
             0,
             "#0d0887"
            ],
            [
             0.1111111111111111,
             "#46039f"
            ],
            [
             0.2222222222222222,
             "#7201a8"
            ],
            [
             0.3333333333333333,
             "#9c179e"
            ],
            [
             0.4444444444444444,
             "#bd3786"
            ],
            [
             0.5555555555555556,
             "#d8576b"
            ],
            [
             0.6666666666666666,
             "#ed7953"
            ],
            [
             0.7777777777777778,
             "#fb9f3a"
            ],
            [
             0.8888888888888888,
             "#fdca26"
            ],
            [
             1,
             "#f0f921"
            ]
           ],
           "sequentialminus": [
            [
             0,
             "#0d0887"
            ],
            [
             0.1111111111111111,
             "#46039f"
            ],
            [
             0.2222222222222222,
             "#7201a8"
            ],
            [
             0.3333333333333333,
             "#9c179e"
            ],
            [
             0.4444444444444444,
             "#bd3786"
            ],
            [
             0.5555555555555556,
             "#d8576b"
            ],
            [
             0.6666666666666666,
             "#ed7953"
            ],
            [
             0.7777777777777778,
             "#fb9f3a"
            ],
            [
             0.8888888888888888,
             "#fdca26"
            ],
            [
             1,
             "#f0f921"
            ]
           ]
          },
          "colorway": [
           "#636efa",
           "#EF553B",
           "#00cc96",
           "#ab63fa",
           "#FFA15A",
           "#19d3f3",
           "#FF6692",
           "#B6E880",
           "#FF97FF",
           "#FECB52"
          ],
          "font": {
           "color": "#2a3f5f"
          },
          "geo": {
           "bgcolor": "white",
           "lakecolor": "white",
           "landcolor": "#E5ECF6",
           "showlakes": true,
           "showland": true,
           "subunitcolor": "white"
          },
          "hoverlabel": {
           "align": "left"
          },
          "hovermode": "closest",
          "mapbox": {
           "style": "light"
          },
          "paper_bgcolor": "white",
          "plot_bgcolor": "#E5ECF6",
          "polar": {
           "angularaxis": {
            "gridcolor": "white",
            "linecolor": "white",
            "ticks": ""
           },
           "bgcolor": "#E5ECF6",
           "radialaxis": {
            "gridcolor": "white",
            "linecolor": "white",
            "ticks": ""
           }
          },
          "scene": {
           "xaxis": {
            "backgroundcolor": "#E5ECF6",
            "gridcolor": "white",
            "gridwidth": 2,
            "linecolor": "white",
            "showbackground": true,
            "ticks": "",
            "zerolinecolor": "white"
           },
           "yaxis": {
            "backgroundcolor": "#E5ECF6",
            "gridcolor": "white",
            "gridwidth": 2,
            "linecolor": "white",
            "showbackground": true,
            "ticks": "",
            "zerolinecolor": "white"
           },
           "zaxis": {
            "backgroundcolor": "#E5ECF6",
            "gridcolor": "white",
            "gridwidth": 2,
            "linecolor": "white",
            "showbackground": true,
            "ticks": "",
            "zerolinecolor": "white"
           }
          },
          "shapedefaults": {
           "line": {
            "color": "#2a3f5f"
           }
          },
          "ternary": {
           "aaxis": {
            "gridcolor": "white",
            "linecolor": "white",
            "ticks": ""
           },
           "baxis": {
            "gridcolor": "white",
            "linecolor": "white",
            "ticks": ""
           },
           "bgcolor": "#E5ECF6",
           "caxis": {
            "gridcolor": "white",
            "linecolor": "white",
            "ticks": ""
           }
          },
          "title": {
           "x": 0.05
          },
          "xaxis": {
           "automargin": true,
           "gridcolor": "white",
           "linecolor": "white",
           "ticks": "",
           "title": {
            "standoff": 15
           },
           "zerolinecolor": "white",
           "zerolinewidth": 2
          },
          "yaxis": {
           "automargin": true,
           "gridcolor": "white",
           "linecolor": "white",
           "ticks": "",
           "title": {
            "standoff": 15
           },
           "zerolinecolor": "white",
           "zerolinewidth": 2
          }
         }
        },
        "xaxis": {
         "anchor": "y",
         "autorange": true,
         "domain": [
          0,
          1
         ],
         "range": [
          -0.5,
          2.5
         ],
         "title": {
          "text": "name"
         },
         "type": "category"
        },
        "yaxis": {
         "anchor": "x",
         "autorange": true,
         "domain": [
          0,
          1
         ],
         "range": [
          0,
          63.1578947368421
         ],
         "title": {
          "text": "age"
         },
         "type": "linear"
        }
       }
      },
      "image/png": "[encoded data removed]",
      "text/html": [
       "<div>                            <div id=\"41e4c416-2131-432e-901f-a558d94c38fb\" class=\"plotly-graph-div\" style=\"height:525px; width:100%;\"></div>            <script type=\"text/javascript\">                require([\"plotly\"], function(Plotly) {                    window.PLOTLYENV=window.PLOTLYENV || {};                                    if (document.getElementById(\"41e4c416-2131-432e-901f-a558d94c38fb\")) {                    Plotly.newPlot(                        \"41e4c416-2131-432e-901f-a558d94c38fb\",                        [{\"alignmentgroup\":\"True\",\"hovertemplate\":\"name=%{x}\\u003cbr\\u003eage=%{y}\\u003cextra\\u003e\\u003c\\u002fextra\\u003e\",\"legendgroup\":\"\",\"marker\":{\"color\":\"#636efa\",\"pattern\":{\"shape\":\"\"}},\"name\":\"\",\"offsetgroup\":\"\",\"orientation\":\"v\",\"showlegend\":false,\"textposition\":\"auto\",\"x\":[\"aman\",\"ravi\",\"shyam\"],\"xaxis\":\"x\",\"y\":[60,24,30],\"yaxis\":\"y\",\"type\":\"bar\"}],                        {\"template\":{\"data\":{\"histogram2dcontour\":[{\"type\":\"histogram2dcontour\",\"colorbar\":{\"outlinewidth\":0,\"ticks\":\"\"},\"colorscale\":[[0.0,\"#0d0887\"],[0.1111111111111111,\"#46039f\"],[0.2222222222222222,\"#7201a8\"],[0.3333333333333333,\"#9c179e\"],[0.4444444444444444,\"#bd3786\"],[0.5555555555555556,\"#d8576b\"],[0.6666666666666666,\"#ed7953\"],[0.7777777777777778,\"#fb9f3a\"],[0.8888888888888888,\"#fdca26\"],[1.0,\"#f0f921\"]]}],\"choropleth\":[{\"type\":\"choropleth\",\"colorbar\":{\"outlinewidth\":0,\"ticks\":\"\"}}],\"histogram2d\":[{\"type\":\"histogram2d\",\"colorbar\":{\"outlinewidth\":0,\"ticks\":\"\"},\"colorscale\":[[0.0,\"#0d0887\"],[0.1111111111111111,\"#46039f\"],[0.2222222222222222,\"#7201a8\"],[0.3333333333333333,\"#9c179e\"],[0.4444444444444444,\"#bd3786\"],[0.5555555555555556,\"#d8576b\"],[0.6666666666666666,\"#ed7953\"],[0.7777777777777778,\"#fb9f3a\"],[0.8888888888888888,\"#fdca26\"],[1.0,\"#f0f921\"]]}],\"heatmap\":[{\"type\":\"heatmap\",\"colorbar\":{\"outlinewidth\":0,\"ticks\":\"\"},\"colorscale\":[[0.0,\"#0d0887\"],[0.1111111111111111,\"#46039f\"],[0.2222222222222222,\"#7201a8\"],[0.3333333333333333,\"#9c179e\"],[0.4444444444444444,\"#bd3786\"],[0.5555555555555556,\"#d8576b\"],[0.6666666666666666,\"#ed7953\"],[0.7777777777777778,\"#fb9f3a\"],[0.8888888888888888,\"#fdca26\"],[1.0,\"#f0f921\"]]}],\"heatmapgl\":[{\"type\":\"heatmapgl\",\"colorbar\":{\"outlinewidth\":0,\"ticks\":\"\"},\"colorscale\":[[0.0,\"#0d0887\"],[0.1111111111111111,\"#46039f\"],[0.2222222222222222,\"#7201a8\"],[0.3333333333333333,\"#9c179e\"],[0.4444444444444444,\"#bd3786\"],[0.5555555555555556,\"#d8576b\"],[0.6666666666666666,\"#ed7953\"],[0.7777777777777778,\"#fb9f3a\"],[0.8888888888888888,\"#fdca26\"],[1.0,\"#f0f921\"]]}],\"contourcarpet\":[{\"type\":\"contourcarpet\",\"colorbar\":{\"outlinewidth\":0,\"ticks\":\"\"}}],\"contour\":[{\"type\":\"contour\",\"colorbar\":{\"outlinewidth\":0,\"ticks\":\"\"},\"colorscale\":[[0.0,\"#0d0887\"],[0.1111111111111111,\"#46039f\"],[0.2222222222222222,\"#7201a8\"],[0.3333333333333333,\"#9c179e\"],[0.4444444444444444,\"#bd3786\"],[0.5555555555555556,\"#d8576b\"],[0.6666666666666666,\"#ed7953\"],[0.7777777777777778,\"#fb9f3a\"],[0.8888888888888888,\"#fdca26\"],[1.0,\"#f0f921\"]]}],\"surface\":[{\"type\":\"surface\",\"colorbar\":{\"outlinewidth\":0,\"ticks\":\"\"},\"colorscale\":[[0.0,\"#0d0887\"],[0.1111111111111111,\"#46039f\"],[0.2222222222222222,\"#7201a8\"],[0.3333333333333333,\"#9c179e\"],[0.4444444444444444,\"#bd3786\"],[0.5555555555555556,\"#d8576b\"],[0.6666666666666666,\"#ed7953\"],[0.7777777777777778,\"#fb9f3a\"],[0.8888888888888888,\"#fdca26\"],[1.0,\"#f0f921\"]]}],\"mesh3d\":[{\"type\":\"mesh3d\",\"colorbar\":{\"outlinewidth\":0,\"ticks\":\"\"}}],\"scatter\":[{\"fillpattern\":{\"fillmode\":\"overlay\",\"size\":10,\"solidity\":0.2},\"type\":\"scatter\"}],\"parcoords\":[{\"type\":\"parcoords\",\"line\":{\"colorbar\":{\"outlinewidth\":0,\"ticks\":\"\"}}}],\"scatterpolargl\":[{\"type\":\"scatterpolargl\",\"marker\":{\"colorbar\":{\"outlinewidth\":0,\"ticks\":\"\"}}}],\"bar\":[{\"error_x\":{\"color\":\"#2a3f5f\"},\"error_y\":{\"color\":\"#2a3f5f\"},\"marker\":{\"line\":{\"color\":\"#E5ECF6\",\"width\":0.5},\"pattern\":{\"fillmode\":\"overlay\",\"size\":10,\"solidity\":0.2}},\"type\":\"bar\"}],\"scattergeo\":[{\"type\":\"scattergeo\",\"marker\":{\"colorbar\":{\"outlinewidth\":0,\"ticks\":\"\"}}}],\"scatterpolar\":[{\"type\":\"scatterpolar\",\"marker\":{\"colorbar\":{\"outlinewidth\":0,\"ticks\":\"\"}}}],\"histogram\":[{\"marker\":{\"pattern\":{\"fillmode\":\"overlay\",\"size\":10,\"solidity\":0.2}},\"type\":\"histogram\"}],\"scattergl\":[{\"type\":\"scattergl\",\"marker\":{\"colorbar\":{\"outlinewidth\":0,\"ticks\":\"\"}}}],\"scatter3d\":[{\"type\":\"scatter3d\",\"line\":{\"colorbar\":{\"outlinewidth\":0,\"ticks\":\"\"}},\"marker\":{\"colorbar\":{\"outlinewidth\":0,\"ticks\":\"\"}}}],\"scattermapbox\":[{\"type\":\"scattermapbox\",\"marker\":{\"colorbar\":{\"outlinewidth\":0,\"ticks\":\"\"}}}],\"scatterternary\":[{\"type\":\"scatterternary\",\"marker\":{\"colorbar\":{\"outlinewidth\":0,\"ticks\":\"\"}}}],\"scattercarpet\":[{\"type\":\"scattercarpet\",\"marker\":{\"colorbar\":{\"outlinewidth\":0,\"ticks\":\"\"}}}],\"carpet\":[{\"aaxis\":{\"endlinecolor\":\"#2a3f5f\",\"gridcolor\":\"white\",\"linecolor\":\"white\",\"minorgridcolor\":\"white\",\"startlinecolor\":\"#2a3f5f\"},\"baxis\":{\"endlinecolor\":\"#2a3f5f\",\"gridcolor\":\"white\",\"linecolor\":\"white\",\"minorgridcolor\":\"white\",\"startlinecolor\":\"#2a3f5f\"},\"type\":\"carpet\"}],\"table\":[{\"cells\":{\"fill\":{\"color\":\"#EBF0F8\"},\"line\":{\"color\":\"white\"}},\"header\":{\"fill\":{\"color\":\"#C8D4E3\"},\"line\":{\"color\":\"white\"}},\"type\":\"table\"}],\"barpolar\":[{\"marker\":{\"line\":{\"color\":\"#E5ECF6\",\"width\":0.5},\"pattern\":{\"fillmode\":\"overlay\",\"size\":10,\"solidity\":0.2}},\"type\":\"barpolar\"}],\"pie\":[{\"automargin\":true,\"type\":\"pie\"}]},\"layout\":{\"autotypenumbers\":\"strict\",\"colorway\":[\"#636efa\",\"#EF553B\",\"#00cc96\",\"#ab63fa\",\"#FFA15A\",\"#19d3f3\",\"#FF6692\",\"#B6E880\",\"#FF97FF\",\"#FECB52\"],\"font\":{\"color\":\"#2a3f5f\"},\"hovermode\":\"closest\",\"hoverlabel\":{\"align\":\"left\"},\"paper_bgcolor\":\"white\",\"plot_bgcolor\":\"#E5ECF6\",\"polar\":{\"bgcolor\":\"#E5ECF6\",\"angularaxis\":{\"gridcolor\":\"white\",\"linecolor\":\"white\",\"ticks\":\"\"},\"radialaxis\":{\"gridcolor\":\"white\",\"linecolor\":\"white\",\"ticks\":\"\"}},\"ternary\":{\"bgcolor\":\"#E5ECF6\",\"aaxis\":{\"gridcolor\":\"white\",\"linecolor\":\"white\",\"ticks\":\"\"},\"baxis\":{\"gridcolor\":\"white\",\"linecolor\":\"white\",\"ticks\":\"\"},\"caxis\":{\"gridcolor\":\"white\",\"linecolor\":\"white\",\"ticks\":\"\"}},\"coloraxis\":{\"colorbar\":{\"outlinewidth\":0,\"ticks\":\"\"}},\"colorscale\":{\"sequential\":[[0.0,\"#0d0887\"],[0.1111111111111111,\"#46039f\"],[0.2222222222222222,\"#7201a8\"],[0.3333333333333333,\"#9c179e\"],[0.4444444444444444,\"#bd3786\"],[0.5555555555555556,\"#d8576b\"],[0.6666666666666666,\"#ed7953\"],[0.7777777777777778,\"#fb9f3a\"],[0.8888888888888888,\"#fdca26\"],[1.0,\"#f0f921\"]],\"sequentialminus\":[[0.0,\"#0d0887\"],[0.1111111111111111,\"#46039f\"],[0.2222222222222222,\"#7201a8\"],[0.3333333333333333,\"#9c179e\"],[0.4444444444444444,\"#bd3786\"],[0.5555555555555556,\"#d8576b\"],[0.6666666666666666,\"#ed7953\"],[0.7777777777777778,\"#fb9f3a\"],[0.8888888888888888,\"#fdca26\"],[1.0,\"#f0f921\"]],\"diverging\":[[0,\"#8e0152\"],[0.1,\"#c51b7d\"],[0.2,\"#de77ae\"],[0.3,\"#f1b6da\"],[0.4,\"#fde0ef\"],[0.5,\"#f7f7f7\"],[0.6,\"#e6f5d0\"],[0.7,\"#b8e186\"],[0.8,\"#7fbc41\"],[0.9,\"#4d9221\"],[1,\"#276419\"]]},\"xaxis\":{\"gridcolor\":\"white\",\"linecolor\":\"white\",\"ticks\":\"\",\"title\":{\"standoff\":15},\"zerolinecolor\":\"white\",\"automargin\":true,\"zerolinewidth\":2},\"yaxis\":{\"gridcolor\":\"white\",\"linecolor\":\"white\",\"ticks\":\"\",\"title\":{\"standoff\":15},\"zerolinecolor\":\"white\",\"automargin\":true,\"zerolinewidth\":2},\"scene\":{\"xaxis\":{\"backgroundcolor\":\"#E5ECF6\",\"gridcolor\":\"white\",\"linecolor\":\"white\",\"showbackground\":true,\"ticks\":\"\",\"zerolinecolor\":\"white\",\"gridwidth\":2},\"yaxis\":{\"backgroundcolor\":\"#E5ECF6\",\"gridcolor\":\"white\",\"linecolor\":\"white\",\"showbackground\":true,\"ticks\":\"\",\"zerolinecolor\":\"white\",\"gridwidth\":2},\"zaxis\":{\"backgroundcolor\":\"#E5ECF6\",\"gridcolor\":\"white\",\"linecolor\":\"white\",\"showbackground\":true,\"ticks\":\"\",\"zerolinecolor\":\"white\",\"gridwidth\":2}},\"shapedefaults\":{\"line\":{\"color\":\"#2a3f5f\"}},\"annotationdefaults\":{\"arrowcolor\":\"#2a3f5f\",\"arrowhead\":0,\"arrowwidth\":1},\"geo\":{\"bgcolor\":\"white\",\"landcolor\":\"#E5ECF6\",\"subunitcolor\":\"white\",\"showland\":true,\"showlakes\":true,\"lakecolor\":\"white\"},\"title\":{\"x\":0.05},\"mapbox\":{\"style\":\"light\"}}},\"xaxis\":{\"anchor\":\"y\",\"domain\":[0.0,1.0],\"title\":{\"text\":\"name\"}},\"yaxis\":{\"anchor\":\"x\",\"domain\":[0.0,1.0],\"title\":{\"text\":\"age\"}},\"legend\":{\"tracegroupgap\":0},\"margin\":{\"t\":60},\"barmode\":\"relative\"},                        {\"responsive\": true}                    ).then(function(){\n",
       "                            \n",
       "var gd = document.getElementById('41e4c416-2131-432e-901f-a558d94c38fb');\n",
       "var x = new MutationObserver(function (mutations, observer) {{\n",
       "        var display = window.getComputedStyle(gd).display;\n",
       "        if (!display || display === 'none') {{\n",
       "            console.log([gd, 'removed!']);\n",
       "            Plotly.purge(gd);\n",
       "            observer.disconnect();\n",
       "        }}\n",
       "}});\n",
       "\n",
       "// Listen for the removal of the full notebook cells\n",
       "var notebookContainer = gd.closest('#notebook-container');\n",
       "if (notebookContainer) {{\n",
       "    x.observe(notebookContainer, {childList: true});\n",
       "}}\n",
       "\n",
       "// Listen for the clearing of the current output cell\n",
       "var outputEl = gd.closest('.output');\n",
       "if (outputEl) {{\n",
       "    x.observe(outputEl, {childList: true});\n",
       "}}\n",
       "\n",
       "                        })                };                });            </script>        </div>"
      ]
     },
     "metadata": {},
     "output_type": "display_data"
    }
   ],
   "source": [
    "import plotly.express as px\n",
    "\n",
    "data = {'name':['aman', 'ravi', 'shyam'],\n",
    "       'age':[60, 24, 30]}\n",
    "\n",
    "fig = px.bar(data, x='name', y = 'age')\n",
    "fig.show()"
   ]
  },
  {
   "cell_type": "markdown",
   "id": "f06e23bc-deb3-4777-a1c6-fe08e438d070",
   "metadata": {},
   "source": [
    "**6. Create a DataFrame and add a new column based on an existing column.**"
   ]
  },
  {
   "cell_type": "code",
   "execution_count": 465,
   "id": "65b774c3-3cfd-4eef-931f-e361b5f96d28",
   "metadata": {},
   "outputs": [
    {
     "name": "stdout",
     "output_type": "stream",
     "text": [
      "  product  price  discounted_price\n",
      "0  potato     20               2.0\n",
      "1   onion     30               3.0\n",
      "2   sugar     48               4.8\n"
     ]
    }
   ],
   "source": [
    "import pandas as pd\n",
    "data = {'product':['potato', 'onion', 'sugar'],\n",
    "       'price':[20, 30, 48]}\n",
    "df = pd.DataFrame(data)\n",
    "df\n",
    "\n",
    "df['discounted_price'] = df['price'] * 0.10\n",
    "print(df)"
   ]
  },
  {
   "cell_type": "markdown",
   "id": "a0f1fcce-83e9-4fc8-9cda-9fc89029edf1",
   "metadata": {},
   "source": [
    "**7. Write a program to perform element-wise multiplication of two NumPy arrays.**"
   ]
  },
  {
   "cell_type": "code",
   "execution_count": 472,
   "id": "5a6beb10-b539-4e05-94dc-721081ca7a3a",
   "metadata": {},
   "outputs": [
    {
     "name": "stdout",
     "output_type": "stream",
     "text": [
      "[ 4 10 18]\n"
     ]
    }
   ],
   "source": [
    "array1 = np.array([1, 2, 3])\n",
    "array2 = np.array([4, 5, 6])\n",
    "\n",
    "result = array1 * array2\n",
    "print(result)"
   ]
  },
  {
   "cell_type": "markdown",
   "id": "8255e177-ea4c-454c-88f5-0b196ca8a3aa",
   "metadata": {},
   "source": [
    "**8.  Create a line plot with multiple lines using Matplotlib.**"
   ]
  },
  {
   "cell_type": "code",
   "execution_count": 516,
   "id": "d98a10fc-44f2-45d1-a89f-9f84fb7eefd2",
   "metadata": {},
   "outputs": [
    {
     "data": {
      "image/png": "[encoded data removed]",
      "text/plain": [
       "<Figure size 640x480 with 1 Axes>"
      ]
     },
     "metadata": {},
     "output_type": "display_data"
    }
   ],
   "source": [
    "import pandas as pd \n",
    "import matplotlib.pyplot as plt\n",
    "x = [1, 2, 3, 4, 5]\n",
    "y1 = [2, 4, 1, 5, 3]\n",
    "y2 = [1, 3, 5, 2, 4]\n",
    "y3 = [3, 1, 4, 2, 5]\n",
    "\n",
    "plt.plot(x, y1, label='Line 1')\n",
    "plt.plot(x, y2, label='Line 2')\n",
    "plt.plot(x, y3, label='Line 3')\n",
    "\n",
    "plt.legend()\n",
    "plt.xlabel('X-axis')\n",
    "plt.ylabel('Y-axis')\n",
    "plt.title('Line Plot with Multiple Lines')\n",
    "plt.show()"
   ]
  },
  {
   "cell_type": "markdown",
   "id": "7bb40f0d-8d1d-4f1e-aca9-e80d5658754c",
   "metadata": {},
   "source": [
    "**9. Generate a Pandas DataFrame and filter rows where a column value is greater than a threshold.**"
   ]
  },
  {
   "cell_type": "code",
   "execution_count": 529,
   "id": "f8fc0465-7678-4f4d-a9ca-2c6ddcc2ff85",
   "metadata": {},
   "outputs": [
    {
     "data": {
      "text/html": [
       "<div>\n",
       "<style scoped>\n",
       "    .dataframe tbody tr th:only-of-type {\n",
       "        vertical-align: middle;\n",
       "    }\n",
       "\n",
       "    .dataframe tbody tr th {\n",
       "        vertical-align: top;\n",
       "    }\n",
       "\n",
       "    .dataframe thead th {\n",
       "        text-align: right;\n",
       "    }\n",
       "</style>\n",
       "<table border=\"1\" class=\"dataframe\">\n",
       "  <thead>\n",
       "    <tr style=\"text-align: right;\">\n",
       "      <th></th>\n",
       "      <th>name</th>\n",
       "      <th>score</th>\n",
       "    </tr>\n",
       "  </thead>\n",
       "  <tbody>\n",
       "    <tr>\n",
       "      <th>0</th>\n",
       "      <td>shivam</td>\n",
       "      <td>90</td>\n",
       "    </tr>\n",
       "    <tr>\n",
       "      <th>1</th>\n",
       "      <td>ravi</td>\n",
       "      <td>95</td>\n",
       "    </tr>\n",
       "    <tr>\n",
       "      <th>2</th>\n",
       "      <td>raj</td>\n",
       "      <td>85</td>\n",
       "    </tr>\n",
       "  </tbody>\n",
       "</table>\n",
       "</div>"
      ],
      "text/plain": [
       "     name  score\n",
       "0  shivam     90\n",
       "1    ravi     95\n",
       "2     raj     85"
      ]
     },
     "execution_count": 529,
     "metadata": {},
     "output_type": "execute_result"
    }
   ],
   "source": [
    "data = {'name':['shivam', 'ravi', 'raj', 'kiran', 'sonalika'],\n",
    "       'score':[90, 95, 85, 70, 75]}\n",
    "\n",
    "df = pd.DataFrame(data)\n",
    "df\n",
    "\n",
    "thresold = 80\n",
    "\n",
    "filter_row = df[df['score'] > 80]\n",
    "filter_row"
   ]
  },
  {
   "cell_type": "markdown",
   "id": "cd74a556-0232-41e6-9b3f-ca75c3da745e",
   "metadata": {},
   "source": [
    "**10. Create a histogram using Seaborn to visualize a distribution.**"
   ]
  },
  {
   "cell_type": "code",
   "execution_count": 546,
   "id": "7aa3cd6f-c3b0-4270-8b58-1dde4657feb7",
   "metadata": {},
   "outputs": [
    {
     "data": {
      "image/png": "[encoded data removed]",
      "text/plain": [
       "<Figure size 640x480 with 1 Axes>"
      ]
     },
     "metadata": {},
     "output_type": "display_data"
    }
   ],
   "source": [
    "import seaborn as sns\n",
    "import matplotlib.pyplot as plt\n",
    "import pandas as pd\n",
    "import numpy as np\n",
    "\n",
    "np.random.seed(0)\n",
    "data = np.random.randn(500)\n",
    "\n",
    "sns.histplot(data, kde = True)\n",
    "plt.xlabel('Data Values')\n",
    "plt.ylabel('Frequency')\n",
    "plt.title('Histogram of Sample Data')\n",
    "plt.show()"
   ]
  },
  {
   "cell_type": "markdown",
   "id": "b7776ce3-78e5-4970-8ddb-3350f653fccb",
   "metadata": {},
   "source": [
    "**11. Perform matrix multiplication using NumPy.**"
   ]
  },
  {
   "cell_type": "code",
   "execution_count": 25,
   "id": "ab46a3cb-03dd-4511-9138-947f1a0da17e",
   "metadata": {},
   "outputs": [
    {
     "name": "stdout",
     "output_type": "stream",
     "text": [
      "[[19 22]\n",
      " [43 50]]\n"
     ]
    }
   ],
   "source": [
    "import numpy as np\n",
    "matrix1 = np.array([[1, 2], \n",
    "                    [3, 4]])\n",
    "\n",
    "matrix2 = np.array([[5, 6], \n",
    "                    [7, 8]])\n",
    "\n",
    "matrix_multiplication = np.dot(matrix1, matrix2)\n",
    "print(matrix_multiplication)"
   ]
  },
  {
   "cell_type": "markdown",
   "id": "16fd2940-0288-4a33-a9cc-3b911643bb14",
   "metadata": {},
   "source": [
    "**12.  Use Pandas to load a CSV file and display its first 5 rows.**"
   ]
  },
  {
   "cell_type": "code",
   "execution_count": 34,
   "id": "43407ad9-0f48-43fc-b580-5e4d53de09f5",
   "metadata": {},
   "outputs": [
    {
     "data": {
      "text/html": [
       "<div>\n",
       "<style scoped>\n",
       "    .dataframe tbody tr th:only-of-type {\n",
       "        vertical-align: middle;\n",
       "    }\n",
       "\n",
       "    .dataframe tbody tr th {\n",
       "        vertical-align: top;\n",
       "    }\n",
       "\n",
       "    .dataframe thead th {\n",
       "        text-align: right;\n",
       "    }\n",
       "</style>\n",
       "<table border=\"1\" class=\"dataframe\">\n",
       "  <thead>\n",
       "    <tr style=\"text-align: right;\">\n",
       "      <th></th>\n",
       "      <th>RowNumber</th>\n",
       "      <th>CustomerId</th>\n",
       "      <th>Surname</th>\n",
       "      <th>CreditScore</th>\n",
       "      <th>Geography</th>\n",
       "      <th>Gender</th>\n",
       "      <th>Age</th>\n",
       "      <th>Tenure</th>\n",
       "      <th>Balance</th>\n",
       "      <th>NumOfProducts</th>\n",
       "      <th>HasCrCard</th>\n",
       "      <th>IsActiveMember</th>\n",
       "      <th>EstimatedSalary</th>\n",
       "      <th>Exited</th>\n",
       "    </tr>\n",
       "  </thead>\n",
       "  <tbody>\n",
       "    <tr>\n",
       "      <th>0</th>\n",
       "      <td>1</td>\n",
       "      <td>15634602</td>\n",
       "      <td>Hargrave</td>\n",
       "      <td>619</td>\n",
       "      <td>France</td>\n",
       "      <td>Female</td>\n",
       "      <td>42</td>\n",
       "      <td>2</td>\n",
       "      <td>0.00</td>\n",
       "      <td>1</td>\n",
       "      <td>1</td>\n",
       "      <td>1</td>\n",
       "      <td>101348.88</td>\n",
       "      <td>1</td>\n",
       "    </tr>\n",
       "    <tr>\n",
       "      <th>1</th>\n",
       "      <td>2</td>\n",
       "      <td>15647311</td>\n",
       "      <td>Hill</td>\n",
       "      <td>608</td>\n",
       "      <td>Spain</td>\n",
       "      <td>Female</td>\n",
       "      <td>41</td>\n",
       "      <td>1</td>\n",
       "      <td>83807.86</td>\n",
       "      <td>1</td>\n",
       "      <td>0</td>\n",
       "      <td>1</td>\n",
       "      <td>112542.58</td>\n",
       "      <td>0</td>\n",
       "    </tr>\n",
       "    <tr>\n",
       "      <th>2</th>\n",
       "      <td>3</td>\n",
       "      <td>15619304</td>\n",
       "      <td>Onio</td>\n",
       "      <td>502</td>\n",
       "      <td>France</td>\n",
       "      <td>Female</td>\n",
       "      <td>42</td>\n",
       "      <td>8</td>\n",
       "      <td>159660.80</td>\n",
       "      <td>3</td>\n",
       "      <td>1</td>\n",
       "      <td>0</td>\n",
       "      <td>113931.57</td>\n",
       "      <td>1</td>\n",
       "    </tr>\n",
       "    <tr>\n",
       "      <th>3</th>\n",
       "      <td>4</td>\n",
       "      <td>15701354</td>\n",
       "      <td>Boni</td>\n",
       "      <td>699</td>\n",
       "      <td>France</td>\n",
       "      <td>Female</td>\n",
       "      <td>39</td>\n",
       "      <td>1</td>\n",
       "      <td>0.00</td>\n",
       "      <td>2</td>\n",
       "      <td>0</td>\n",
       "      <td>0</td>\n",
       "      <td>93826.63</td>\n",
       "      <td>0</td>\n",
       "    </tr>\n",
       "    <tr>\n",
       "      <th>4</th>\n",
       "      <td>5</td>\n",
       "      <td>15737888</td>\n",
       "      <td>Mitchell</td>\n",
       "      <td>850</td>\n",
       "      <td>Spain</td>\n",
       "      <td>Female</td>\n",
       "      <td>43</td>\n",
       "      <td>2</td>\n",
       "      <td>125510.82</td>\n",
       "      <td>1</td>\n",
       "      <td>1</td>\n",
       "      <td>1</td>\n",
       "      <td>79084.10</td>\n",
       "      <td>0</td>\n",
       "    </tr>\n",
       "  </tbody>\n",
       "</table>\n",
       "</div>"
      ],
      "text/plain": [
       "   RowNumber  CustomerId   Surname  CreditScore Geography  Gender  Age  \\\n",
       "0          1    15634602  Hargrave          619    France  Female   42   \n",
       "1          2    15647311      Hill          608     Spain  Female   41   \n",
       "2          3    15619304      Onio          502    France  Female   42   \n",
       "3          4    15701354      Boni          699    France  Female   39   \n",
       "4          5    15737888  Mitchell          850     Spain  Female   43   \n",
       "\n",
       "   Tenure    Balance  NumOfProducts  HasCrCard  IsActiveMember  \\\n",
       "0       2       0.00              1          1               1   \n",
       "1       1   83807.86              1          0               1   \n",
       "2       8  159660.80              3          1               0   \n",
       "3       1       0.00              2          0               0   \n",
       "4       2  125510.82              1          1               1   \n",
       "\n",
       "   EstimatedSalary  Exited  \n",
       "0        101348.88       1  \n",
       "1        112542.58       0  \n",
       "2        113931.57       1  \n",
       "3         93826.63       0  \n",
       "4         79084.10       0  "
      ]
     },
     "execution_count": 34,
     "metadata": {},
     "output_type": "execute_result"
    }
   ],
   "source": [
    "import pandas as pd\n",
    "\n",
    "csv_file = pd.read_csv('Bank_churn.csv')\n",
    "csv_file.head()"
   ]
  },
  {
   "cell_type": "markdown",
   "id": "65816fb1-d077-46b5-bdad-01e9151a77ab",
   "metadata": {},
   "source": [
    "**13. Create a 3D scatter plot using Plotly.**"
   ]
  },
  {
   "cell_type": "code",
   "execution_count": 51,
   "id": "053e5696-55a1-43b7-ac8e-dfb3e7f630b7",
   "metadata": {},
   "outputs": [
    {
     "data": {
      "application/vnd.plotly.v1+json": {
       "config": {
        "plotlyServerURL": "https://plot.ly"
       },
       "data": [
        {
         "type": "scatter3d",
         "x": [
          1,
          2,
          3,
          4
         ],
         "y": [
          5,
          6,
          7,
          8
         ],
         "z": [
          9,
          10,
          11,
          12
         ]
        }
       ],
       "layout": {
        "autosize": true,
        "scene": {
         "aspectmode": "auto",
         "aspectratio": {
          "x": 1.0000000000000002,
          "y": 1.0000000000000002,
          "z": 1.0000000000000002
         },
         "camera": {
          "center": {
           "x": 0,
           "y": 0,
           "z": 0
          },
          "eye": {
           "x": -0.31710198017408325,
           "y": 1.0396857369288863,
           "z": 0.6670548290999375
          },
          "projection": {
           "type": "perspective"
          },
          "up": {
           "x": 0,
           "y": 0,
           "z": 1
          }
         }
        },
        "template": {
         "data": {
          "bar": [
           {
            "error_x": {
             "color": "#2a3f5f"
            },
            "error_y": {
             "color": "#2a3f5f"
            },
            "marker": {
             "line": {
              "color": "#E5ECF6",
              "width": 0.5
             },
             "pattern": {
              "fillmode": "overlay",
              "size": 10,
              "solidity": 0.2
             }
            },
            "type": "bar"
           }
          ],
          "barpolar": [
           {
            "marker": {
             "line": {
              "color": "#E5ECF6",
              "width": 0.5
             },
             "pattern": {
              "fillmode": "overlay",
              "size": 10,
              "solidity": 0.2
             }
            },
            "type": "barpolar"
           }
          ],
          "carpet": [
           {
            "aaxis": {
             "endlinecolor": "#2a3f5f",
             "gridcolor": "white",
             "linecolor": "white",
             "minorgridcolor": "white",
             "startlinecolor": "#2a3f5f"
            },
            "baxis": {
             "endlinecolor": "#2a3f5f",
             "gridcolor": "white",
             "linecolor": "white",
             "minorgridcolor": "white",
             "startlinecolor": "#2a3f5f"
            },
            "type": "carpet"
           }
          ],
          "choropleth": [
           {
            "colorbar": {
             "outlinewidth": 0,
             "ticks": ""
            },
            "type": "choropleth"
           }
          ],
          "contour": [
           {
            "colorbar": {
             "outlinewidth": 0,
             "ticks": ""
            },
            "colorscale": [
             [
              0,
              "#0d0887"
             ],
             [
              0.1111111111111111,
              "#46039f"
             ],
             [
              0.2222222222222222,
              "#7201a8"
             ],
             [
              0.3333333333333333,
              "#9c179e"
             ],
             [
              0.4444444444444444,
              "#bd3786"
             ],
             [
              0.5555555555555556,
              "#d8576b"
             ],
             [
              0.6666666666666666,
              "#ed7953"
             ],
             [
              0.7777777777777778,
              "#fb9f3a"
             ],
             [
              0.8888888888888888,
              "#fdca26"
             ],
             [
              1,
              "#f0f921"
             ]
            ],
            "type": "contour"
           }
          ],
          "contourcarpet": [
           {
            "colorbar": {
             "outlinewidth": 0,
             "ticks": ""
            },
            "type": "contourcarpet"
           }
          ],
          "heatmap": [
           {
            "colorbar": {
             "outlinewidth": 0,
             "ticks": ""
            },
            "colorscale": [
             [
              0,
              "#0d0887"
             ],
             [
              0.1111111111111111,
              "#46039f"
             ],
             [
              0.2222222222222222,
              "#7201a8"
             ],
             [
              0.3333333333333333,
              "#9c179e"
             ],
             [
              0.4444444444444444,
              "#bd3786"
             ],
             [
              0.5555555555555556,
              "#d8576b"
             ],
             [
              0.6666666666666666,
              "#ed7953"
             ],
             [
              0.7777777777777778,
              "#fb9f3a"
             ],
             [
              0.8888888888888888,
              "#fdca26"
             ],
             [
              1,
              "#f0f921"
             ]
            ],
            "type": "heatmap"
           }
          ],
          "heatmapgl": [
           {
            "colorbar": {
             "outlinewidth": 0,
             "ticks": ""
            },
            "colorscale": [
             [
              0,
              "#0d0887"
             ],
             [
              0.1111111111111111,
              "#46039f"
             ],
             [
              0.2222222222222222,
              "#7201a8"
             ],
             [
              0.3333333333333333,
              "#9c179e"
             ],
             [
              0.4444444444444444,
              "#bd3786"
             ],
             [
              0.5555555555555556,
              "#d8576b"
             ],
             [
              0.6666666666666666,
              "#ed7953"
             ],
             [
              0.7777777777777778,
              "#fb9f3a"
             ],
             [
              0.8888888888888888,
              "#fdca26"
             ],
             [
              1,
              "#f0f921"
             ]
            ],
            "type": "heatmapgl"
           }
          ],
          "histogram": [
           {
            "marker": {
             "pattern": {
              "fillmode": "overlay",
              "size": 10,
              "solidity": 0.2
             }
            },
            "type": "histogram"
           }
          ],
          "histogram2d": [
           {
            "colorbar": {
             "outlinewidth": 0,
             "ticks": ""
            },
            "colorscale": [
             [
              0,
              "#0d0887"
             ],
             [
              0.1111111111111111,
              "#46039f"
             ],
             [
              0.2222222222222222,
              "#7201a8"
             ],
             [
              0.3333333333333333,
              "#9c179e"
             ],
             [
              0.4444444444444444,
              "#bd3786"
             ],
             [
              0.5555555555555556,
              "#d8576b"
             ],
             [
              0.6666666666666666,
              "#ed7953"
             ],
             [
              0.7777777777777778,
              "#fb9f3a"
             ],
             [
              0.8888888888888888,
              "#fdca26"
             ],
             [
              1,
              "#f0f921"
             ]
            ],
            "type": "histogram2d"
           }
          ],
          "histogram2dcontour": [
           {
            "colorbar": {
             "outlinewidth": 0,
             "ticks": ""
            },
            "colorscale": [
             [
              0,
              "#0d0887"
             ],
             [
              0.1111111111111111,
              "#46039f"
             ],
             [
              0.2222222222222222,
              "#7201a8"
             ],
             [
              0.3333333333333333,
              "#9c179e"
             ],
             [
              0.4444444444444444,
              "#bd3786"
             ],
             [
              0.5555555555555556,
              "#d8576b"
             ],
             [
              0.6666666666666666,
              "#ed7953"
             ],
             [
              0.7777777777777778,
              "#fb9f3a"
             ],
             [
              0.8888888888888888,
              "#fdca26"
             ],
             [
              1,
              "#f0f921"
             ]
            ],
            "type": "histogram2dcontour"
           }
          ],
          "mesh3d": [
           {
            "colorbar": {
             "outlinewidth": 0,
             "ticks": ""
            },
            "type": "mesh3d"
           }
          ],
          "parcoords": [
           {
            "line": {
             "colorbar": {
              "outlinewidth": 0,
              "ticks": ""
             }
            },
            "type": "parcoords"
           }
          ],
          "pie": [
           {
            "automargin": true,
            "type": "pie"
           }
          ],
          "scatter": [
           {
            "fillpattern": {
             "fillmode": "overlay",
             "size": 10,
             "solidity": 0.2
            },
            "type": "scatter"
           }
          ],
          "scatter3d": [
           {
            "line": {
             "colorbar": {
              "outlinewidth": 0,
              "ticks": ""
             }
            },
            "marker": {
             "colorbar": {
              "outlinewidth": 0,
              "ticks": ""
             }
            },
            "type": "scatter3d"
           }
          ],
          "scattercarpet": [
           {
            "marker": {
             "colorbar": {
              "outlinewidth": 0,
              "ticks": ""
             }
            },
            "type": "scattercarpet"
           }
          ],
          "scattergeo": [
           {
            "marker": {
             "colorbar": {
              "outlinewidth": 0,
              "ticks": ""
             }
            },
            "type": "scattergeo"
           }
          ],
          "scattergl": [
           {
            "marker": {
             "colorbar": {
              "outlinewidth": 0,
              "ticks": ""
             }
            },
            "type": "scattergl"
           }
          ],
          "scattermapbox": [
           {
            "marker": {
             "colorbar": {
              "outlinewidth": 0,
              "ticks": ""
             }
            },
            "type": "scattermapbox"
           }
          ],
          "scatterpolar": [
           {
            "marker": {
             "colorbar": {
              "outlinewidth": 0,
              "ticks": ""
             }
            },
            "type": "scatterpolar"
           }
          ],
          "scatterpolargl": [
           {
            "marker": {
             "colorbar": {
              "outlinewidth": 0,
              "ticks": ""
             }
            },
            "type": "scatterpolargl"
           }
          ],
          "scatterternary": [
           {
            "marker": {
             "colorbar": {
              "outlinewidth": 0,
              "ticks": ""
             }
            },
            "type": "scatterternary"
           }
          ],
          "surface": [
           {
            "colorbar": {
             "outlinewidth": 0,
             "ticks": ""
            },
            "colorscale": [
             [
              0,
              "#0d0887"
             ],
             [
              0.1111111111111111,
              "#46039f"
             ],
             [
              0.2222222222222222,
              "#7201a8"
             ],
             [
              0.3333333333333333,
              "#9c179e"
             ],
             [
              0.4444444444444444,
              "#bd3786"
             ],
             [
              0.5555555555555556,
              "#d8576b"
             ],
             [
              0.6666666666666666,
              "#ed7953"
             ],
             [
              0.7777777777777778,
              "#fb9f3a"
             ],
             [
              0.8888888888888888,
              "#fdca26"
             ],
             [
              1,
              "#f0f921"
             ]
            ],
            "type": "surface"
           }
          ],
          "table": [
           {
            "cells": {
             "fill": {
              "color": "#EBF0F8"
             },
             "line": {
              "color": "white"
             }
            },
            "header": {
             "fill": {
              "color": "#C8D4E3"
             },
             "line": {
              "color": "white"
             }
            },
            "type": "table"
           }
          ]
         },
         "layout": {
          "annotationdefaults": {
           "arrowcolor": "#2a3f5f",
           "arrowhead": 0,
           "arrowwidth": 1
          },
          "autotypenumbers": "strict",
          "coloraxis": {
           "colorbar": {
            "outlinewidth": 0,
            "ticks": ""
           }
          },
          "colorscale": {
           "diverging": [
            [
             0,
             "#8e0152"
            ],
            [
             0.1,
             "#c51b7d"
            ],
            [
             0.2,
             "#de77ae"
            ],
            [
             0.3,
             "#f1b6da"
            ],
            [
             0.4,
             "#fde0ef"
            ],
            [
             0.5,
             "#f7f7f7"
            ],
            [
             0.6,
             "#e6f5d0"
            ],
            [
             0.7,
             "#b8e186"
            ],
            [
             0.8,
             "#7fbc41"
            ],
            [
             0.9,
             "#4d9221"
            ],
            [
             1,
             "#276419"
            ]
           ],
           "sequential": [
            [
             0,
             "#0d0887"
            ],
            [
             0.1111111111111111,
             "#46039f"
            ],
            [
             0.2222222222222222,
             "#7201a8"
            ],
            [
             0.3333333333333333,
             "#9c179e"
            ],
            [
             0.4444444444444444,
             "#bd3786"
            ],
            [
             0.5555555555555556,
             "#d8576b"
            ],
            [
             0.6666666666666666,
             "#ed7953"
            ],
            [
             0.7777777777777778,
             "#fb9f3a"
            ],
            [
             0.8888888888888888,
             "#fdca26"
            ],
            [
             1,
             "#f0f921"
            ]
           ],
           "sequentialminus": [
            [
             0,
             "#0d0887"
            ],
            [
             0.1111111111111111,
             "#46039f"
            ],
            [
             0.2222222222222222,
             "#7201a8"
            ],
            [
             0.3333333333333333,
             "#9c179e"
            ],
            [
             0.4444444444444444,
             "#bd3786"
            ],
            [
             0.5555555555555556,
             "#d8576b"
            ],
            [
             0.6666666666666666,
             "#ed7953"
            ],
            [
             0.7777777777777778,
             "#fb9f3a"
            ],
            [
             0.8888888888888888,
             "#fdca26"
            ],
            [
             1,
             "#f0f921"
            ]
           ]
          },
          "colorway": [
           "#636efa",
           "#EF553B",
           "#00cc96",
           "#ab63fa",
           "#FFA15A",
           "#19d3f3",
           "#FF6692",
           "#B6E880",
           "#FF97FF",
           "#FECB52"
          ],
          "font": {
           "color": "#2a3f5f"
          },
          "geo": {
           "bgcolor": "white",
           "lakecolor": "white",
           "landcolor": "#E5ECF6",
           "showlakes": true,
           "showland": true,
           "subunitcolor": "white"
          },
          "hoverlabel": {
           "align": "left"
          },
          "hovermode": "closest",
          "mapbox": {
           "style": "light"
          },
          "paper_bgcolor": "white",
          "plot_bgcolor": "#E5ECF6",
          "polar": {
           "angularaxis": {
            "gridcolor": "white",
            "linecolor": "white",
            "ticks": ""
           },
           "bgcolor": "#E5ECF6",
           "radialaxis": {
            "gridcolor": "white",
            "linecolor": "white",
            "ticks": ""
           }
          },
          "scene": {
           "xaxis": {
            "backgroundcolor": "#E5ECF6",
            "gridcolor": "white",
            "gridwidth": 2,
            "linecolor": "white",
            "showbackground": true,
            "ticks": "",
            "zerolinecolor": "white"
           },
           "yaxis": {
            "backgroundcolor": "#E5ECF6",
            "gridcolor": "white",
            "gridwidth": 2,
            "linecolor": "white",
            "showbackground": true,
            "ticks": "",
            "zerolinecolor": "white"
           },
           "zaxis": {
            "backgroundcolor": "#E5ECF6",
            "gridcolor": "white",
            "gridwidth": 2,
            "linecolor": "white",
            "showbackground": true,
            "ticks": "",
            "zerolinecolor": "white"
           }
          },
          "shapedefaults": {
           "line": {
            "color": "#2a3f5f"
           }
          },
          "ternary": {
           "aaxis": {
            "gridcolor": "white",
            "linecolor": "white",
            "ticks": ""
           },
           "baxis": {
            "gridcolor": "white",
            "linecolor": "white",
            "ticks": ""
           },
           "bgcolor": "#E5ECF6",
           "caxis": {
            "gridcolor": "white",
            "linecolor": "white",
            "ticks": ""
           }
          },
          "title": {
           "x": 0.05
          },
          "xaxis": {
           "automargin": true,
           "gridcolor": "white",
           "linecolor": "white",
           "ticks": "",
           "title": {
            "standoff": 15
           },
           "zerolinecolor": "white",
           "zerolinewidth": 2
          },
          "yaxis": {
           "automargin": true,
           "gridcolor": "white",
           "linecolor": "white",
           "ticks": "",
           "title": {
            "standoff": 15
           },
           "zerolinecolor": "white",
           "zerolinewidth": 2
          }
         }
        }
       }
      },
      "image/png": "[encoded data removed]",
      "text/html": [
       "<div>                            <div id=\"77ba2c8a-c228-47e4-900d-c3106beb773a\" class=\"plotly-graph-div\" style=\"height:525px; width:100%;\"></div>            <script type=\"text/javascript\">                require([\"plotly\"], function(Plotly) {                    window.PLOTLYENV=window.PLOTLYENV || {};                                    if (document.getElementById(\"77ba2c8a-c228-47e4-900d-c3106beb773a\")) {                    Plotly.newPlot(                        \"77ba2c8a-c228-47e4-900d-c3106beb773a\",                        [{\"x\":[1,2,3,4],\"y\":[5,6,7,8],\"z\":[9,10,11,12],\"type\":\"scatter3d\"}],                        {\"template\":{\"data\":{\"histogram2dcontour\":[{\"type\":\"histogram2dcontour\",\"colorbar\":{\"outlinewidth\":0,\"ticks\":\"\"},\"colorscale\":[[0.0,\"#0d0887\"],[0.1111111111111111,\"#46039f\"],[0.2222222222222222,\"#7201a8\"],[0.3333333333333333,\"#9c179e\"],[0.4444444444444444,\"#bd3786\"],[0.5555555555555556,\"#d8576b\"],[0.6666666666666666,\"#ed7953\"],[0.7777777777777778,\"#fb9f3a\"],[0.8888888888888888,\"#fdca26\"],[1.0,\"#f0f921\"]]}],\"choropleth\":[{\"type\":\"choropleth\",\"colorbar\":{\"outlinewidth\":0,\"ticks\":\"\"}}],\"histogram2d\":[{\"type\":\"histogram2d\",\"colorbar\":{\"outlinewidth\":0,\"ticks\":\"\"},\"colorscale\":[[0.0,\"#0d0887\"],[0.1111111111111111,\"#46039f\"],[0.2222222222222222,\"#7201a8\"],[0.3333333333333333,\"#9c179e\"],[0.4444444444444444,\"#bd3786\"],[0.5555555555555556,\"#d8576b\"],[0.6666666666666666,\"#ed7953\"],[0.7777777777777778,\"#fb9f3a\"],[0.8888888888888888,\"#fdca26\"],[1.0,\"#f0f921\"]]}],\"heatmap\":[{\"type\":\"heatmap\",\"colorbar\":{\"outlinewidth\":0,\"ticks\":\"\"},\"colorscale\":[[0.0,\"#0d0887\"],[0.1111111111111111,\"#46039f\"],[0.2222222222222222,\"#7201a8\"],[0.3333333333333333,\"#9c179e\"],[0.4444444444444444,\"#bd3786\"],[0.5555555555555556,\"#d8576b\"],[0.6666666666666666,\"#ed7953\"],[0.7777777777777778,\"#fb9f3a\"],[0.8888888888888888,\"#fdca26\"],[1.0,\"#f0f921\"]]}],\"heatmapgl\":[{\"type\":\"heatmapgl\",\"colorbar\":{\"outlinewidth\":0,\"ticks\":\"\"},\"colorscale\":[[0.0,\"#0d0887\"],[0.1111111111111111,\"#46039f\"],[0.2222222222222222,\"#7201a8\"],[0.3333333333333333,\"#9c179e\"],[0.4444444444444444,\"#bd3786\"],[0.5555555555555556,\"#d8576b\"],[0.6666666666666666,\"#ed7953\"],[0.7777777777777778,\"#fb9f3a\"],[0.8888888888888888,\"#fdca26\"],[1.0,\"#f0f921\"]]}],\"contourcarpet\":[{\"type\":\"contourcarpet\",\"colorbar\":{\"outlinewidth\":0,\"ticks\":\"\"}}],\"contour\":[{\"type\":\"contour\",\"colorbar\":{\"outlinewidth\":0,\"ticks\":\"\"},\"colorscale\":[[0.0,\"#0d0887\"],[0.1111111111111111,\"#46039f\"],[0.2222222222222222,\"#7201a8\"],[0.3333333333333333,\"#9c179e\"],[0.4444444444444444,\"#bd3786\"],[0.5555555555555556,\"#d8576b\"],[0.6666666666666666,\"#ed7953\"],[0.7777777777777778,\"#fb9f3a\"],[0.8888888888888888,\"#fdca26\"],[1.0,\"#f0f921\"]]}],\"surface\":[{\"type\":\"surface\",\"colorbar\":{\"outlinewidth\":0,\"ticks\":\"\"},\"colorscale\":[[0.0,\"#0d0887\"],[0.1111111111111111,\"#46039f\"],[0.2222222222222222,\"#7201a8\"],[0.3333333333333333,\"#9c179e\"],[0.4444444444444444,\"#bd3786\"],[0.5555555555555556,\"#d8576b\"],[0.6666666666666666,\"#ed7953\"],[0.7777777777777778,\"#fb9f3a\"],[0.8888888888888888,\"#fdca26\"],[1.0,\"#f0f921\"]]}],\"mesh3d\":[{\"type\":\"mesh3d\",\"colorbar\":{\"outlinewidth\":0,\"ticks\":\"\"}}],\"scatter\":[{\"fillpattern\":{\"fillmode\":\"overlay\",\"size\":10,\"solidity\":0.2},\"type\":\"scatter\"}],\"parcoords\":[{\"type\":\"parcoords\",\"line\":{\"colorbar\":{\"outlinewidth\":0,\"ticks\":\"\"}}}],\"scatterpolargl\":[{\"type\":\"scatterpolargl\",\"marker\":{\"colorbar\":{\"outlinewidth\":0,\"ticks\":\"\"}}}],\"bar\":[{\"error_x\":{\"color\":\"#2a3f5f\"},\"error_y\":{\"color\":\"#2a3f5f\"},\"marker\":{\"line\":{\"color\":\"#E5ECF6\",\"width\":0.5},\"pattern\":{\"fillmode\":\"overlay\",\"size\":10,\"solidity\":0.2}},\"type\":\"bar\"}],\"scattergeo\":[{\"type\":\"scattergeo\",\"marker\":{\"colorbar\":{\"outlinewidth\":0,\"ticks\":\"\"}}}],\"scatterpolar\":[{\"type\":\"scatterpolar\",\"marker\":{\"colorbar\":{\"outlinewidth\":0,\"ticks\":\"\"}}}],\"histogram\":[{\"marker\":{\"pattern\":{\"fillmode\":\"overlay\",\"size\":10,\"solidity\":0.2}},\"type\":\"histogram\"}],\"scattergl\":[{\"type\":\"scattergl\",\"marker\":{\"colorbar\":{\"outlinewidth\":0,\"ticks\":\"\"}}}],\"scatter3d\":[{\"type\":\"scatter3d\",\"line\":{\"colorbar\":{\"outlinewidth\":0,\"ticks\":\"\"}},\"marker\":{\"colorbar\":{\"outlinewidth\":0,\"ticks\":\"\"}}}],\"scattermapbox\":[{\"type\":\"scattermapbox\",\"marker\":{\"colorbar\":{\"outlinewidth\":0,\"ticks\":\"\"}}}],\"scatterternary\":[{\"type\":\"scatterternary\",\"marker\":{\"colorbar\":{\"outlinewidth\":0,\"ticks\":\"\"}}}],\"scattercarpet\":[{\"type\":\"scattercarpet\",\"marker\":{\"colorbar\":{\"outlinewidth\":0,\"ticks\":\"\"}}}],\"carpet\":[{\"aaxis\":{\"endlinecolor\":\"#2a3f5f\",\"gridcolor\":\"white\",\"linecolor\":\"white\",\"minorgridcolor\":\"white\",\"startlinecolor\":\"#2a3f5f\"},\"baxis\":{\"endlinecolor\":\"#2a3f5f\",\"gridcolor\":\"white\",\"linecolor\":\"white\",\"minorgridcolor\":\"white\",\"startlinecolor\":\"#2a3f5f\"},\"type\":\"carpet\"}],\"table\":[{\"cells\":{\"fill\":{\"color\":\"#EBF0F8\"},\"line\":{\"color\":\"white\"}},\"header\":{\"fill\":{\"color\":\"#C8D4E3\"},\"line\":{\"color\":\"white\"}},\"type\":\"table\"}],\"barpolar\":[{\"marker\":{\"line\":{\"color\":\"#E5ECF6\",\"width\":0.5},\"pattern\":{\"fillmode\":\"overlay\",\"size\":10,\"solidity\":0.2}},\"type\":\"barpolar\"}],\"pie\":[{\"automargin\":true,\"type\":\"pie\"}]},\"layout\":{\"autotypenumbers\":\"strict\",\"colorway\":[\"#636efa\",\"#EF553B\",\"#00cc96\",\"#ab63fa\",\"#FFA15A\",\"#19d3f3\",\"#FF6692\",\"#B6E880\",\"#FF97FF\",\"#FECB52\"],\"font\":{\"color\":\"#2a3f5f\"},\"hovermode\":\"closest\",\"hoverlabel\":{\"align\":\"left\"},\"paper_bgcolor\":\"white\",\"plot_bgcolor\":\"#E5ECF6\",\"polar\":{\"bgcolor\":\"#E5ECF6\",\"angularaxis\":{\"gridcolor\":\"white\",\"linecolor\":\"white\",\"ticks\":\"\"},\"radialaxis\":{\"gridcolor\":\"white\",\"linecolor\":\"white\",\"ticks\":\"\"}},\"ternary\":{\"bgcolor\":\"#E5ECF6\",\"aaxis\":{\"gridcolor\":\"white\",\"linecolor\":\"white\",\"ticks\":\"\"},\"baxis\":{\"gridcolor\":\"white\",\"linecolor\":\"white\",\"ticks\":\"\"},\"caxis\":{\"gridcolor\":\"white\",\"linecolor\":\"white\",\"ticks\":\"\"}},\"coloraxis\":{\"colorbar\":{\"outlinewidth\":0,\"ticks\":\"\"}},\"colorscale\":{\"sequential\":[[0.0,\"#0d0887\"],[0.1111111111111111,\"#46039f\"],[0.2222222222222222,\"#7201a8\"],[0.3333333333333333,\"#9c179e\"],[0.4444444444444444,\"#bd3786\"],[0.5555555555555556,\"#d8576b\"],[0.6666666666666666,\"#ed7953\"],[0.7777777777777778,\"#fb9f3a\"],[0.8888888888888888,\"#fdca26\"],[1.0,\"#f0f921\"]],\"sequentialminus\":[[0.0,\"#0d0887\"],[0.1111111111111111,\"#46039f\"],[0.2222222222222222,\"#7201a8\"],[0.3333333333333333,\"#9c179e\"],[0.4444444444444444,\"#bd3786\"],[0.5555555555555556,\"#d8576b\"],[0.6666666666666666,\"#ed7953\"],[0.7777777777777778,\"#fb9f3a\"],[0.8888888888888888,\"#fdca26\"],[1.0,\"#f0f921\"]],\"diverging\":[[0,\"#8e0152\"],[0.1,\"#c51b7d\"],[0.2,\"#de77ae\"],[0.3,\"#f1b6da\"],[0.4,\"#fde0ef\"],[0.5,\"#f7f7f7\"],[0.6,\"#e6f5d0\"],[0.7,\"#b8e186\"],[0.8,\"#7fbc41\"],[0.9,\"#4d9221\"],[1,\"#276419\"]]},\"xaxis\":{\"gridcolor\":\"white\",\"linecolor\":\"white\",\"ticks\":\"\",\"title\":{\"standoff\":15},\"zerolinecolor\":\"white\",\"automargin\":true,\"zerolinewidth\":2},\"yaxis\":{\"gridcolor\":\"white\",\"linecolor\":\"white\",\"ticks\":\"\",\"title\":{\"standoff\":15},\"zerolinecolor\":\"white\",\"automargin\":true,\"zerolinewidth\":2},\"scene\":{\"xaxis\":{\"backgroundcolor\":\"#E5ECF6\",\"gridcolor\":\"white\",\"linecolor\":\"white\",\"showbackground\":true,\"ticks\":\"\",\"zerolinecolor\":\"white\",\"gridwidth\":2},\"yaxis\":{\"backgroundcolor\":\"#E5ECF6\",\"gridcolor\":\"white\",\"linecolor\":\"white\",\"showbackground\":true,\"ticks\":\"\",\"zerolinecolor\":\"white\",\"gridwidth\":2},\"zaxis\":{\"backgroundcolor\":\"#E5ECF6\",\"gridcolor\":\"white\",\"linecolor\":\"white\",\"showbackground\":true,\"ticks\":\"\",\"zerolinecolor\":\"white\",\"gridwidth\":2}},\"shapedefaults\":{\"line\":{\"color\":\"#2a3f5f\"}},\"annotationdefaults\":{\"arrowcolor\":\"#2a3f5f\",\"arrowhead\":0,\"arrowwidth\":1},\"geo\":{\"bgcolor\":\"white\",\"landcolor\":\"#E5ECF6\",\"subunitcolor\":\"white\",\"showland\":true,\"showlakes\":true,\"lakecolor\":\"white\"},\"title\":{\"x\":0.05},\"mapbox\":{\"style\":\"light\"}}}},                        {\"responsive\": true}                    ).then(function(){\n",
       "                            \n",
       "var gd = document.getElementById('77ba2c8a-c228-47e4-900d-c3106beb773a');\n",
       "var x = new MutationObserver(function (mutations, observer) {{\n",
       "        var display = window.getComputedStyle(gd).display;\n",
       "        if (!display || display === 'none') {{\n",
       "            console.log([gd, 'removed!']);\n",
       "            Plotly.purge(gd);\n",
       "            observer.disconnect();\n",
       "        }}\n",
       "}});\n",
       "\n",
       "// Listen for the removal of the full notebook cells\n",
       "var notebookContainer = gd.closest('#notebook-container');\n",
       "if (notebookContainer) {{\n",
       "    x.observe(notebookContainer, {childList: true});\n",
       "}}\n",
       "\n",
       "// Listen for the clearing of the current output cell\n",
       "var outputEl = gd.closest('.output');\n",
       "if (outputEl) {{\n",
       "    x.observe(outputEl, {childList: true});\n",
       "}}\n",
       "\n",
       "                        })                };                });            </script>        </div>"
      ]
     },
     "metadata": {},
     "output_type": "display_data"
    }
   ],
   "source": [
    "import numpy as np \n",
    "import plotly.graph_objects as go\n",
    "import plotly.express as px\n",
    "\n",
    "x_data = [1, 2, 3, 4]\n",
    "y_data = [5, 6, 7, 8]\n",
    "z_data = [9, 10, 11, 12]\n",
    "\n",
    "fig = go.Figure(data=[go.Scatter3d(x=x_data, y=y_data, z=z_data)])\n",
    "fig.show()"
   ]
  },
  {
   "cell_type": "code",
   "execution_count": null,
   "id": "763ec536-7c25-4dab-a788-03390f5a7dbb",
   "metadata": {},
   "outputs": [],
   "source": []
  }
 ],
 "metadata": {
  "kernelspec": {
   "display_name": "Python 3 (ipykernel)",
   "language": "python",
   "name": "python3"
  },
  "language_info": {
   "codemirror_mode": {
    "name": "ipython",
    "version": 3
   },
   "file_extension": ".py",
   "mimetype": "text/x-python",
   "name": "python",
   "nbconvert_exporter": "python",
   "pygments_lexer": "ipython3",
   "version": "3.12.7"
  }
 },
 "nbformat": 4,
 "nbformat_minor": 5
}
