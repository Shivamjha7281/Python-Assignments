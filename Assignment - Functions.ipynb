{
 "cells": [
  {
   "cell_type": "markdown",
   "id": "de542b29-b3ae-4e68-b8ad-3afb4e37a79e",
   "metadata": {},
   "source": [
    "# Functions"
   ]
  },
  {
   "cell_type": "markdown",
   "id": "0df3baee-4e57-4acc-a85c-6a24c7f1dce4",
   "metadata": {},
   "source": [
    "***Theory Questions***"
   ]
  },
  {
   "cell_type": "markdown",
   "id": "34b4519d-ac26-496c-97f5-fe9710ec3c90",
   "metadata": {},
   "source": [
    "Note: For each theory Question, give at least one example"
   ]
  },
  {
   "cell_type": "markdown",
   "id": "97347ff0-977d-4897-94dd-05fb6a662c17",
   "metadata": {},
   "source": [
    " **1. What is the difference between a function and a method in Python?**"
   ]
  },
  {
   "cell_type": "markdown",
   "id": "a8735cf0-d6b6-4c9e-8bcc-5db736053595",
   "metadata": {},
   "source": [
    "**Function:**\n",
    "- A function is a standalone block of code that performs a specific task.\n",
    "\n",
    "- It is defined independently and can be called from anywhere in your code.\n",
    "\n",
    "- It doesn't implicitly operate on any specific object."
   ]
  },
  {
   "cell_type": "markdown",
   "id": "95a3f51c-5f11-4bc9-bdc1-cb22289d13dd",
   "metadata": {},
   "source": [
    "**Method:**\n",
    "- A method is a function that is associated with an object.\n",
    "\n",
    "- It is defined within a class and can only be called on instances of that class.\n",
    "\n",
    "- It implicitly receives the object it's called on as its first argument."
   ]
  },
  {
   "cell_type": "markdown",
   "id": "2e584b28-efc4-49a7-9c80-cd9fd29d3a86",
   "metadata": {},
   "source": [
    "**Function Example:**"
   ]
  },
  {
   "cell_type": "code",
   "execution_count": 15,
   "id": "cec9e1cd-4a1b-4184-b008-f57227e0b07a",
   "metadata": {},
   "outputs": [
    {
     "name": "stdout",
     "output_type": "stream",
     "text": [
      "area of rectangle: 50\n"
     ]
    }
   ],
   "source": [
    "#function\n",
    "#calculating the area of rectangle\n",
    "def calculate_rectangle_area(length, width):\n",
    "    return length*width\n",
    "\n",
    "#calling the function\n",
    "area=calculate_rectangle_area(5, 10)\n",
    "print(f\"area of rectangle: {area}\")"
   ]
  },
  {
   "cell_type": "markdown",
   "id": "691a41f9-8fad-4ab5-8e74-1d6e4af86d07",
   "metadata": {},
   "source": [
    "**Method Example:**"
   ]
  },
  {
   "cell_type": "code",
   "execution_count": 22,
   "id": "95bf5418-2ffe-4611-98f3-194972956e07",
   "metadata": {},
   "outputs": [],
   "source": [
    "class dog: #represent a dog\n",
    "\n",
    "    def __init__(self, name): \n",
    "        #initializes a dog with a name\n",
    "        self.name=name\n",
    "\n",
    "    def bark(self):\n",
    "        #makes the dog bark\n",
    "        print(f\"{self.name} says woof!\")"
   ]
  },
  {
   "cell_type": "code",
   "execution_count": 32,
   "id": "c4ae01bd-f63f-40c9-b200-a36960b865b7",
   "metadata": {},
   "outputs": [
    {
     "name": "stdout",
     "output_type": "stream",
     "text": [
      "buddy says woof!\n"
     ]
    }
   ],
   "source": [
    "#creating a dog object\n",
    "my_dog=dog(\"buddy\")\n",
    "#calling the method on the object\n",
    "my_dog.bark()"
   ]
  },
  {
   "cell_type": "markdown",
   "id": "d0c6d4a8-b898-46f1-996a-e6e1a15e3ca7",
   "metadata": {},
   "source": [
    " **2. Explain the concept of function arguments and parameters in Python.**"
   ]
  },
  {
   "cell_type": "markdown",
   "id": "95d46686-5ab8-4426-ad08-ad2877133ea5",
   "metadata": {},
   "source": [
    "Parameters:\n",
    "- These are the variables listed inside the parentheses in the function definition.\n",
    "- They act as placeholders for the values1 that will be passed into the function when it's called.\n",
    "- They define what kind of data the function expects.\n",
    "\n",
    "Arguments:\n",
    "- These are the actual values passed to the function when it's called.\n",
    "- They are the real data that the parameters take on during the function's execution.\n",
    "\n",
    "Think of a function like a recipe.\n",
    "- Parameters: Are the ingredients listed in the recipe (e.g., flour, sugar, eggs).\n",
    "- Arguments: Are the specific amounts of those ingredients you use when you're actually cooking (e.g., 2 cups of flour, 1 cup of sugar, 3 eggs)."
   ]
  },
  {
   "cell_type": "code",
   "execution_count": 51,
   "id": "83c18c47-3a0e-4533-b5aa-3c8d7aad3863",
   "metadata": {},
   "outputs": [
    {
     "data": {
      "text/plain": [
       "15"
      ]
     },
     "execution_count": 51,
     "metadata": {},
     "output_type": "execute_result"
    }
   ],
   "source": [
    "def add_numbers(x, y): # x and y are parameters\n",
    "    result = x+y\n",
    "    return result\n",
    "\n",
    "#calling the function\n",
    "sum_result=add_numbers(5, 10) # 5 and 10 are arguements\n",
    "sum_result"
   ]
  },
  {
   "cell_type": "code",
   "execution_count": 55,
   "id": "efcc231b-3cdb-4c83-a596-b972b2314ab8",
   "metadata": {},
   "outputs": [
    {
     "data": {
      "text/plain": [
       "300"
      ]
     },
     "execution_count": 55,
     "metadata": {},
     "output_type": "execute_result"
    }
   ],
   "source": [
    "sum_result2=add_numbers(100,200) # 100 and 200 are arguements\n",
    "sum_result2"
   ]
  },
  {
   "cell_type": "markdown",
   "id": "ed09814e-044b-4e7f-b084-108961a6ab3e",
   "metadata": {},
   "source": [
    "**3. What are the different ways to define and call a function in Python?**"
   ]
  },
  {
   "cell_type": "markdown",
   "id": "15496bdc-4a01-41f9-9e01-ad3bb23fd20d",
   "metadata": {},
   "source": [
    "Ways to Define Functions in Python:"
   ]
  },
  {
   "cell_type": "markdown",
   "id": "63ff757d-70ca-40f0-91b5-a3ebdc6bfe49",
   "metadata": {},
   "source": [
    "1. Using def\n",
    "    - This is the most common way to define a function.\n",
    "    - We use the def keyword followed by the function name, parentheses for parameters, and a colon.\n",
    "    - The function body is indented."
   ]
  },
  {
   "cell_type": "markdown",
   "id": "a8474f94-b7ca-4722-95ac-d40ca1441e0a",
   "metadata": {},
   "source": [
    "2. Lambda Functions (Anonymous Functions)\n",
    "    - Lambda functions are small, anonymous functions defined using the lambda keyword.\n",
    "    - They can have any number of arguments but only one expression.\n",
    "    - They are often used for short, simple operations."
   ]
  },
  {
   "cell_type": "code",
   "execution_count": 61,
   "id": "f5e6163f-37ff-4aab-9a53-ca72cc4e42c5",
   "metadata": {},
   "outputs": [],
   "source": [
    "def greet(name):\n",
    "    print(f\"Hello, {name}!\")"
   ]
  },
  {
   "cell_type": "code",
   "execution_count": 64,
   "id": "cdcbbe96-304f-4fbb-bd25-5b7e449c442c",
   "metadata": {},
   "outputs": [],
   "source": [
    "add = lambda x,y: x+y\n",
    "square = lambda x: x*y"
   ]
  },
  {
   "cell_type": "markdown",
   "id": "b5c887ef-9357-471c-a292-071909e79400",
   "metadata": {},
   "source": [
    "Ways to Call Functions in Python:"
   ]
  },
  {
   "cell_type": "markdown",
   "id": "2a8ce522-7253-4e09-ad08-ef15d253e589",
   "metadata": {},
   "source": [
    "1. Direct Function Call\n",
    "   - We call a function by using its name followed by parentheses.\n",
    "   - We provide the arguments inside the parentheses.\n",
    "2. Calling Functions with Different Argument Types\n",
    "   - Positional Arguments: Arguments are passed in the order they're defined.\n",
    "   - Keyword Arguments: Arguments are passed using parameter names.\n",
    "   - Default Arguments: If a parameter has a default value, you can omit the argument."
   ]
  },
  {
   "cell_type": "code",
   "execution_count": 86,
   "id": "c303e430-8794-4f93-9ff9-d477a8894443",
   "metadata": {},
   "outputs": [
    {
     "name": "stdout",
     "output_type": "stream",
     "text": [
      "Hello, alice!\n"
     ]
    }
   ],
   "source": [
    "greet(\"alice\") #calling the greet function\n",
    "sum_result= add(5, 10) # calling the lambda function "
   ]
  },
  {
   "cell_type": "code",
   "execution_count": 92,
   "id": "ee1b0253-f498-49f8-abd4-a7c7c8d5ea86",
   "metadata": {},
   "outputs": [
    {
     "name": "stdout",
     "output_type": "stream",
     "text": [
      "shivam is 22 years old.\n"
     ]
    }
   ],
   "source": [
    "#positional arguements\n",
    "def describe_person(name, age):\n",
    "    print(f\"{name} is {age} years old.\")\n",
    "\n",
    "describe_person(\"shivam\", 22)"
   ]
  },
  {
   "cell_type": "code",
   "execution_count": 94,
   "id": "0828ecc7-96fe-43b3-ba9b-74815ee6fddc",
   "metadata": {},
   "outputs": [
    {
     "name": "stdout",
     "output_type": "stream",
     "text": [
      "shivam is 22 years old.\n"
     ]
    }
   ],
   "source": [
    "#key arguements\n",
    "describe_person(age=22, name=\"shivam\")"
   ]
  },
  {
   "cell_type": "code",
   "execution_count": 103,
   "id": "8184fc35-fe07-4a8f-ab84-627f53c36241",
   "metadata": {},
   "outputs": [
    {
     "name": "stdout",
     "output_type": "stream",
     "text": [
      "10\n",
      "9\n"
     ]
    }
   ],
   "source": [
    "#Default arguements\n",
    "def power(base, exponent=2): #exponent defaults to 2\n",
    "    return base * exponent\n",
    "\n",
    "print(power(5)) #squared (5^2)\n",
    "print(power(3,3)) # 3 cubed (3^3)"
   ]
  },
  {
   "cell_type": "markdown",
   "id": "582d382f-4a0b-448d-b487-32dde4db6118",
   "metadata": {},
   "source": [
    "Calling Functions:\n",
    "1. Directly: my_func(arguments)\n",
    "2. With keywords: my_func(param1=value, param2=value)\n",
    "3. With *args: my_func(*tuple_of_args) (For variable arguments)\n",
    "4. With **kwargs: my_func(**dict_of_kwargs) (For keyword arguments)"
   ]
  },
  {
   "cell_type": "markdown",
   "id": "a6cafc96-e149-4229-bec7-ef302702aeb1",
   "metadata": {},
   "source": [
    "**4. What is the purpose of the `return` statement in a Python function?**"
   ]
  },
  {
   "cell_type": "markdown",
   "id": "d2924382-8bbb-4ca6-8f98-1f7042628965",
   "metadata": {},
   "source": [
    "- The return statement in a Python function sends a value back to the caller and ends the function's execution.\n",
    "- It immediately stops the execution of the function.\n",
    "- It makes the function's calculated or processed result usable in other parts of the program."
   ]
  },
  {
   "cell_type": "code",
   "execution_count": 128,
   "id": "2d562cdd-b1f6-4aed-b6a2-acb42563ef36",
   "metadata": {},
   "outputs": [
    {
     "name": "stdout",
     "output_type": "stream",
     "text": [
      "The discounted price is: 80.0\n"
     ]
    }
   ],
   "source": [
    "#Example: Calculating a Discounted Price\n",
    "def calculate_discounted_price(original_price, discount_percentage):\n",
    "    #calculates the discounted price of an item\n",
    "    discount_amount = (discount_percentage/100) * original_price\n",
    "    discounted_price = original_price - discount_amount\n",
    "    return discounted_price\n",
    "\n",
    "item_price = 100\n",
    "discount = 20\n",
    "final_price = calculate_discounted_price(item_price, discount)\n",
    "print(f\"The discounted price is: {final_price}\")"
   ]
  },
  {
   "cell_type": "code",
   "execution_count": null,
   "id": "ea10f281-86dc-4d9c-8ec9-d1727780484d",
   "metadata": {},
   "outputs": [],
   "source": []
  },
  {
   "cell_type": "markdown",
   "id": "fea0b534-a5f7-4fcf-aa61-205aed9dccb3",
   "metadata": {},
   "source": [
    "**5. What are iterators in Python and how do they differ from iterables?**"
   ]
  },
  {
   "cell_type": "markdown",
   "id": "98c83a59-2a1e-4dae-8ba0-3218aac03830",
   "metadata": {},
   "source": [
    "Iterators:\n",
    "- An iterator is an object that lets you traverse through an iterable's elements.\n",
    "- This is the tool or mechanism that actually does the going through.\n",
    "- It keeps track of the current position and knows how to get the next item.\n",
    "- It's like a bookmark that moves from page to page.\n",
    "- Iterators must be manually progressed with the next() function.\n",
    "- Iterators save memory, because they load one item at a time, instead of the entire collection.\n",
    "- Example: A Playlist\n",
    "    - Iterator (The Play Button/Next Button):\n",
    "    - The play button or the \"next\" button on your music player acts as an iterator.\n",
    "    - It lets you go from one song to the next in the playlist."
   ]
  },
  {
   "cell_type": "markdown",
   "id": "ca74508a-05be-473f-8e16-4b698a793320",
   "metadata": {},
   "source": [
    "Iterable:\n",
    "- This is something you can go through, like a list, tuple, string, or the book itself.\n",
    "- It has a collection of items (pages, words, characters) you can access one by one.\n",
    "- It can be used in a for loop.\n",
    "- An iterable is any object you can get an iterator from.\n",
    "- Example: A Playlist\n",
    "    - Iterable (The Playlist):\n",
    "        -  A playlist on your music app is iterable. It's a collection of songs you can play."
   ]
  },
  {
   "cell_type": "code",
   "execution_count": 135,
   "id": "201a73cb-88a4-4ccc-b528-c8deae82ab8f",
   "metadata": {},
   "outputs": [
    {
     "name": "stdout",
     "output_type": "stream",
     "text": [
      "1\n",
      "2\n",
      "3\n"
     ]
    }
   ],
   "source": [
    "# Iterable (a list)\n",
    "my_list = [1, 2, 3]\n",
    "\n",
    "# Get an iterator from the list\n",
    "my_iterator = iter(my_list)\n",
    "\n",
    "# Access elements using the iterator\n",
    "print(next(my_iterator))  # Output: 1\n",
    "print(next(my_iterator))  # Output: 2\n",
    "print(next(my_iterator))  # Output: 3\n",
    "\n",
    "# if you run one more next(my_iterator) you will get a stopIteration error."
   ]
  },
  {
   "cell_type": "markdown",
   "id": "417fc2ad-eab8-422b-bc07-82578c7c2d98",
   "metadata": {},
   "source": [
    "**6. Explain the concept of generators in Python and how they are defined.**"
   ]
  },
  {
   "cell_type": "markdown",
   "id": "0fc06d49-d5aa-4303-93b1-50011e5878c4",
   "metadata": {},
   "source": [
    "- Generators are a special type of function that produce a sequence of values, one at a time, \"on demand.\"\n",
    "- They don't store the entire sequence in memory; instead, they generate each value when requested.\n",
    "- This makes them very memory-efficient, especially when dealing with large or infinite sequences.\n",
    "- Generators use the \"yield\" keyword\n",
    "- When a generator function encounters a yield statement, it pauses execution and \"yields\" (returns) the value.\n",
    "- The next time the generator is called, it resumes execution from where it left off.\n",
    "- Generators are essentially iterators."
   ]
  },
  {
   "cell_type": "code",
   "execution_count": 141,
   "id": "3b4af27d-6f3c-4d25-8190-178c4d25d9db",
   "metadata": {},
   "outputs": [
    {
     "name": "stdout",
     "output_type": "stream",
     "text": [
      "0\n",
      "1\n",
      "2\n"
     ]
    }
   ],
   "source": [
    "def my_generator(n):\n",
    "    #Generates numbers from 0 to n-1\n",
    "    for i in range(n):\n",
    "        yield i\n",
    "\n",
    "# Using the generator\n",
    "for num in my_generator(3):\n",
    "    print(num)"
   ]
  },
  {
   "cell_type": "markdown",
   "id": "d87c46bb-39f4-47b5-8a1f-07be45442398",
   "metadata": {},
   "source": [
    "**7. What are the advantages of using generators over regular functions?**"
   ]
  },
  {
   "cell_type": "markdown",
   "id": "c1872ae9-c5ae-4d9e-92db-1e607a9a09c5",
   "metadata": {},
   "source": [
    "- Generators produce values on demand, rather than storing an entire sequence in memory. This is known as \"lazy evaluation.\"\n",
    "- Regular functions, on the other hand, typically compute and store all values before returning them.\n",
    "- Generators can simplify code that involves iterating over sequences.\n",
    "- When working with massive datasets or infinite streams, generators can significantly reduce memory usage."
   ]
  },
  {
   "cell_type": "code",
   "execution_count": 148,
   "id": "2b6b9492-8ba2-4d8b-b017-e520abb368e1",
   "metadata": {},
   "outputs": [
    {
     "name": "stdout",
     "output_type": "stream",
     "text": [
      "[1, 4, 9, 16, 25]\n"
     ]
    }
   ],
   "source": [
    "# Regular Function \n",
    "#Creating a list of squares\n",
    "def square_list(nums):\n",
    "  result = []\n",
    "  for num in nums:\n",
    "    result.append(num * num)\n",
    "  return result\n",
    "\n",
    "my_numbers=[1, 2, 3, 4, 5]\n",
    "squares = square_list(my_numbers)\n",
    "print(squares)"
   ]
  },
  {
   "cell_type": "code",
   "execution_count": 158,
   "id": "dcfd1099-166f-4977-9be2-39780732ce3f",
   "metadata": {},
   "outputs": [
    {
     "name": "stdout",
     "output_type": "stream",
     "text": [
      "1\n",
      "4\n",
      "9\n",
      "16\n",
      "25\n",
      "[1, 4, 9, 16, 25]\n"
     ]
    }
   ],
   "source": [
    "# Generator Function \n",
    "# Generating squares on demand\n",
    "def square_generator(nums):\n",
    "  for num in nums:\n",
    "    yield num * num\n",
    "\n",
    "my_numbers = [1, 2, 3, 4, 5]\n",
    "squares = square_generator(my_numbers)\n",
    "# To get the squares, we iterate:\n",
    "for square in squares:\n",
    "  print(square) \n",
    "\n",
    "# Or, if we need them as a list, we can do\n",
    "squares_list = list(square_generator(my_numbers))\n",
    "print(squares_list) "
   ]
  },
  {
   "cell_type": "code",
   "execution_count": null,
   "id": "0b082375-bd4a-42a1-a1cf-643badb38b74",
   "metadata": {},
   "outputs": [],
   "source": []
  },
  {
   "cell_type": "markdown",
   "id": "e54bf549-225d-48cf-a629-72b224eca5c9",
   "metadata": {},
   "source": [
    "**8. What is a lambda function in Python and when is it typically used?**"
   ]
  },
  {
   "cell_type": "markdown",
   "id": "606ec5c5-18a5-4601-8f3a-f4c300629353",
   "metadata": {},
   "source": [
    "- A lambda function in Python is like a tiny, one-line function. It's used when we need a quick, simple function and don't want to bother giving it a name.\n",
    "\n",
    "- Regular functions Are like full recipes with a name and many steps but Lambda functions Are like a quick, single-step instruction.\n",
    "\n",
    "- We usually use them when we need a small function for a short time.\n",
    "\n",
    "- Example: Imagine we have a list of numbers, and we want to sort them. we can tell Python how to sort them using a lambda function:- "
   ]
  },
  {
   "cell_type": "code",
   "execution_count": 55,
   "id": "3ed69a72-a1de-4e9c-9dba-1108433f220f",
   "metadata": {},
   "outputs": [
    {
     "name": "stdout",
     "output_type": "stream",
     "text": [
      "[2, 5, 8, 10]\n"
     ]
    }
   ],
   "source": [
    "numbers = [10, 2, 8, 5]\n",
    "# sorted_numbers = sorted(numbers, key = lambda x: x) \n",
    "sorted_numbers = sorted(numbers) #This function will sort the numbers smallest to largest\n",
    "print(sorted_numbers)\n",
    "#When we're sorting numbers in their natural order, the lambda function isn't needed."
   ]
  },
  {
   "cell_type": "code",
   "execution_count": 61,
   "id": "4eb29279-8d26-4802-8997-dd91ebfefab4",
   "metadata": {},
   "outputs": [
    {
     "name": "stdout",
     "output_type": "stream",
     "text": [
      "[{'name': 'socks', 'price': 10}, {'name': 'shirt', 'price': 25}, {'name': 'jacket', 'price': 30}, {'name': 'pants', 'price': 40}]\n"
     ]
    }
   ],
   "source": [
    "#When we need to sort objects based on a specific attribute, then lambda function is necessary.\n",
    "items = [\n",
    "    {\"name\": \"shirt\", \"price\": 25},\n",
    "    {\"name\": \"pants\", \"price\": 40},\n",
    "    {\"name\": \"socks\", \"price\": 10},\n",
    "    {\"name\": \"jacket\", \"price\": 30}\n",
    "]\n",
    "\n",
    "sorted_items = sorted(items, key=lambda item: item[\"price\"])\n",
    "print(sorted_items)"
   ]
  },
  {
   "cell_type": "code",
   "execution_count": null,
   "id": "a1e6d433-3284-480c-bf5a-38f6f7222dd6",
   "metadata": {},
   "outputs": [],
   "source": []
  },
  {
   "cell_type": "markdown",
   "id": "27717c98-584a-4564-a5f0-6ba5136c804f",
   "metadata": {},
   "source": [
    "**9. Explain the purpose and usage of the `map()` function in Python.**"
   ]
  },
  {
   "cell_type": "markdown",
   "id": "53d412fa-09b7-4d03-8629-0e0843bc44a4",
   "metadata": {},
   "source": [
    "- The map() function in Python lets you apply a function to every item in a list and get a new list with the results.\n",
    "\n",
    "- It's like saying, Do this thing to every item in this group.\n",
    "\n",
    "- The map() function lets you efficiently apply the same operation to every item in a sequence, making your code cleaner and more concise."
   ]
  },
  {
   "cell_type": "code",
   "execution_count": null,
   "id": "76115973-96f9-4d30-9bdb-afbcbf7d6ab8",
   "metadata": {},
   "outputs": [],
   "source": []
  },
  {
   "cell_type": "code",
   "execution_count": 87,
   "id": "2a52e728-951d-4d26-84ec-6ac17c204dd5",
   "metadata": {},
   "outputs": [
    {
     "name": "stdout",
     "output_type": "stream",
     "text": [
      "[2, 4, 6, 8]\n"
     ]
    }
   ],
   "source": [
    "#Function to multiply elements by 2\n",
    "a = [1,2,3,4]\n",
    "def multiplication(a):\n",
    "    return a * 2\n",
    "\n",
    "#using map() to multiply all elements of list by 2\n",
    "b = list(map(multiplication, a))\n",
    "print(b)"
   ]
  },
  {
   "cell_type": "code",
   "execution_count": null,
   "id": "5c45b9e1-663c-4af1-884d-e47896ce8395",
   "metadata": {},
   "outputs": [],
   "source": []
  },
  {
   "cell_type": "markdown",
   "id": "2c1216cb-c3ed-4525-8e68-d92540e4eca1",
   "metadata": {},
   "source": [
    " **10. What is the difference between `map()`, `reduce()`, and `filter()` functions in Python?**"
   ]
  },
  {
   "cell_type": "markdown",
   "id": "9a4507f8-6c2b-4bac-bc0e-ec45c70f9da1",
   "metadata": {},
   "source": [
    "- `map()` Function\n",
    "    - `map()` applies a given function to every item in a list (or other iterable) and creates a new list with the results.\n",
    "\n",
    "    - It Goes through a line of items and doing the same thing to each one."
   ]
  },
  {
   "cell_type": "code",
   "execution_count": 99,
   "id": "f0cb04eb-1523-41ea-a98a-356109cd9cc4",
   "metadata": {},
   "outputs": [
    {
     "name": "stdout",
     "output_type": "stream",
     "text": [
      "[4.75, 9.5, 19.0, 28.5]\n"
     ]
    }
   ],
   "source": [
    "#Imagine we have a list of prices in dollars, and we want to convert them all to euros. \n",
    "#map() helps we do this\n",
    "a = [5, 10, 20, 30]\n",
    "def convert_to_euros(dollars):\n",
    "    return dollars * 0.95\n",
    "\n",
    "b = list(map(convert_to_euros, a))\n",
    "print(b)"
   ]
  },
  {
   "cell_type": "markdown",
   "id": "0f4c3834-96c9-4e1a-a84e-3184a7425162",
   "metadata": {},
   "source": [
    "- `reduce()`Function\n",
    "    - reduce() takes a function and an iterable (such as a list).\n",
    "    - It applies the function to the first two elements of the iterable.\n",
    "    - It takes the result of the first two elements along with the next element and applies the function again.\n",
    "    - It repeats until there is only one element left in the iterable, which is the result."
   ]
  },
  {
   "cell_type": "code",
   "execution_count": 136,
   "id": "34566f03-1f51-4493-8dfb-17a69a1e7858",
   "metadata": {},
   "outputs": [
    {
     "name": "stdout",
     "output_type": "stream",
     "text": [
      "10\n"
     ]
    }
   ],
   "source": [
    "from functools import reduce\n",
    "a = [1,2,3,4]\n",
    "add = reduce(lambda x,y: x+y, a)\n",
    "print(add)"
   ]
  },
  {
   "cell_type": "code",
   "execution_count": 138,
   "id": "8d517d92-c074-4d52-8455-b9059b2f8460",
   "metadata": {},
   "outputs": [
    {
     "name": "stdout",
     "output_type": "stream",
     "text": [
      "My name is Shivam\n"
     ]
    }
   ],
   "source": [
    "words = [\"My\", \"name\", \"is\", \"Shivam\"]\n",
    "add_words = reduce(lambda x,y: x+\" \"+y, words)\n",
    "print(add_words)"
   ]
  },
  {
   "cell_type": "markdown",
   "id": "224d2c3c-3ecf-484d-9efe-c8a61b023afc",
   "metadata": {},
   "source": [
    "- `filter()` Function:\n",
    "    -  The filter() function is a tool in Python that helps you select only those elements from a list (or other iterable) that satisfy a certain condition.\n",
    "    -  This works by using a function that tests each element, and only keeping the elements for which the function returns True .\n",
    "    -  synatx: filter(function, iterable)"
   ]
  },
  {
   "cell_type": "code",
   "execution_count": 152,
   "id": "8ca95c60-1fba-4b7a-9e36-977190930519",
   "metadata": {},
   "outputs": [
    {
     "name": "stdout",
     "output_type": "stream",
     "text": [
      "[{'name': 'Shivam', 'marks': 85}, {'name': 'Hari', 'marks': 90}]\n"
     ]
    }
   ],
   "source": [
    "students_results = [{\"name\":\"Shivam\", \"marks\":85},\n",
    "                   {\"name\":\"ravi\", \"marks\": 75},\n",
    "                   {\"nmae\":\"sonu\", \"marks\":45},\n",
    "                   {\"name\":\"Hari\", \"marks\":90}]\n",
    "\n",
    "top_students = list(filter(lambda x: x[\"marks\"] > 80, students_results))\n",
    "print(top_students)"
   ]
  },
  {
   "cell_type": "code",
   "execution_count": null,
   "id": "2f4b9dcd-512d-4a91-948b-c0b100f54050",
   "metadata": {},
   "outputs": [],
   "source": []
  },
  {
   "cell_type": "markdown",
   "id": "aa6681d7-281c-412a-9548-103ba1e8166d",
   "metadata": {},
   "source": [
    "**11. Using pen & Paper write the internal mechanism for sum operation using  reduce function on this given  list:[47,11,42,13].**"
   ]
  },
  {
   "cell_type": "markdown",
   "id": "69c493e6-4921-4b38-beeb-c2883f1c0d68",
   "metadata": {},
   "source": [
    "![alt text](11.jpg)"
   ]
  },
  {
   "cell_type": "code",
   "execution_count": 161,
   "id": "ccf56a96-f1b6-4246-a3e9-c1e85eb95711",
   "metadata": {},
   "outputs": [
    {
     "name": "stdout",
     "output_type": "stream",
     "text": [
      "113\n"
     ]
    }
   ],
   "source": [
    "a = [47, 11, 42, 13]\n",
    "from functools import reduce\n",
    "sum_a = reduce(lambda x, y: x + y, a)\n",
    "print(sum_a)"
   ]
  },
  {
   "cell_type": "code",
   "execution_count": null,
   "id": "dbf71fdf-666d-4f5c-a18e-8650d1ee3e7f",
   "metadata": {},
   "outputs": [],
   "source": []
  },
  {
   "cell_type": "markdown",
   "id": "b74df4d4-e617-4251-ac6b-0d2de546e0ef",
   "metadata": {},
   "source": [
    "# Practical Questions"
   ]
  },
  {
   "cell_type": "markdown",
   "id": "3aa47bd0-595a-4753-a53b-311366180ca3",
   "metadata": {},
   "source": [
    "**1. Write a Python function that takes a list of numbers as input and returns the sum of all even numbers in \n",
    "the list.**"
   ]
  },
  {
   "cell_type": "code",
   "execution_count": 178,
   "id": "2e4f8d01-1285-4f80-b903-c3e8ca702d38",
   "metadata": {},
   "outputs": [
    {
     "name": "stdout",
     "output_type": "stream",
     "text": [
      "30\n"
     ]
    }
   ],
   "source": [
    "numbers = [1, 2, 3, 4, 5, 6, 7, 8, 9, 10] \n",
    "def sum_of_even_numbers(numbers): #This function takes a list of numbers as input\n",
    "    even_sum = 0 #A variable even_sum is initialized to 0, which will store the sum of the \n",
    "    #even numbers\n",
    "    for number in numbers: #This loops through each number in the list\n",
    "        if number % 2 == 0: #This checks if the number is divisible by 2. If it is, \n",
    "            #then it is an even number\n",
    "            even_sum += number # If the number is even, it is added to even_sum\n",
    "    return even_sum #After the loop, the function returns the sum of the even numbers.\n",
    "\n",
    "result = sum_of_even_numbers(numbers) \n",
    "print(result)"
   ]
  },
  {
   "cell_type": "code",
   "execution_count": null,
   "id": "87cef53d-229e-4d9a-ac26-5165cb26648e",
   "metadata": {},
   "outputs": [],
   "source": []
  },
  {
   "cell_type": "markdown",
   "id": "6f15e3ea-746d-43f4-9e9c-53cdeacbcd56",
   "metadata": {},
   "source": [
    "**2. Create a Python function that accepts a string and returns the reverse of that string.**"
   ]
  },
  {
   "cell_type": "code",
   "execution_count": 203,
   "id": "3f932ded-c111-4991-b6d0-41254ff57a4f",
   "metadata": {},
   "outputs": [
    {
     "name": "stdout",
     "output_type": "stream",
     "text": [
      "olleH\n"
     ]
    }
   ],
   "source": [
    "def reverse_string(string):\n",
    "    return string[::-1]\n",
    "\n",
    "string = \"Hello\"\n",
    "b = reverse_string(string)\n",
    "print(b)"
   ]
  },
  {
   "cell_type": "code",
   "execution_count": null,
   "id": "03f7bfe2-0161-401d-b174-2ba12fb838a1",
   "metadata": {},
   "outputs": [],
   "source": []
  },
  {
   "cell_type": "markdown",
   "id": "fcba068a-52f8-4858-9ab6-5ea5c796f32d",
   "metadata": {},
   "source": [
    "**3. Implement a Python function that takes a list of integers and returns a new list containing the squares of each number.**"
   ]
  },
  {
   "cell_type": "code",
   "execution_count": 212,
   "id": "f0bec424-6586-469c-a3c9-d082136ed402",
   "metadata": {},
   "outputs": [
    {
     "name": "stdout",
     "output_type": "stream",
     "text": [
      "[1, 4, 9, 16, 25]\n"
     ]
    }
   ],
   "source": [
    "def square_numbers(numbers):\n",
    "    squared_list = []\n",
    "    for number in numbers:\n",
    "        squared_list.append(number ** 2)\n",
    "    return squared_list\n",
    "\n",
    "numbers = [1, 2, 3, 4, 5]\n",
    "result = square_numbers(numbers)\n",
    "print(result)"
   ]
  },
  {
   "cell_type": "code",
   "execution_count": null,
   "id": "9dd81ebc-d76e-4c12-92b1-bb5626d7dae3",
   "metadata": {},
   "outputs": [],
   "source": []
  },
  {
   "cell_type": "markdown",
   "id": "3e1812d7-0715-472f-90b6-4c306cdaf136",
   "metadata": {},
   "source": [
    "**4. Write a Python function that checks if a given number is prime or not from 1 to 200.**"
   ]
  },
  {
   "cell_type": "code",
   "execution_count": 3,
   "id": "5d18e8e3-08b7-4762-9001-26bce57278d0",
   "metadata": {},
   "outputs": [
    {
     "name": "stdout",
     "output_type": "stream",
     "text": [
      "2\n",
      "3\n",
      "5\n",
      "7\n",
      "11\n",
      "13\n",
      "17\n",
      "19\n",
      "23\n",
      "29\n",
      "31\n",
      "37\n",
      "41\n",
      "43\n",
      "47\n",
      "53\n",
      "59\n",
      "61\n",
      "67\n",
      "71\n",
      "73\n",
      "79\n",
      "83\n",
      "89\n",
      "97\n",
      "101\n",
      "103\n",
      "107\n",
      "109\n",
      "113\n",
      "127\n",
      "131\n",
      "137\n",
      "139\n",
      "149\n",
      "151\n",
      "157\n",
      "163\n",
      "167\n",
      "173\n",
      "179\n",
      "181\n",
      "191\n",
      "193\n",
      "197\n",
      "199\n"
     ]
    }
   ],
   "source": [
    "def is_prime(num): #This function determines whether a given number (num) is a prime number or not.\n",
    "    if num <= 1: # If the number is less than or equal to 1, it returns False\n",
    "        #This is because 1 and numbers less than 1 are not prime.\n",
    "        return False\n",
    "    for i in range(2, int(num ** 0.5) + 1): \n",
    "        if num % i == 0:\n",
    "            return False\n",
    "    return True \n",
    "\n",
    "for number in range(1, 200):\n",
    "    if is_prime(number):\n",
    "        print(number)"
   ]
  },
  {
   "cell_type": "markdown",
   "id": "115e26b9-3e3d-41d5-a9a9-24015279e21f",
   "metadata": {},
   "source": [
    "**5. Create an iterator class in Python that generates the Fibonacci sequence up to a specified number of terms.**"
   ]
  },
  {
   "cell_type": "code",
   "execution_count": 10,
   "id": "061c35f8-dd1f-454d-b618-954c41df5030",
   "metadata": {},
   "outputs": [
    {
     "name": "stdout",
     "output_type": "stream",
     "text": [
      "[0, 1, 1, 2, 3]\n"
     ]
    }
   ],
   "source": [
    "def fibonacci_series(specified_number): #this is function\n",
    "    fibonacci_list = [] #this is a empty list for store fibonacci series\n",
    "    a, b = 0, 1 # this will start fibonacci series from 0, 1 which are the first term of fibonacci\n",
    "    for _ in range(specified_number): # \n",
    "        fibonacci_list.append(a) \n",
    "        a, b = b, a+b\n",
    "    return fibonacci_list\n",
    "\n",
    "fibonacci_sequence = fibonacci_series(5)\n",
    "print(fibonacci_sequence)"
   ]
  },
  {
   "cell_type": "code",
   "execution_count": null,
   "id": "98645c4c-6192-4f8d-99d4-8315c74ba9a4",
   "metadata": {},
   "outputs": [],
   "source": []
  },
  {
   "cell_type": "markdown",
   "id": "18fed41e-65c5-4d12-a341-46dedf460a84",
   "metadata": {},
   "source": [
    "**6. Write a generator function in Python that yields the powers of 2 up to a given exponent.**"
   ]
  },
  {
   "cell_type": "code",
   "execution_count": 23,
   "id": "c1e49f6f-08f2-428e-8add-dd82b54a4abe",
   "metadata": {},
   "outputs": [
    {
     "name": "stdout",
     "output_type": "stream",
     "text": [
      "1\n",
      "2\n",
      "4\n",
      "8\n",
      "16\n",
      "32\n"
     ]
    }
   ],
   "source": [
    "def powers_of_two(exponent):\n",
    "    for i in range(exponent + 1):\n",
    "        yield 2 ** i\n",
    "\n",
    "for power in powers_of_two(5):\n",
    "    print(power)"
   ]
  },
  {
   "cell_type": "code",
   "execution_count": null,
   "id": "96758351-a15e-4d8b-8bb0-bc953750fa86",
   "metadata": {},
   "outputs": [],
   "source": []
  },
  {
   "cell_type": "markdown",
   "id": "2e038942-1c7d-4dcd-a82a-680594f64c83",
   "metadata": {},
   "source": [
    "**7. Implement a generator function that reads a file line by line and yields each line as a string.**"
   ]
  },
  {
   "cell_type": "code",
   "execution_count": 31,
   "id": "e36b8659-0df5-4422-b15d-64e4e2019746",
   "metadata": {},
   "outputs": [
    {
     "name": "stdout",
     "output_type": "stream",
     "text": [
      "laptop,2,1200\n",
      "mouse,10,20\n",
      "keyword,5,50\n",
      "sales data not found.\n"
     ]
    }
   ],
   "source": [
    "def process_sales_data_simple(sales_file):\n",
    "    try:\n",
    "        file = open(sales_file, 'r')\n",
    "        for line in file:\n",
    "            print(line.strip())\n",
    "        file.close()\n",
    "    except FileNotFoundError:\n",
    "        print(\"sales data not found.\")\n",
    "\n",
    "with open (\"simple_sales_data.text\", \"w\") as f:\n",
    "    f.write(\"laptop,2,1200\\n\")\n",
    "    f.write(\"mouse,10,20\\n\")\n",
    "    f.write(\"keyword,5,50\\n\")\n",
    "\n",
    "process_sales_data_simple(\"simple_sales_data.text\")\n",
    "process_sales_data_simple(\"missing_file.text\")\n",
    "#This code reads the \"sales records\" of a store and returns them. \n",
    "#If the records are not found, it returns \"records not found\"."
   ]
  },
  {
   "cell_type": "code",
   "execution_count": null,
   "id": "c5686a45-cedc-4b1b-b15b-c351f95c55e9",
   "metadata": {},
   "outputs": [],
   "source": []
  },
  {
   "cell_type": "markdown",
   "id": "3bcb0f38-29b5-4ad4-9c88-41a6a49d06e4",
   "metadata": {},
   "source": [
    "**8. Use a lambda function in Python to sort a list of tuples based on the second element of each tuple.**"
   ]
  },
  {
   "cell_type": "code",
   "execution_count": 48,
   "id": "a9e99a53-1477-4165-ad56-1ad16842e320",
   "metadata": {},
   "outputs": [
    {
     "name": "stdout",
     "output_type": "stream",
     "text": [
      "[('rahul', 15), ('shivam', 25), ('ravi', 30), ('hari', 40)]\n"
     ]
    }
   ],
   "source": [
    "students = [(\"shivam\",25),\n",
    "           (\"rahul\",15),\n",
    "           (\"ravi\",30),\n",
    "           (\"hari\",40)]\n",
    "\n",
    "sorted_students = sorted(students,key=lambda student: student[1])\n",
    "print(sorted_students)\n",
    "#We have a list of students, and we want to arrange them based on their marks.\n",
    "#We use a \"lambda function\" to tell Python that we want to sort by marks. \n",
    "#Python arranges the students based on their marks, and then we display the arranged list."
   ]
  },
  {
   "cell_type": "code",
   "execution_count": null,
   "id": "f9b553c2-4fb0-4adb-9aac-63ab1dfb8cc1",
   "metadata": {},
   "outputs": [],
   "source": []
  },
  {
   "cell_type": "markdown",
   "id": "bfa830ef-5393-446e-a550-75ed5839861c",
   "metadata": {},
   "source": [
    "**9. Write a Python program that uses `map()` to convert a list of temperatures from Celsius to Fahrenheit.**"
   ]
  },
  {
   "cell_type": "code",
   "execution_count": 80,
   "id": "5d411946-4763-45b0-8830-6db1674eb4de",
   "metadata": {},
   "outputs": [
    {
     "name": "stdout",
     "output_type": "stream",
     "text": [
      "temp_in_celsius: [25, 10, 0, -5, 30]\n",
      "temp_in_fahrenheit: [77.0, 50.0, 32.0, 23.0, 86.0]\n"
     ]
    }
   ],
   "source": [
    "def celsius_to_fahrenheit(celsius):\n",
    "    return (celsius*9/5)+32\n",
    "\n",
    "def convert_to_temp(celsius_temp):\n",
    "    fahrenheit_temp=list(map(celsius_to_fahrenheit, celsius_temp))\n",
    "    return fahrenheit_temp\n",
    "\n",
    "temp_in_celsius=[25, 10, 0, -5, 30]\n",
    "temp_in_fahrenheit=convert_to_temp(temp_in_celsius)\n",
    "\n",
    "print(\"temp_in_celsius:\", temp_in_celsius)\n",
    "print(\"temp_in_fahrenheit:\", temp_in_fahrenheit)"
   ]
  },
  {
   "cell_type": "code",
   "execution_count": null,
   "id": "e18c3a5b-8a1c-4ade-8bb1-083c96ae1273",
   "metadata": {},
   "outputs": [],
   "source": []
  },
  {
   "cell_type": "markdown",
   "id": "fd491bb0-6fbe-4160-a59f-95a2822c65c2",
   "metadata": {},
   "source": [
    "**10. Create a Python program that uses `filter()` to remove all the vowels from a given string.**"
   ]
  },
  {
   "cell_type": "code",
   "execution_count": 11,
   "id": "160d8078-3ebf-46ce-b200-aa56e3152e52",
   "metadata": {},
   "outputs": [
    {
     "name": "stdout",
     "output_type": "stream",
     "text": [
      "My nm s Shvm\n"
     ]
    }
   ],
   "source": [
    "def removing_vowels(input_string): #this is a function which will take an input\n",
    "    vowels=\"aeiouAEIOU\" #this is a variable where all vowels are stored in a string \n",
    "    result=\"\".join(filter(lambda char: char not in vowels, input_string)) \n",
    "    #this is a function which will filter something from a string\n",
    "    return result # this function will return result means when we call this function then we will \n",
    "#get that string where vowels The vowels have been removed\n",
    "\n",
    "input_string = \"My name is Shivam\" #this is string\n",
    "output_string = removing_vowels(input_string) # here we are calling the function which we remove the \n",
    "#vowels from input_string\n",
    "print(output_string) #this will print the vowel removed string "
   ]
  },
  {
   "cell_type": "code",
   "execution_count": null,
   "id": "4c80a1e4-88d3-4bba-85f8-a7993f389774",
   "metadata": {},
   "outputs": [],
   "source": []
  },
  {
   "cell_type": "markdown",
   "id": "bd6e65f8-f8da-4130-9176-1419fee0c8c0",
   "metadata": {},
   "source": [
    "**11. Imagine an accounting routine used in a book shop. It works on a list with sublists, which look like this:**"
   ]
  },
  {
   "cell_type": "markdown",
   "id": "8db78189-7409-4ccf-a454-64b37405a407",
   "metadata": {},
   "source": [
    "![alt text](Q.11.jpg)"
   ]
  },
  {
   "cell_type": "markdown",
   "id": "9058b8a3-be43-4c31-a098-f5e1c615fa27",
   "metadata": {},
   "source": [
    "Write a Python program, which returns a list with 2-tuples. Each tuple consists of the order number and the product of the price per item and the quantity. The product should be increased by 10,- € if the value of the order is smaller than 100,00 €."
   ]
  },
  {
   "cell_type": "markdown",
   "id": "5e09a3d3-8be8-4cc0-be67-85c70e6f3338",
   "metadata": {},
   "source": [
    "**Ans:-**"
   ]
  },
  {
   "cell_type": "code",
   "execution_count": 19,
   "id": "5457fbec-cc32-45bb-a4dd-952155defcaa",
   "metadata": {},
   "outputs": [
    {
     "name": "stdout",
     "output_type": "stream",
     "text": [
      "[(34587, 163.8), (98762, 284.0), (77226, 108.85000000000001), (88112, 84.97)]\n"
     ]
    }
   ],
   "source": [
    "order = [[34587, \"Learning Python, Mark Lutz\", 4, 40.95],\n",
    "         [98762, \"Programming Python, Mark Lutz\", 5, 56.80],\n",
    "         [77226, \"Head First Python, Paul Barry\", 3, 32.95],\n",
    "         [88112, \"Einfuhrung in Python3, Bernd Klein\", 3, 24.99]\n",
    "        ]\n",
    "# accounting_routine\n",
    "# order\n",
    "result=list(map(lambda order: (order[0], order[2] * order[3] + 10 if order[2] * order[3] < 100 else order[2] * order[3]),order))\n",
    "print(result)"
   ]
  },
  {
   "cell_type": "code",
   "execution_count": null,
   "id": "03a64d2e-d4eb-4a5f-88d6-d3cd8f9844f2",
   "metadata": {},
   "outputs": [],
   "source": []
  },
  {
   "cell_type": "code",
   "execution_count": null,
   "id": "d808897c-f46e-4104-acf9-9772c465c477",
   "metadata": {},
   "outputs": [],
   "source": []
  }
 ],
 "metadata": {
  "kernelspec": {
   "display_name": "Python 3 (ipykernel)",
   "language": "python",
   "name": "python3"
  },
  "language_info": {
   "codemirror_mode": {
    "name": "ipython",
    "version": 3
   },
   "file_extension": ".py",
   "mimetype": "text/x-python",
   "name": "python",
   "nbconvert_exporter": "python",
   "pygments_lexer": "ipython3",
   "version": "3.12.7"
  }
 },
 "nbformat": 4,
 "nbformat_minor": 5
}
